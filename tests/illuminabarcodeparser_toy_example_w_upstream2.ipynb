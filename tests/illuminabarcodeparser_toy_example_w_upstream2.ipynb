{
 "cells": [
  {
   "cell_type": "markdown",
   "metadata": {},
   "source": [
    "# Toy example with `IlluminaBarcodeParser` containing an `upstream2` sequence\n",
    "This example illustrates use of a [IlluminaBarcodeParser](https://jbloomlab.github.io/dms_variants/dms_variants.illuminabarcodeparser.html#dms_variants.illuminabarcodeparser.IlluminaBarcodeParser) on a toy example.\n",
    "\n",
    "It is written primarily as a test for that class.\n",
    "\n",
    "Import required modules:"
   ]
  },
  {
   "cell_type": "code",
   "execution_count": 1,
   "metadata": {
    "execution": {
     "iopub.execute_input": "2024-04-10T22:17:38.979735Z",
     "iopub.status.busy": "2024-04-10T22:17:38.979371Z",
     "iopub.status.idle": "2024-04-10T22:17:39.999532Z",
     "shell.execute_reply": "2024-04-10T22:17:39.998756Z",
     "shell.execute_reply.started": "2024-04-10T22:17:38.979703Z"
    }
   },
   "outputs": [],
   "source": [
    "import tempfile\n",
    "\n",
    "from dms_variants.illuminabarcodeparser import IlluminaBarcodeParser"
   ]
  },
  {
   "cell_type": "markdown",
   "metadata": {},
   "source": [
    "Initialize an `IlluminaBarcodeParser` for a barcode arrangement that looks like this:\n",
    "\n",
    "    5'-[R2 binding site]-GCA-ACATGA-NNNN-[R1 binding site]-3'"
   ]
  },
  {
   "cell_type": "code",
   "execution_count": 2,
   "metadata": {
    "execution": {
     "iopub.execute_input": "2024-04-10T22:17:40.003968Z",
     "iopub.status.busy": "2024-04-10T22:17:40.003644Z",
     "iopub.status.idle": "2024-04-10T22:17:40.011300Z",
     "shell.execute_reply": "2024-04-10T22:17:40.010467Z",
     "shell.execute_reply.started": "2024-04-10T22:17:40.003937Z"
    }
   },
   "outputs": [],
   "source": [
    "parser = IlluminaBarcodeParser(bclen=4, upstream=\"ACATGA\", upstream2=\"GCA\")"
   ]
  },
  {
   "cell_type": "markdown",
   "metadata": {},
   "source": [
    "Create temporary file holding the FASTQ reads.\n",
    "We write some valid test reads and some invalid reads. \n",
    "The header for each read explains why it is valid / invalid. \n",
    "We use quality scores of ``?`` (30) or ``+`` (10) for high- and low-quality bases:"
   ]
  },
  {
   "cell_type": "code",
   "execution_count": 3,
   "metadata": {
    "execution": {
     "iopub.execute_input": "2024-04-10T22:17:40.015148Z",
     "iopub.status.busy": "2024-04-10T22:17:40.014722Z",
     "iopub.status.idle": "2024-04-10T22:17:40.022961Z",
     "shell.execute_reply": "2024-04-10T22:17:40.022166Z",
     "shell.execute_reply.started": "2024-04-10T22:17:40.015118Z"
    }
   },
   "outputs": [],
   "source": [
    "r1file = tempfile.NamedTemporaryFile(mode=\"w\")\n",
    "\n",
    "# valid TACG barcode, full flanking regions\n",
    "_ = r1file.write(\"@valid_CGTA_barcode\\n\" \"CGTATCATGTTGC\\n\" \"+\\n\" \"?????????????\\n\")\n",
    "\n",
    "# valid CGTA barcode, partial flanking regions\n",
    "_ = r1file.write(\n",
    "    \"@valid_CGTA_barcode_partial_flanking_region\\n\"\n",
    "    \"CGTATCATTGC\\n\"\n",
    "    \"+\\n\"\n",
    "    \"???????????\\n\"\n",
    ")\n",
    "\n",
    "# valid GCCG barcode, extended flanking regions\n",
    "_ = r1file.write(\n",
    "    \"@valid_GCCG_barcode_extended_flanking_region\\n\"\n",
    "    \"GCCGTCATGTTGCCAA\\n\"\n",
    "    \"+\\n\"\n",
    "    \"????????????????\\n\"\n",
    ")\n",
    "\n",
    "# some sites low quality\n",
    "_ = r1file.write(\"@low_quality_site\\n\" \"CGTATCATGTTGC\\n\" \"+\\n\" \"???+?????????\\n\")\n",
    "\n",
    "# N in barcode\n",
    "_ = r1file.write(\"@N_in_barcode\\n\" \"CGTNTCATGTTGC\\n\" \"+\\n\" \"?????????????\\n\")\n",
    "\n",
    "# GGAG barcode, one mismatch in flanking region\n",
    "_ = r1file.write(\n",
    "    \"@GGAG_barcode_one_mismatch_in_upstream\\n\" \"GGAGTCATGATGC\\n\" \"+\\n\" \"?????????????\\n\"\n",
    ")\n",
    "\n",
    "# GGTG barcode, mismatch in both upstream regions\n",
    "_ = r1file.write(\n",
    "    \"@GGTG_barcode_two_mismatch_in_upstream_and_upstream2\\n\"\n",
    "    \"GGTGTCATGATGG\\n\"\n",
    "    \"+\\n\"\n",
    "    \"?????????????\\n\"\n",
    ")\n",
    "\n",
    "r1file.flush()"
   ]
  },
  {
   "cell_type": "markdown",
   "metadata": {},
   "source": [
    "Parse the barcodes using both R1 and R2 reads:"
   ]
  },
  {
   "cell_type": "code",
   "execution_count": 4,
   "metadata": {
    "execution": {
     "iopub.execute_input": "2024-04-10T22:17:40.026647Z",
     "iopub.status.busy": "2024-04-10T22:17:40.026403Z",
     "iopub.status.idle": "2024-04-10T22:17:40.039583Z",
     "shell.execute_reply": "2024-04-10T22:17:40.038894Z",
     "shell.execute_reply.started": "2024-04-10T22:17:40.026620Z"
    }
   },
   "outputs": [
    {
     "name": "stdout",
     "output_type": "stream",
     "text": [
      "  barcode  count\n",
      "0    CGTA      1\n",
      "1    GCCG      1\n",
      "                     fate  count\n",
      "0     unparseable barcode      3\n",
      "1           valid barcode      2\n",
      "2     low quality barcode      1\n",
      "3          read too short      1\n",
      "4  failed chastity filter      0\n",
      "5         invalid barcode      0\n"
     ]
    }
   ],
   "source": [
    "barcodes, fates = parser.parse(r1file.name)\n",
    "print(barcodes)\n",
    "print(fates)"
   ]
  },
  {
   "cell_type": "markdown",
   "metadata": {},
   "source": [
    "Now create a parser that allows mismatch in `upstream`, and check that we recover barcode:"
   ]
  },
  {
   "cell_type": "code",
   "execution_count": 5,
   "metadata": {
    "execution": {
     "iopub.execute_input": "2024-04-10T22:17:40.042962Z",
     "iopub.status.busy": "2024-04-10T22:17:40.042642Z",
     "iopub.status.idle": "2024-04-10T22:17:40.056823Z",
     "shell.execute_reply": "2024-04-10T22:17:40.056209Z",
     "shell.execute_reply.started": "2024-04-10T22:17:40.042936Z"
    },
    "scrolled": true
   },
   "outputs": [
    {
     "name": "stdout",
     "output_type": "stream",
     "text": [
      "  barcode  count\n",
      "0    CGTA      1\n",
      "1    GCCG      1\n",
      "2    GGAG      1\n",
      "                     fate  count\n",
      "0           valid barcode      3\n",
      "1     unparseable barcode      2\n",
      "2     low quality barcode      1\n",
      "3          read too short      1\n",
      "4  failed chastity filter      0\n",
      "5         invalid barcode      0\n"
     ]
    }
   ],
   "source": [
    "parser_mismatch = IlluminaBarcodeParser(\n",
    "    bclen=4,\n",
    "    upstream=\"ACATGA\",\n",
    "    upstream2=\"GCA\",\n",
    "    upstream_mismatch=1,\n",
    ")\n",
    "barcodes_mismatch, fates_mismatch = parser_mismatch.parse(r1file.name)\n",
    "print(barcodes_mismatch)\n",
    "print(fates_mismatch)"
   ]
  },
  {
   "cell_type": "markdown",
   "metadata": {},
   "source": [
    "Now classify outer flank failures differently from unparseable barcodes:"
   ]
  },
  {
   "cell_type": "code",
   "execution_count": 6,
   "metadata": {
    "execution": {
     "iopub.execute_input": "2024-04-10T22:17:40.058324Z",
     "iopub.status.busy": "2024-04-10T22:17:40.057954Z",
     "iopub.status.idle": "2024-04-10T22:17:40.069187Z",
     "shell.execute_reply": "2024-04-10T22:17:40.068353Z",
     "shell.execute_reply.started": "2024-04-10T22:17:40.058295Z"
    },
    "scrolled": true
   },
   "outputs": [
    {
     "name": "stdout",
     "output_type": "stream",
     "text": [
      "  barcode  count\n",
      "0    CGTA      1\n",
      "1    GCCG      1\n",
      "2    GGAG      1\n",
      "                     fate  count\n",
      "0           valid barcode      3\n",
      "1     invalid outer flank      1\n",
      "2     low quality barcode      1\n",
      "3          read too short      1\n",
      "4     unparseable barcode      1\n",
      "5  failed chastity filter      0\n",
      "6         invalid barcode      0\n"
     ]
    }
   ],
   "source": [
    "parser_mismatch = IlluminaBarcodeParser(\n",
    "    bclen=4,\n",
    "    upstream=\"ACATGA\",\n",
    "    upstream2=\"GCA\",\n",
    "    upstream_mismatch=1,\n",
    ")\n",
    "barcodes_mismatch, fates_mismatch = parser_mismatch.parse(r1file.name, outer_flank_fates=True)\n",
    "print(barcodes_mismatch)\n",
    "print(fates_mismatch)"
   ]
  },
  {
   "cell_type": "markdown",
   "metadata": {},
   "source": [
    "Now create a parser that allows mismatch in `upstream` and `upstream2`, and check that we recover barcode:"
   ]
  },
  {
   "cell_type": "code",
   "execution_count": 7,
   "metadata": {
    "execution": {
     "iopub.execute_input": "2024-04-10T22:17:40.070486Z",
     "iopub.status.busy": "2024-04-10T22:17:40.070109Z",
     "iopub.status.idle": "2024-04-10T22:17:40.082614Z",
     "shell.execute_reply": "2024-04-10T22:17:40.081961Z",
     "shell.execute_reply.started": "2024-04-10T22:17:40.070458Z"
    }
   },
   "outputs": [
    {
     "name": "stdout",
     "output_type": "stream",
     "text": [
      "  barcode  count\n",
      "0    CGTA      1\n",
      "1    GCCG      1\n",
      "2    GGAG      1\n",
      "3    GGTG      1\n",
      "                     fate  count\n",
      "0           valid barcode      4\n",
      "1     low quality barcode      1\n",
      "2          read too short      1\n",
      "3     unparseable barcode      1\n",
      "4  failed chastity filter      0\n",
      "5         invalid barcode      0\n"
     ]
    }
   ],
   "source": [
    "parser_mismatch = IlluminaBarcodeParser(\n",
    "    bclen=4,\n",
    "    upstream=\"ACATGA\",\n",
    "    upstream2=\"GCA\",\n",
    "    upstream_mismatch=1,\n",
    "    upstream2_mismatch=1,\n",
    ")\n",
    "barcodes_mismatch, fates_mismatch = parser_mismatch.parse(r1file.name)\n",
    "print(barcodes_mismatch)\n",
    "print(fates_mismatch)"
   ]
  },
  {
   "cell_type": "markdown",
   "metadata": {},
   "source": [
    "Close the temporary file:"
   ]
  },
  {
   "cell_type": "code",
   "execution_count": 8,
   "metadata": {
    "execution": {
     "iopub.execute_input": "2024-04-10T22:17:40.083879Z",
     "iopub.status.busy": "2024-04-10T22:17:40.083467Z",
     "iopub.status.idle": "2024-04-10T22:17:40.087525Z",
     "shell.execute_reply": "2024-04-10T22:17:40.086863Z",
     "shell.execute_reply.started": "2024-04-10T22:17:40.083850Z"
    }
   },
   "outputs": [],
   "source": [
    "r1file.close()"
   ]
  },
  {
   "cell_type": "code",
   "execution_count": null,
   "metadata": {},
   "outputs": [],
   "source": []
  }
 ],
 "metadata": {
  "kernelspec": {
   "display_name": "Python 3 (ipykernel)",
   "language": "python",
   "name": "python3"
  },
  "language_info": {
   "codemirror_mode": {
    "name": "ipython",
    "version": 3
   },
   "file_extension": ".py",
   "mimetype": "text/x-python",
   "name": "python",
   "nbconvert_exporter": "python",
   "pygments_lexer": "ipython3",
   "version": "3.11.7"
  },
  "toc": {
   "base_numbering": 1,
   "nav_menu": {},
   "number_sections": false,
   "sideBar": true,
   "skip_h1_title": false,
   "title_cell": "Table of Contents",
   "title_sidebar": "Contents",
   "toc_cell": false,
   "toc_position": {},
   "toc_section_display": true,
   "toc_window_display": false
  }
 },
 "nbformat": 4,
 "nbformat_minor": 4
}
