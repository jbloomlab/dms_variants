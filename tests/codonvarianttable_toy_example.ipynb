{
 "cells": [
  {
   "cell_type": "markdown",
   "metadata": {},
   "source": [
    "# Toy example with `CodonVariantTable`\n",
    "This example illustrates use of a [CodonVariantTable](https://jbloomlab.github.io/dms_variants/dms_variants.codonvarianttable.html#dms_variants.codonvarianttable.CodonVariantTable) on a toy example.\n",
    "\n",
    "It is written primarily as a test for that class.\n",
    "\n",
    "Import required modules:"
   ]
  },
  {
   "cell_type": "code",
   "execution_count": 1,
   "metadata": {},
   "outputs": [],
   "source": [
    "import os\n",
    "import tempfile\n",
    "\n",
    "import pandas as pd\n",
    "\n",
    "from dms_variants.codonvarianttable import CodonVariantTable"
   ]
  },
  {
   "cell_type": "markdown",
   "metadata": {},
   "source": [
    "Initialize a toy `CodonVariantTable` for a short gene:"
   ]
  },
  {
   "cell_type": "code",
   "execution_count": 2,
   "metadata": {},
   "outputs": [],
   "source": [
    "geneseq = \"ATGGGATGA\"\n",
    "\n",
    "with tempfile.NamedTemporaryFile(mode=\"w\") as f:\n",
    "    _ = f.write(\n",
    "        \"library,barcode,substitutions,variant_call_support\\n\"\n",
    "        \"lib_1,AAC,,2\\n\"\n",
    "        \"lib_1,GAT,G4C A6C,1\\n\"\n",
    "        \"lib_2,AAC,T2A G4T,2\\n\"\n",
    "        \"lib_2,CAT,A6C,3\"\n",
    "    )\n",
    "    f.flush()\n",
    "    variants = CodonVariantTable(barcode_variant_file=f.name, geneseq=geneseq)"
   ]
  },
  {
   "cell_type": "markdown",
   "metadata": {},
   "source": [
    "Check attributes of the `CodonVariantTable`:"
   ]
  },
  {
   "cell_type": "code",
   "execution_count": 3,
   "metadata": {},
   "outputs": [
    {
     "data": {
      "text/plain": [
       "[1, 2, 3]"
      ]
     },
     "execution_count": 3,
     "metadata": {},
     "output_type": "execute_result"
    }
   ],
   "source": [
    "variants.sites"
   ]
  },
  {
   "cell_type": "code",
   "execution_count": 4,
   "metadata": {},
   "outputs": [
    {
     "data": {
      "text/plain": [
       "OrderedDict([(1, 'ATG'), (2, 'GGA'), (3, 'TGA')])"
      ]
     },
     "execution_count": 4,
     "metadata": {},
     "output_type": "execute_result"
    }
   ],
   "source": [
    "variants.codons"
   ]
  },
  {
   "cell_type": "code",
   "execution_count": 5,
   "metadata": {},
   "outputs": [
    {
     "data": {
      "text/plain": [
       "OrderedDict([(1, 'M'), (2, 'G'), (3, '*')])"
      ]
     },
     "execution_count": 5,
     "metadata": {},
     "output_type": "execute_result"
    }
   ],
   "source": [
    "variants.aas"
   ]
  },
  {
   "cell_type": "code",
   "execution_count": 6,
   "metadata": {},
   "outputs": [
    {
     "data": {
      "text/plain": [
       "['lib_1', 'lib_2']"
      ]
     },
     "execution_count": 6,
     "metadata": {},
     "output_type": "execute_result"
    }
   ],
   "source": [
    "variants.libraries"
   ]
  },
  {
   "cell_type": "code",
   "execution_count": 7,
   "metadata": {},
   "outputs": [
    {
     "data": {
      "text/plain": [
       "{'AAC', 'GAT'}"
      ]
     },
     "execution_count": 7,
     "metadata": {},
     "output_type": "execute_result"
    }
   ],
   "source": [
    "variants.valid_barcodes(\"lib_1\")"
   ]
  },
  {
   "cell_type": "code",
   "execution_count": 8,
   "metadata": {},
   "outputs": [
    {
     "data": {
      "text/plain": [
       "{'AAC', 'CAT'}"
      ]
     },
     "execution_count": 8,
     "metadata": {},
     "output_type": "execute_result"
    }
   ],
   "source": [
    "variants.valid_barcodes(\"lib_2\")"
   ]
  },
  {
   "cell_type": "code",
   "execution_count": 9,
   "metadata": {},
   "outputs": [
    {
     "data": {
      "text/html": [
       "<div>\n",
       "<style scoped>\n",
       "    .dataframe tbody tr th:only-of-type {\n",
       "        vertical-align: middle;\n",
       "    }\n",
       "\n",
       "    .dataframe tbody tr th {\n",
       "        vertical-align: top;\n",
       "    }\n",
       "\n",
       "    .dataframe thead th {\n",
       "        text-align: right;\n",
       "    }\n",
       "</style>\n",
       "<table border=\"1\" class=\"dataframe\">\n",
       "  <thead>\n",
       "    <tr style=\"text-align: right;\">\n",
       "      <th></th>\n",
       "      <th>library</th>\n",
       "      <th>barcode</th>\n",
       "      <th>variant_call_support</th>\n",
       "      <th>codon_substitutions</th>\n",
       "      <th>aa_substitutions</th>\n",
       "      <th>n_codon_substitutions</th>\n",
       "      <th>n_aa_substitutions</th>\n",
       "    </tr>\n",
       "  </thead>\n",
       "  <tbody>\n",
       "    <tr>\n",
       "      <th>0</th>\n",
       "      <td>lib_1</td>\n",
       "      <td>AAC</td>\n",
       "      <td>2</td>\n",
       "      <td></td>\n",
       "      <td></td>\n",
       "      <td>0</td>\n",
       "      <td>0</td>\n",
       "    </tr>\n",
       "    <tr>\n",
       "      <th>1</th>\n",
       "      <td>lib_1</td>\n",
       "      <td>GAT</td>\n",
       "      <td>1</td>\n",
       "      <td>GGA2CGC</td>\n",
       "      <td>G2R</td>\n",
       "      <td>1</td>\n",
       "      <td>1</td>\n",
       "    </tr>\n",
       "    <tr>\n",
       "      <th>2</th>\n",
       "      <td>lib_2</td>\n",
       "      <td>AAC</td>\n",
       "      <td>2</td>\n",
       "      <td>ATG1AAG GGA2TGA</td>\n",
       "      <td>M1K G2*</td>\n",
       "      <td>2</td>\n",
       "      <td>2</td>\n",
       "    </tr>\n",
       "    <tr>\n",
       "      <th>3</th>\n",
       "      <td>lib_2</td>\n",
       "      <td>CAT</td>\n",
       "      <td>3</td>\n",
       "      <td>GGA2GGC</td>\n",
       "      <td></td>\n",
       "      <td>1</td>\n",
       "      <td>0</td>\n",
       "    </tr>\n",
       "  </tbody>\n",
       "</table>\n",
       "</div>"
      ],
      "text/plain": [
       "  library barcode  variant_call_support codon_substitutions aa_substitutions  \\\n",
       "0   lib_1     AAC                     2                                        \n",
       "1   lib_1     GAT                     1             GGA2CGC              G2R   \n",
       "2   lib_2     AAC                     2     ATG1AAG GGA2TGA          M1K G2*   \n",
       "3   lib_2     CAT                     3             GGA2GGC                    \n",
       "\n",
       "   n_codon_substitutions  n_aa_substitutions  \n",
       "0                      0                   0  \n",
       "1                      1                   1  \n",
       "2                      2                   2  \n",
       "3                      1                   0  "
      ]
     },
     "execution_count": 9,
     "metadata": {},
     "output_type": "execute_result"
    }
   ],
   "source": [
    "variants.barcode_variant_df"
   ]
  },
  {
   "cell_type": "markdown",
   "metadata": {},
   "source": [
    "We can also look at the number of variants; we get this by calling `CodonVariantTable.n_variants_df` with `samples=None` since we don't have samples, and just want stats across barcoded variants:"
   ]
  },
  {
   "cell_type": "code",
   "execution_count": 10,
   "metadata": {},
   "outputs": [
    {
     "data": {
      "text/html": [
       "<div>\n",
       "<style scoped>\n",
       "    .dataframe tbody tr th:only-of-type {\n",
       "        vertical-align: middle;\n",
       "    }\n",
       "\n",
       "    .dataframe tbody tr th {\n",
       "        vertical-align: top;\n",
       "    }\n",
       "\n",
       "    .dataframe thead th {\n",
       "        text-align: right;\n",
       "    }\n",
       "</style>\n",
       "<table border=\"1\" class=\"dataframe\">\n",
       "  <thead>\n",
       "    <tr style=\"text-align: right;\">\n",
       "      <th></th>\n",
       "      <th>library</th>\n",
       "      <th>sample</th>\n",
       "      <th>count</th>\n",
       "    </tr>\n",
       "  </thead>\n",
       "  <tbody>\n",
       "    <tr>\n",
       "      <th>0</th>\n",
       "      <td>lib_1</td>\n",
       "      <td>barcoded variants</td>\n",
       "      <td>2</td>\n",
       "    </tr>\n",
       "    <tr>\n",
       "      <th>1</th>\n",
       "      <td>lib_2</td>\n",
       "      <td>barcoded variants</td>\n",
       "      <td>2</td>\n",
       "    </tr>\n",
       "    <tr>\n",
       "      <th>2</th>\n",
       "      <td>all libraries</td>\n",
       "      <td>barcoded variants</td>\n",
       "      <td>4</td>\n",
       "    </tr>\n",
       "  </tbody>\n",
       "</table>\n",
       "</div>"
      ],
      "text/plain": [
       "         library             sample  count\n",
       "0          lib_1  barcoded variants      2\n",
       "1          lib_2  barcoded variants      2\n",
       "2  all libraries  barcoded variants      4"
      ]
     },
     "execution_count": 10,
     "metadata": {},
     "output_type": "execute_result"
    }
   ],
   "source": [
    "variants.n_variants_df(samples=None)"
   ]
  },
  {
   "cell_type": "markdown",
   "metadata": {},
   "source": [
    "Here is the number of variants if we look at just single amino-acid mutants (and wildtype):"
   ]
  },
  {
   "cell_type": "code",
   "execution_count": 11,
   "metadata": {},
   "outputs": [
    {
     "data": {
      "text/html": [
       "<div>\n",
       "<style scoped>\n",
       "    .dataframe tbody tr th:only-of-type {\n",
       "        vertical-align: middle;\n",
       "    }\n",
       "\n",
       "    .dataframe tbody tr th {\n",
       "        vertical-align: top;\n",
       "    }\n",
       "\n",
       "    .dataframe thead th {\n",
       "        text-align: right;\n",
       "    }\n",
       "</style>\n",
       "<table border=\"1\" class=\"dataframe\">\n",
       "  <thead>\n",
       "    <tr style=\"text-align: right;\">\n",
       "      <th></th>\n",
       "      <th>library</th>\n",
       "      <th>sample</th>\n",
       "      <th>count</th>\n",
       "    </tr>\n",
       "  </thead>\n",
       "  <tbody>\n",
       "    <tr>\n",
       "      <th>0</th>\n",
       "      <td>lib_1</td>\n",
       "      <td>barcoded variants</td>\n",
       "      <td>2</td>\n",
       "    </tr>\n",
       "    <tr>\n",
       "      <th>1</th>\n",
       "      <td>lib_2</td>\n",
       "      <td>barcoded variants</td>\n",
       "      <td>1</td>\n",
       "    </tr>\n",
       "    <tr>\n",
       "      <th>2</th>\n",
       "      <td>all libraries</td>\n",
       "      <td>barcoded variants</td>\n",
       "      <td>3</td>\n",
       "    </tr>\n",
       "  </tbody>\n",
       "</table>\n",
       "</div>"
      ],
      "text/plain": [
       "         library             sample  count\n",
       "0          lib_1  barcoded variants      2\n",
       "1          lib_2  barcoded variants      1\n",
       "2  all libraries  barcoded variants      3"
      ]
     },
     "execution_count": 11,
     "metadata": {},
     "output_type": "execute_result"
    }
   ],
   "source": [
    "variants.n_variants_df(samples=None, variant_type=\"single\", mut_type=\"aa\")"
   ]
  },
  {
   "cell_type": "markdown",
   "metadata": {},
   "source": [
    "We can also see how these numbers change if we require a variant call support of at least 2:"
   ]
  },
  {
   "cell_type": "code",
   "execution_count": 12,
   "metadata": {},
   "outputs": [
    {
     "data": {
      "text/html": [
       "<div>\n",
       "<style scoped>\n",
       "    .dataframe tbody tr th:only-of-type {\n",
       "        vertical-align: middle;\n",
       "    }\n",
       "\n",
       "    .dataframe tbody tr th {\n",
       "        vertical-align: top;\n",
       "    }\n",
       "\n",
       "    .dataframe thead th {\n",
       "        text-align: right;\n",
       "    }\n",
       "</style>\n",
       "<table border=\"1\" class=\"dataframe\">\n",
       "  <thead>\n",
       "    <tr style=\"text-align: right;\">\n",
       "      <th></th>\n",
       "      <th>library</th>\n",
       "      <th>sample</th>\n",
       "      <th>count</th>\n",
       "    </tr>\n",
       "  </thead>\n",
       "  <tbody>\n",
       "    <tr>\n",
       "      <th>0</th>\n",
       "      <td>lib_1</td>\n",
       "      <td>barcoded variants</td>\n",
       "      <td>1</td>\n",
       "    </tr>\n",
       "    <tr>\n",
       "      <th>1</th>\n",
       "      <td>lib_2</td>\n",
       "      <td>barcoded variants</td>\n",
       "      <td>2</td>\n",
       "    </tr>\n",
       "    <tr>\n",
       "      <th>2</th>\n",
       "      <td>all libraries</td>\n",
       "      <td>barcoded variants</td>\n",
       "      <td>3</td>\n",
       "    </tr>\n",
       "  </tbody>\n",
       "</table>\n",
       "</div>"
      ],
      "text/plain": [
       "         library             sample  count\n",
       "0          lib_1  barcoded variants      1\n",
       "1          lib_2  barcoded variants      2\n",
       "2  all libraries  barcoded variants      3"
      ]
     },
     "execution_count": 12,
     "metadata": {},
     "output_type": "execute_result"
    }
   ],
   "source": [
    "variants.n_variants_df(samples=None, min_support=2)"
   ]
  },
  {
   "cell_type": "markdown",
   "metadata": {},
   "source": [
    "If we want to combine the data for the two libraries, we can use `CodonVariantTable.addMergedLibraries`, which creates a new combined library called \"all libraries\":"
   ]
  },
  {
   "cell_type": "code",
   "execution_count": 13,
   "metadata": {},
   "outputs": [
    {
     "data": {
      "text/html": [
       "<div>\n",
       "<style scoped>\n",
       "    .dataframe tbody tr th:only-of-type {\n",
       "        vertical-align: middle;\n",
       "    }\n",
       "\n",
       "    .dataframe tbody tr th {\n",
       "        vertical-align: top;\n",
       "    }\n",
       "\n",
       "    .dataframe thead th {\n",
       "        text-align: right;\n",
       "    }\n",
       "</style>\n",
       "<table border=\"1\" class=\"dataframe\">\n",
       "  <thead>\n",
       "    <tr style=\"text-align: right;\">\n",
       "      <th></th>\n",
       "      <th>library</th>\n",
       "      <th>barcode</th>\n",
       "      <th>variant_call_support</th>\n",
       "      <th>codon_substitutions</th>\n",
       "      <th>aa_substitutions</th>\n",
       "      <th>n_codon_substitutions</th>\n",
       "      <th>n_aa_substitutions</th>\n",
       "    </tr>\n",
       "  </thead>\n",
       "  <tbody>\n",
       "    <tr>\n",
       "      <th>0</th>\n",
       "      <td>lib_1</td>\n",
       "      <td>AAC</td>\n",
       "      <td>2</td>\n",
       "      <td></td>\n",
       "      <td></td>\n",
       "      <td>0</td>\n",
       "      <td>0</td>\n",
       "    </tr>\n",
       "    <tr>\n",
       "      <th>1</th>\n",
       "      <td>lib_1</td>\n",
       "      <td>GAT</td>\n",
       "      <td>1</td>\n",
       "      <td>GGA2CGC</td>\n",
       "      <td>G2R</td>\n",
       "      <td>1</td>\n",
       "      <td>1</td>\n",
       "    </tr>\n",
       "    <tr>\n",
       "      <th>2</th>\n",
       "      <td>lib_2</td>\n",
       "      <td>AAC</td>\n",
       "      <td>2</td>\n",
       "      <td>ATG1AAG GGA2TGA</td>\n",
       "      <td>M1K G2*</td>\n",
       "      <td>2</td>\n",
       "      <td>2</td>\n",
       "    </tr>\n",
       "    <tr>\n",
       "      <th>3</th>\n",
       "      <td>lib_2</td>\n",
       "      <td>CAT</td>\n",
       "      <td>3</td>\n",
       "      <td>GGA2GGC</td>\n",
       "      <td></td>\n",
       "      <td>1</td>\n",
       "      <td>0</td>\n",
       "    </tr>\n",
       "    <tr>\n",
       "      <th>4</th>\n",
       "      <td>all libraries</td>\n",
       "      <td>lib_1-AAC</td>\n",
       "      <td>2</td>\n",
       "      <td></td>\n",
       "      <td></td>\n",
       "      <td>0</td>\n",
       "      <td>0</td>\n",
       "    </tr>\n",
       "    <tr>\n",
       "      <th>5</th>\n",
       "      <td>all libraries</td>\n",
       "      <td>lib_1-GAT</td>\n",
       "      <td>1</td>\n",
       "      <td>GGA2CGC</td>\n",
       "      <td>G2R</td>\n",
       "      <td>1</td>\n",
       "      <td>1</td>\n",
       "    </tr>\n",
       "    <tr>\n",
       "      <th>6</th>\n",
       "      <td>all libraries</td>\n",
       "      <td>lib_2-AAC</td>\n",
       "      <td>2</td>\n",
       "      <td>ATG1AAG GGA2TGA</td>\n",
       "      <td>M1K G2*</td>\n",
       "      <td>2</td>\n",
       "      <td>2</td>\n",
       "    </tr>\n",
       "    <tr>\n",
       "      <th>7</th>\n",
       "      <td>all libraries</td>\n",
       "      <td>lib_2-CAT</td>\n",
       "      <td>3</td>\n",
       "      <td>GGA2GGC</td>\n",
       "      <td></td>\n",
       "      <td>1</td>\n",
       "      <td>0</td>\n",
       "    </tr>\n",
       "  </tbody>\n",
       "</table>\n",
       "</div>"
      ],
      "text/plain": [
       "         library    barcode  variant_call_support codon_substitutions  \\\n",
       "0          lib_1        AAC                     2                       \n",
       "1          lib_1        GAT                     1             GGA2CGC   \n",
       "2          lib_2        AAC                     2     ATG1AAG GGA2TGA   \n",
       "3          lib_2        CAT                     3             GGA2GGC   \n",
       "4  all libraries  lib_1-AAC                     2                       \n",
       "5  all libraries  lib_1-GAT                     1             GGA2CGC   \n",
       "6  all libraries  lib_2-AAC                     2     ATG1AAG GGA2TGA   \n",
       "7  all libraries  lib_2-CAT                     3             GGA2GGC   \n",
       "\n",
       "  aa_substitutions  n_codon_substitutions  n_aa_substitutions  \n",
       "0                                       0                   0  \n",
       "1              G2R                      1                   1  \n",
       "2          M1K G2*                      2                   2  \n",
       "3                                       1                   0  \n",
       "4                                       0                   0  \n",
       "5              G2R                      1                   1  \n",
       "6          M1K G2*                      2                   2  \n",
       "7                                       1                   0  "
      ]
     },
     "execution_count": 13,
     "metadata": {},
     "output_type": "execute_result"
    }
   ],
   "source": [
    "variants.addMergedLibraries(variants.barcode_variant_df)"
   ]
  },
  {
   "cell_type": "markdown",
   "metadata": {},
   "source": [
    "Note however `CodonVariantTable.addMergedLibraries` doesn't do anything if there is only one library:"
   ]
  },
  {
   "cell_type": "code",
   "execution_count": 14,
   "metadata": {},
   "outputs": [
    {
     "data": {
      "text/html": [
       "<div>\n",
       "<style scoped>\n",
       "    .dataframe tbody tr th:only-of-type {\n",
       "        vertical-align: middle;\n",
       "    }\n",
       "\n",
       "    .dataframe tbody tr th {\n",
       "        vertical-align: top;\n",
       "    }\n",
       "\n",
       "    .dataframe thead th {\n",
       "        text-align: right;\n",
       "    }\n",
       "</style>\n",
       "<table border=\"1\" class=\"dataframe\">\n",
       "  <thead>\n",
       "    <tr style=\"text-align: right;\">\n",
       "      <th></th>\n",
       "      <th>library</th>\n",
       "      <th>barcode</th>\n",
       "      <th>variant_call_support</th>\n",
       "      <th>codon_substitutions</th>\n",
       "      <th>aa_substitutions</th>\n",
       "      <th>n_codon_substitutions</th>\n",
       "      <th>n_aa_substitutions</th>\n",
       "    </tr>\n",
       "  </thead>\n",
       "  <tbody>\n",
       "    <tr>\n",
       "      <th>0</th>\n",
       "      <td>lib_1</td>\n",
       "      <td>AAC</td>\n",
       "      <td>2</td>\n",
       "      <td></td>\n",
       "      <td></td>\n",
       "      <td>0</td>\n",
       "      <td>0</td>\n",
       "    </tr>\n",
       "    <tr>\n",
       "      <th>1</th>\n",
       "      <td>lib_1</td>\n",
       "      <td>GAT</td>\n",
       "      <td>1</td>\n",
       "      <td>GGA2CGC</td>\n",
       "      <td>G2R</td>\n",
       "      <td>1</td>\n",
       "      <td>1</td>\n",
       "    </tr>\n",
       "  </tbody>\n",
       "</table>\n",
       "</div>"
      ],
      "text/plain": [
       "  library barcode  variant_call_support codon_substitutions aa_substitutions  \\\n",
       "0   lib_1     AAC                     2                                        \n",
       "1   lib_1     GAT                     1             GGA2CGC              G2R   \n",
       "\n",
       "   n_codon_substitutions  n_aa_substitutions  \n",
       "0                      0                   0  \n",
       "1                      1                   1  "
      ]
     },
     "execution_count": 14,
     "metadata": {},
     "output_type": "execute_result"
    }
   ],
   "source": [
    "variants.addMergedLibraries(variants.barcode_variant_df.query('library == \"lib_1\"'))"
   ]
  },
  {
   "cell_type": "markdown",
   "metadata": {},
   "source": [
    "Count number of barcoded variants with each mutation (here we only show mutations with non-zero counts):"
   ]
  },
  {
   "cell_type": "code",
   "execution_count": 15,
   "metadata": {},
   "outputs": [
    {
     "data": {
      "text/html": [
       "<div>\n",
       "<style scoped>\n",
       "    .dataframe tbody tr th:only-of-type {\n",
       "        vertical-align: middle;\n",
       "    }\n",
       "\n",
       "    .dataframe tbody tr th {\n",
       "        vertical-align: top;\n",
       "    }\n",
       "\n",
       "    .dataframe thead th {\n",
       "        text-align: right;\n",
       "    }\n",
       "</style>\n",
       "<table border=\"1\" class=\"dataframe\">\n",
       "  <thead>\n",
       "    <tr style=\"text-align: right;\">\n",
       "      <th></th>\n",
       "      <th>library</th>\n",
       "      <th>sample</th>\n",
       "      <th>mutation</th>\n",
       "      <th>count</th>\n",
       "      <th>mutation_type</th>\n",
       "      <th>site</th>\n",
       "    </tr>\n",
       "  </thead>\n",
       "  <tbody>\n",
       "    <tr>\n",
       "      <th>0</th>\n",
       "      <td>lib_1</td>\n",
       "      <td>barcoded variants</td>\n",
       "      <td>G2R</td>\n",
       "      <td>1</td>\n",
       "      <td>nonsynonymous</td>\n",
       "      <td>2</td>\n",
       "    </tr>\n",
       "    <tr>\n",
       "      <th>60</th>\n",
       "      <td>lib_2</td>\n",
       "      <td>barcoded variants</td>\n",
       "      <td>G2*</td>\n",
       "      <td>1</td>\n",
       "      <td>stop</td>\n",
       "      <td>2</td>\n",
       "    </tr>\n",
       "    <tr>\n",
       "      <th>61</th>\n",
       "      <td>lib_2</td>\n",
       "      <td>barcoded variants</td>\n",
       "      <td>M1K</td>\n",
       "      <td>1</td>\n",
       "      <td>nonsynonymous</td>\n",
       "      <td>1</td>\n",
       "    </tr>\n",
       "    <tr>\n",
       "      <th>120</th>\n",
       "      <td>all libraries</td>\n",
       "      <td>barcoded variants</td>\n",
       "      <td>G2*</td>\n",
       "      <td>1</td>\n",
       "      <td>stop</td>\n",
       "      <td>2</td>\n",
       "    </tr>\n",
       "    <tr>\n",
       "      <th>121</th>\n",
       "      <td>all libraries</td>\n",
       "      <td>barcoded variants</td>\n",
       "      <td>G2R</td>\n",
       "      <td>1</td>\n",
       "      <td>nonsynonymous</td>\n",
       "      <td>2</td>\n",
       "    </tr>\n",
       "    <tr>\n",
       "      <th>122</th>\n",
       "      <td>all libraries</td>\n",
       "      <td>barcoded variants</td>\n",
       "      <td>M1K</td>\n",
       "      <td>1</td>\n",
       "      <td>nonsynonymous</td>\n",
       "      <td>1</td>\n",
       "    </tr>\n",
       "  </tbody>\n",
       "</table>\n",
       "</div>"
      ],
      "text/plain": [
       "           library             sample mutation  count  mutation_type  site\n",
       "0            lib_1  barcoded variants      G2R      1  nonsynonymous     2\n",
       "60           lib_2  barcoded variants      G2*      1           stop     2\n",
       "61           lib_2  barcoded variants      M1K      1  nonsynonymous     1\n",
       "120  all libraries  barcoded variants      G2*      1           stop     2\n",
       "121  all libraries  barcoded variants      G2R      1  nonsynonymous     2\n",
       "122  all libraries  barcoded variants      M1K      1  nonsynonymous     1"
      ]
     },
     "execution_count": 15,
     "metadata": {},
     "output_type": "execute_result"
    }
   ],
   "source": [
    "variants.mutCounts(\"all\", \"aa\", samples=None).query(\"count > 0\")"
   ]
  },
  {
   "cell_type": "markdown",
   "metadata": {},
   "source": [
    "We can do the same for codon mutations (here for only a single library), first for all variants:"
   ]
  },
  {
   "cell_type": "code",
   "execution_count": 16,
   "metadata": {},
   "outputs": [
    {
     "data": {
      "text/html": [
       "<div>\n",
       "<style scoped>\n",
       "    .dataframe tbody tr th:only-of-type {\n",
       "        vertical-align: middle;\n",
       "    }\n",
       "\n",
       "    .dataframe tbody tr th {\n",
       "        vertical-align: top;\n",
       "    }\n",
       "\n",
       "    .dataframe thead th {\n",
       "        text-align: right;\n",
       "    }\n",
       "</style>\n",
       "<table border=\"1\" class=\"dataframe\">\n",
       "  <thead>\n",
       "    <tr style=\"text-align: right;\">\n",
       "      <th></th>\n",
       "      <th>library</th>\n",
       "      <th>sample</th>\n",
       "      <th>mutation</th>\n",
       "      <th>count</th>\n",
       "      <th>mutation_type</th>\n",
       "      <th>site</th>\n",
       "    </tr>\n",
       "  </thead>\n",
       "  <tbody>\n",
       "    <tr>\n",
       "      <th>0</th>\n",
       "      <td>lib_2</td>\n",
       "      <td>barcoded variants</td>\n",
       "      <td>ATG1AAG</td>\n",
       "      <td>1</td>\n",
       "      <td>nonsynonymous</td>\n",
       "      <td>1</td>\n",
       "    </tr>\n",
       "    <tr>\n",
       "      <th>1</th>\n",
       "      <td>lib_2</td>\n",
       "      <td>barcoded variants</td>\n",
       "      <td>GGA2GGC</td>\n",
       "      <td>1</td>\n",
       "      <td>synonymous</td>\n",
       "      <td>2</td>\n",
       "    </tr>\n",
       "    <tr>\n",
       "      <th>2</th>\n",
       "      <td>lib_2</td>\n",
       "      <td>barcoded variants</td>\n",
       "      <td>GGA2TGA</td>\n",
       "      <td>1</td>\n",
       "      <td>stop</td>\n",
       "      <td>2</td>\n",
       "    </tr>\n",
       "  </tbody>\n",
       "</table>\n",
       "</div>"
      ],
      "text/plain": [
       "  library             sample mutation  count  mutation_type  site\n",
       "0   lib_2  barcoded variants  ATG1AAG      1  nonsynonymous     1\n",
       "1   lib_2  barcoded variants  GGA2GGC      1     synonymous     2\n",
       "2   lib_2  barcoded variants  GGA2TGA      1           stop     2"
      ]
     },
     "execution_count": 16,
     "metadata": {},
     "output_type": "execute_result"
    }
   ],
   "source": [
    "variants.mutCounts(\"all\", \"codon\", samples=None, libraries=[\"lib_2\"]).query(\"count > 0\")"
   ]
  },
  {
   "cell_type": "markdown",
   "metadata": {},
   "source": [
    "Like above but only single-mutant variants:"
   ]
  },
  {
   "cell_type": "code",
   "execution_count": 17,
   "metadata": {},
   "outputs": [
    {
     "data": {
      "text/html": [
       "<div>\n",
       "<style scoped>\n",
       "    .dataframe tbody tr th:only-of-type {\n",
       "        vertical-align: middle;\n",
       "    }\n",
       "\n",
       "    .dataframe tbody tr th {\n",
       "        vertical-align: top;\n",
       "    }\n",
       "\n",
       "    .dataframe thead th {\n",
       "        text-align: right;\n",
       "    }\n",
       "</style>\n",
       "<table border=\"1\" class=\"dataframe\">\n",
       "  <thead>\n",
       "    <tr style=\"text-align: right;\">\n",
       "      <th></th>\n",
       "      <th>library</th>\n",
       "      <th>sample</th>\n",
       "      <th>mutation</th>\n",
       "      <th>count</th>\n",
       "      <th>mutation_type</th>\n",
       "      <th>site</th>\n",
       "    </tr>\n",
       "  </thead>\n",
       "  <tbody>\n",
       "    <tr>\n",
       "      <th>0</th>\n",
       "      <td>lib_2</td>\n",
       "      <td>barcoded variants</td>\n",
       "      <td>GGA2GGC</td>\n",
       "      <td>1</td>\n",
       "      <td>synonymous</td>\n",
       "      <td>2</td>\n",
       "    </tr>\n",
       "  </tbody>\n",
       "</table>\n",
       "</div>"
      ],
      "text/plain": [
       "  library             sample mutation  count mutation_type  site\n",
       "0   lib_2  barcoded variants  GGA2GGC      1    synonymous     2"
      ]
     },
     "execution_count": 17,
     "metadata": {},
     "output_type": "execute_result"
    }
   ],
   "source": [
    "variants.mutCounts(\"single\", \"codon\", samples=None, libraries=[\"lib_2\"]).query(\n",
    "    \"count > 0\"\n",
    ")"
   ]
  },
  {
   "cell_type": "markdown",
   "metadata": {},
   "source": [
    "So far we haven't added any barcode count information for any samples:"
   ]
  },
  {
   "cell_type": "code",
   "execution_count": 18,
   "metadata": {},
   "outputs": [
    {
     "data": {
      "text/plain": [
       "True"
      ]
     },
     "execution_count": 18,
     "metadata": {},
     "output_type": "execute_result"
    }
   ],
   "source": [
    "all(variants.samples(lib) == [] for lib in variants.libraries)"
   ]
  },
  {
   "cell_type": "code",
   "execution_count": 19,
   "metadata": {},
   "outputs": [
    {
     "data": {
      "text/plain": [
       "True"
      ]
     },
     "execution_count": 19,
     "metadata": {},
     "output_type": "execute_result"
    }
   ],
   "source": [
    "variants.variant_count_df is None"
   ]
  },
  {
   "cell_type": "markdown",
   "metadata": {},
   "source": [
    "Now we add barcode count information for sample \"input\" from library 1 using `CodonVariantTable.addSampleCounts`:"
   ]
  },
  {
   "cell_type": "code",
   "execution_count": 20,
   "metadata": {},
   "outputs": [
    {
     "data": {
      "text/html": [
       "<div>\n",
       "<style scoped>\n",
       "    .dataframe tbody tr th:only-of-type {\n",
       "        vertical-align: middle;\n",
       "    }\n",
       "\n",
       "    .dataframe tbody tr th {\n",
       "        vertical-align: top;\n",
       "    }\n",
       "\n",
       "    .dataframe thead th {\n",
       "        text-align: right;\n",
       "    }\n",
       "</style>\n",
       "<table border=\"1\" class=\"dataframe\">\n",
       "  <thead>\n",
       "    <tr style=\"text-align: right;\">\n",
       "      <th></th>\n",
       "      <th>barcode</th>\n",
       "      <th>count</th>\n",
       "      <th>library</th>\n",
       "      <th>sample</th>\n",
       "      <th>variant_call_support</th>\n",
       "      <th>codon_substitutions</th>\n",
       "      <th>aa_substitutions</th>\n",
       "      <th>n_codon_substitutions</th>\n",
       "      <th>n_aa_substitutions</th>\n",
       "    </tr>\n",
       "  </thead>\n",
       "  <tbody>\n",
       "    <tr>\n",
       "      <th>0</th>\n",
       "      <td>GAT</td>\n",
       "      <td>1101</td>\n",
       "      <td>lib_1</td>\n",
       "      <td>input</td>\n",
       "      <td>1</td>\n",
       "      <td>GGA2CGC</td>\n",
       "      <td>G2R</td>\n",
       "      <td>1</td>\n",
       "      <td>1</td>\n",
       "    </tr>\n",
       "    <tr>\n",
       "      <th>1</th>\n",
       "      <td>AAC</td>\n",
       "      <td>253</td>\n",
       "      <td>lib_1</td>\n",
       "      <td>input</td>\n",
       "      <td>2</td>\n",
       "      <td></td>\n",
       "      <td></td>\n",
       "      <td>0</td>\n",
       "      <td>0</td>\n",
       "    </tr>\n",
       "  </tbody>\n",
       "</table>\n",
       "</div>"
      ],
      "text/plain": [
       "  barcode  count library sample  variant_call_support codon_substitutions  \\\n",
       "0     GAT   1101   lib_1  input                     1             GGA2CGC   \n",
       "1     AAC    253   lib_1  input                     2                       \n",
       "\n",
       "  aa_substitutions  n_codon_substitutions  n_aa_substitutions  \n",
       "0              G2R                      1                   1  \n",
       "1                                       0                   0  "
      ]
     },
     "execution_count": 20,
     "metadata": {},
     "output_type": "execute_result"
    }
   ],
   "source": [
    "counts_lib1_input = pd.DataFrame({\"barcode\": [\"AAC\", \"GAT\"], \"count\": [253, 1101]})\n",
    "variants.addSampleCounts(\"lib_1\", \"input\", counts_lib1_input)\n",
    "variants.variant_count_df"
   ]
  },
  {
   "cell_type": "markdown",
   "metadata": {},
   "source": [
    "We get an error if we try to add these same data again, as they are already added for that sample to that library:"
   ]
  },
  {
   "cell_type": "code",
   "execution_count": 21,
   "metadata": {},
   "outputs": [
    {
     "name": "stdout",
     "output_type": "stream",
     "text": [
      "Raises following ValueError: `library` lib_1 already has `sample` input\n"
     ]
    }
   ],
   "source": [
    "try:\n",
    "    variants.addSampleCounts(\"lib_1\", \"input\", counts_lib1_input)\n",
    "except ValueError as exception:\n",
    "    print(f\"Raises following ValueError: {exception}\")"
   ]
  },
  {
   "cell_type": "markdown",
   "metadata": {},
   "source": [
    "But, we can add barcode counts for another sample (named \"selected\" in this case) to library 1:"
   ]
  },
  {
   "cell_type": "code",
   "execution_count": 22,
   "metadata": {},
   "outputs": [],
   "source": [
    "counts_lib1_selected = pd.DataFrame({\"barcode\": [\"AAC\", \"GAT\"], \"count\": [513, 401]})\n",
    "variants.addSampleCounts(\"lib_1\", \"selected\", counts_lib1_selected)"
   ]
  },
  {
   "cell_type": "markdown",
   "metadata": {},
   "source": [
    "As well as barcode counts for the same two samples (\"input\" and \"selected\") to our other library (library 2):"
   ]
  },
  {
   "cell_type": "code",
   "execution_count": 23,
   "metadata": {},
   "outputs": [
    {
     "data": {
      "text/html": [
       "<div>\n",
       "<style scoped>\n",
       "    .dataframe tbody tr th:only-of-type {\n",
       "        vertical-align: middle;\n",
       "    }\n",
       "\n",
       "    .dataframe tbody tr th {\n",
       "        vertical-align: top;\n",
       "    }\n",
       "\n",
       "    .dataframe thead th {\n",
       "        text-align: right;\n",
       "    }\n",
       "</style>\n",
       "<table border=\"1\" class=\"dataframe\">\n",
       "  <thead>\n",
       "    <tr style=\"text-align: right;\">\n",
       "      <th></th>\n",
       "      <th>barcode</th>\n",
       "      <th>count</th>\n",
       "      <th>library</th>\n",
       "      <th>sample</th>\n",
       "      <th>variant_call_support</th>\n",
       "      <th>codon_substitutions</th>\n",
       "      <th>aa_substitutions</th>\n",
       "      <th>n_codon_substitutions</th>\n",
       "      <th>n_aa_substitutions</th>\n",
       "    </tr>\n",
       "  </thead>\n",
       "  <tbody>\n",
       "    <tr>\n",
       "      <th>0</th>\n",
       "      <td>GAT</td>\n",
       "      <td>1101</td>\n",
       "      <td>lib_1</td>\n",
       "      <td>input</td>\n",
       "      <td>1</td>\n",
       "      <td>GGA2CGC</td>\n",
       "      <td>G2R</td>\n",
       "      <td>1</td>\n",
       "      <td>1</td>\n",
       "    </tr>\n",
       "    <tr>\n",
       "      <th>1</th>\n",
       "      <td>AAC</td>\n",
       "      <td>253</td>\n",
       "      <td>lib_1</td>\n",
       "      <td>input</td>\n",
       "      <td>2</td>\n",
       "      <td></td>\n",
       "      <td></td>\n",
       "      <td>0</td>\n",
       "      <td>0</td>\n",
       "    </tr>\n",
       "    <tr>\n",
       "      <th>2</th>\n",
       "      <td>AAC</td>\n",
       "      <td>513</td>\n",
       "      <td>lib_1</td>\n",
       "      <td>selected</td>\n",
       "      <td>2</td>\n",
       "      <td></td>\n",
       "      <td></td>\n",
       "      <td>0</td>\n",
       "      <td>0</td>\n",
       "    </tr>\n",
       "    <tr>\n",
       "      <th>3</th>\n",
       "      <td>GAT</td>\n",
       "      <td>401</td>\n",
       "      <td>lib_1</td>\n",
       "      <td>selected</td>\n",
       "      <td>1</td>\n",
       "      <td>GGA2CGC</td>\n",
       "      <td>G2R</td>\n",
       "      <td>1</td>\n",
       "      <td>1</td>\n",
       "    </tr>\n",
       "    <tr>\n",
       "      <th>4</th>\n",
       "      <td>AAC</td>\n",
       "      <td>1253</td>\n",
       "      <td>lib_2</td>\n",
       "      <td>input</td>\n",
       "      <td>2</td>\n",
       "      <td>ATG1AAG GGA2TGA</td>\n",
       "      <td>M1K G2*</td>\n",
       "      <td>2</td>\n",
       "      <td>2</td>\n",
       "    </tr>\n",
       "    <tr>\n",
       "      <th>5</th>\n",
       "      <td>CAT</td>\n",
       "      <td>923</td>\n",
       "      <td>lib_2</td>\n",
       "      <td>input</td>\n",
       "      <td>3</td>\n",
       "      <td>GGA2GGC</td>\n",
       "      <td></td>\n",
       "      <td>1</td>\n",
       "      <td>0</td>\n",
       "    </tr>\n",
       "    <tr>\n",
       "      <th>6</th>\n",
       "      <td>CAT</td>\n",
       "      <td>1200</td>\n",
       "      <td>lib_2</td>\n",
       "      <td>selected</td>\n",
       "      <td>3</td>\n",
       "      <td>GGA2GGC</td>\n",
       "      <td></td>\n",
       "      <td>1</td>\n",
       "      <td>0</td>\n",
       "    </tr>\n",
       "    <tr>\n",
       "      <th>7</th>\n",
       "      <td>AAC</td>\n",
       "      <td>113</td>\n",
       "      <td>lib_2</td>\n",
       "      <td>selected</td>\n",
       "      <td>2</td>\n",
       "      <td>ATG1AAG GGA2TGA</td>\n",
       "      <td>M1K G2*</td>\n",
       "      <td>2</td>\n",
       "      <td>2</td>\n",
       "    </tr>\n",
       "  </tbody>\n",
       "</table>\n",
       "</div>"
      ],
      "text/plain": [
       "  barcode  count library    sample  variant_call_support codon_substitutions  \\\n",
       "0     GAT   1101   lib_1     input                     1             GGA2CGC   \n",
       "1     AAC    253   lib_1     input                     2                       \n",
       "2     AAC    513   lib_1  selected                     2                       \n",
       "3     GAT    401   lib_1  selected                     1             GGA2CGC   \n",
       "4     AAC   1253   lib_2     input                     2     ATG1AAG GGA2TGA   \n",
       "5     CAT    923   lib_2     input                     3             GGA2GGC   \n",
       "6     CAT   1200   lib_2  selected                     3             GGA2GGC   \n",
       "7     AAC    113   lib_2  selected                     2     ATG1AAG GGA2TGA   \n",
       "\n",
       "  aa_substitutions  n_codon_substitutions  n_aa_substitutions  \n",
       "0              G2R                      1                   1  \n",
       "1                                       0                   0  \n",
       "2                                       0                   0  \n",
       "3              G2R                      1                   1  \n",
       "4          M1K G2*                      2                   2  \n",
       "5                                       1                   0  \n",
       "6                                       1                   0  \n",
       "7          M1K G2*                      2                   2  "
      ]
     },
     "execution_count": 23,
     "metadata": {},
     "output_type": "execute_result"
    }
   ],
   "source": [
    "counts_lib2_input = pd.DataFrame({\"barcode\": [\"AAC\", \"CAT\"], \"count\": [1253, 923]})\n",
    "variants.addSampleCounts(\"lib_2\", \"input\", counts_lib2_input)\n",
    "counts_lib2_selected = pd.DataFrame({\"barcode\": [\"AAC\", \"CAT\"], \"count\": [113, 1200]})\n",
    "variants.addSampleCounts(\"lib_2\", \"selected\", counts_lib2_selected)\n",
    "variants.variant_count_df"
   ]
  },
  {
   "cell_type": "markdown",
   "metadata": {},
   "source": [
    "What are the average counts per variant?"
   ]
  },
  {
   "cell_type": "code",
   "execution_count": 24,
   "metadata": {},
   "outputs": [
    {
     "data": {
      "text/html": [
       "<div>\n",
       "<style scoped>\n",
       "    .dataframe tbody tr th:only-of-type {\n",
       "        vertical-align: middle;\n",
       "    }\n",
       "\n",
       "    .dataframe tbody tr th {\n",
       "        vertical-align: top;\n",
       "    }\n",
       "\n",
       "    .dataframe thead th {\n",
       "        text-align: right;\n",
       "    }\n",
       "</style>\n",
       "<table border=\"1\" class=\"dataframe\">\n",
       "  <thead>\n",
       "    <tr style=\"text-align: right;\">\n",
       "      <th></th>\n",
       "      <th>library</th>\n",
       "      <th>sample</th>\n",
       "      <th>avg_counts_per_variant</th>\n",
       "    </tr>\n",
       "  </thead>\n",
       "  <tbody>\n",
       "    <tr>\n",
       "      <th>0</th>\n",
       "      <td>lib_1</td>\n",
       "      <td>input</td>\n",
       "      <td>677.00</td>\n",
       "    </tr>\n",
       "    <tr>\n",
       "      <th>1</th>\n",
       "      <td>lib_1</td>\n",
       "      <td>selected</td>\n",
       "      <td>457.00</td>\n",
       "    </tr>\n",
       "    <tr>\n",
       "      <th>2</th>\n",
       "      <td>lib_2</td>\n",
       "      <td>input</td>\n",
       "      <td>1088.00</td>\n",
       "    </tr>\n",
       "    <tr>\n",
       "      <th>3</th>\n",
       "      <td>lib_2</td>\n",
       "      <td>selected</td>\n",
       "      <td>656.50</td>\n",
       "    </tr>\n",
       "    <tr>\n",
       "      <th>4</th>\n",
       "      <td>all libraries</td>\n",
       "      <td>input</td>\n",
       "      <td>882.50</td>\n",
       "    </tr>\n",
       "    <tr>\n",
       "      <th>5</th>\n",
       "      <td>all libraries</td>\n",
       "      <td>selected</td>\n",
       "      <td>556.75</td>\n",
       "    </tr>\n",
       "  </tbody>\n",
       "</table>\n",
       "</div>"
      ],
      "text/plain": [
       "         library    sample  avg_counts_per_variant\n",
       "0          lib_1     input                  677.00\n",
       "1          lib_1  selected                  457.00\n",
       "2          lib_2     input                 1088.00\n",
       "3          lib_2  selected                  656.50\n",
       "4  all libraries     input                  882.50\n",
       "5  all libraries  selected                  556.75"
      ]
     },
     "execution_count": 24,
     "metadata": {},
     "output_type": "execute_result"
    }
   ],
   "source": [
    "variants.avgCountsPerVariant()"
   ]
  },
  {
   "cell_type": "markdown",
   "metadata": {},
   "source": [
    "We can also use `CodonVariantTable.mutCounts` to look at total counts of each mutation:"
   ]
  },
  {
   "cell_type": "code",
   "execution_count": 25,
   "metadata": {},
   "outputs": [
    {
     "data": {
      "text/html": [
       "<div>\n",
       "<style scoped>\n",
       "    .dataframe tbody tr th:only-of-type {\n",
       "        vertical-align: middle;\n",
       "    }\n",
       "\n",
       "    .dataframe tbody tr th {\n",
       "        vertical-align: top;\n",
       "    }\n",
       "\n",
       "    .dataframe thead th {\n",
       "        text-align: right;\n",
       "    }\n",
       "</style>\n",
       "<table border=\"1\" class=\"dataframe\">\n",
       "  <thead>\n",
       "    <tr style=\"text-align: right;\">\n",
       "      <th></th>\n",
       "      <th>library</th>\n",
       "      <th>sample</th>\n",
       "      <th>mutation</th>\n",
       "      <th>count</th>\n",
       "      <th>mutation_type</th>\n",
       "      <th>site</th>\n",
       "    </tr>\n",
       "  </thead>\n",
       "  <tbody>\n",
       "    <tr>\n",
       "      <th>0</th>\n",
       "      <td>lib_1</td>\n",
       "      <td>input</td>\n",
       "      <td>G2R</td>\n",
       "      <td>1101</td>\n",
       "      <td>nonsynonymous</td>\n",
       "      <td>2</td>\n",
       "    </tr>\n",
       "    <tr>\n",
       "      <th>60</th>\n",
       "      <td>lib_1</td>\n",
       "      <td>selected</td>\n",
       "      <td>G2R</td>\n",
       "      <td>401</td>\n",
       "      <td>nonsynonymous</td>\n",
       "      <td>2</td>\n",
       "    </tr>\n",
       "    <tr>\n",
       "      <th>120</th>\n",
       "      <td>lib_2</td>\n",
       "      <td>input</td>\n",
       "      <td>G2*</td>\n",
       "      <td>1253</td>\n",
       "      <td>stop</td>\n",
       "      <td>2</td>\n",
       "    </tr>\n",
       "    <tr>\n",
       "      <th>121</th>\n",
       "      <td>lib_2</td>\n",
       "      <td>input</td>\n",
       "      <td>M1K</td>\n",
       "      <td>1253</td>\n",
       "      <td>nonsynonymous</td>\n",
       "      <td>1</td>\n",
       "    </tr>\n",
       "    <tr>\n",
       "      <th>180</th>\n",
       "      <td>lib_2</td>\n",
       "      <td>selected</td>\n",
       "      <td>G2*</td>\n",
       "      <td>113</td>\n",
       "      <td>stop</td>\n",
       "      <td>2</td>\n",
       "    </tr>\n",
       "    <tr>\n",
       "      <th>181</th>\n",
       "      <td>lib_2</td>\n",
       "      <td>selected</td>\n",
       "      <td>M1K</td>\n",
       "      <td>113</td>\n",
       "      <td>nonsynonymous</td>\n",
       "      <td>1</td>\n",
       "    </tr>\n",
       "    <tr>\n",
       "      <th>240</th>\n",
       "      <td>all libraries</td>\n",
       "      <td>input</td>\n",
       "      <td>G2*</td>\n",
       "      <td>1253</td>\n",
       "      <td>stop</td>\n",
       "      <td>2</td>\n",
       "    </tr>\n",
       "    <tr>\n",
       "      <th>241</th>\n",
       "      <td>all libraries</td>\n",
       "      <td>input</td>\n",
       "      <td>M1K</td>\n",
       "      <td>1253</td>\n",
       "      <td>nonsynonymous</td>\n",
       "      <td>1</td>\n",
       "    </tr>\n",
       "    <tr>\n",
       "      <th>242</th>\n",
       "      <td>all libraries</td>\n",
       "      <td>input</td>\n",
       "      <td>G2R</td>\n",
       "      <td>1101</td>\n",
       "      <td>nonsynonymous</td>\n",
       "      <td>2</td>\n",
       "    </tr>\n",
       "    <tr>\n",
       "      <th>300</th>\n",
       "      <td>all libraries</td>\n",
       "      <td>selected</td>\n",
       "      <td>G2R</td>\n",
       "      <td>401</td>\n",
       "      <td>nonsynonymous</td>\n",
       "      <td>2</td>\n",
       "    </tr>\n",
       "    <tr>\n",
       "      <th>301</th>\n",
       "      <td>all libraries</td>\n",
       "      <td>selected</td>\n",
       "      <td>G2*</td>\n",
       "      <td>113</td>\n",
       "      <td>stop</td>\n",
       "      <td>2</td>\n",
       "    </tr>\n",
       "    <tr>\n",
       "      <th>302</th>\n",
       "      <td>all libraries</td>\n",
       "      <td>selected</td>\n",
       "      <td>M1K</td>\n",
       "      <td>113</td>\n",
       "      <td>nonsynonymous</td>\n",
       "      <td>1</td>\n",
       "    </tr>\n",
       "  </tbody>\n",
       "</table>\n",
       "</div>"
      ],
      "text/plain": [
       "           library    sample mutation  count  mutation_type  site\n",
       "0            lib_1     input      G2R   1101  nonsynonymous     2\n",
       "60           lib_1  selected      G2R    401  nonsynonymous     2\n",
       "120          lib_2     input      G2*   1253           stop     2\n",
       "121          lib_2     input      M1K   1253  nonsynonymous     1\n",
       "180          lib_2  selected      G2*    113           stop     2\n",
       "181          lib_2  selected      M1K    113  nonsynonymous     1\n",
       "240  all libraries     input      G2*   1253           stop     2\n",
       "241  all libraries     input      M1K   1253  nonsynonymous     1\n",
       "242  all libraries     input      G2R   1101  nonsynonymous     2\n",
       "300  all libraries  selected      G2R    401  nonsynonymous     2\n",
       "301  all libraries  selected      G2*    113           stop     2\n",
       "302  all libraries  selected      M1K    113  nonsynonymous     1"
      ]
     },
     "execution_count": 25,
     "metadata": {},
     "output_type": "execute_result"
    }
   ],
   "source": [
    "variants.mutCounts(\"all\", \"aa\").query(\"count > 0\")"
   ]
  },
  {
   "cell_type": "code",
   "execution_count": 26,
   "metadata": {},
   "outputs": [
    {
     "data": {
      "text/html": [
       "<div>\n",
       "<style scoped>\n",
       "    .dataframe tbody tr th:only-of-type {\n",
       "        vertical-align: middle;\n",
       "    }\n",
       "\n",
       "    .dataframe tbody tr th {\n",
       "        vertical-align: top;\n",
       "    }\n",
       "\n",
       "    .dataframe thead th {\n",
       "        text-align: right;\n",
       "    }\n",
       "</style>\n",
       "<table border=\"1\" class=\"dataframe\">\n",
       "  <thead>\n",
       "    <tr style=\"text-align: right;\">\n",
       "      <th></th>\n",
       "      <th>library</th>\n",
       "      <th>sample</th>\n",
       "      <th>mutation</th>\n",
       "      <th>count</th>\n",
       "      <th>mutation_type</th>\n",
       "      <th>site</th>\n",
       "    </tr>\n",
       "  </thead>\n",
       "  <tbody>\n",
       "    <tr>\n",
       "      <th>0</th>\n",
       "      <td>lib_2</td>\n",
       "      <td>input</td>\n",
       "      <td>G2*</td>\n",
       "      <td>1253</td>\n",
       "      <td>stop</td>\n",
       "      <td>2</td>\n",
       "    </tr>\n",
       "    <tr>\n",
       "      <th>1</th>\n",
       "      <td>lib_2</td>\n",
       "      <td>input</td>\n",
       "      <td>M1K</td>\n",
       "      <td>1253</td>\n",
       "      <td>nonsynonymous</td>\n",
       "      <td>1</td>\n",
       "    </tr>\n",
       "    <tr>\n",
       "      <th>60</th>\n",
       "      <td>lib_2</td>\n",
       "      <td>selected</td>\n",
       "      <td>G2*</td>\n",
       "      <td>113</td>\n",
       "      <td>stop</td>\n",
       "      <td>2</td>\n",
       "    </tr>\n",
       "    <tr>\n",
       "      <th>61</th>\n",
       "      <td>lib_2</td>\n",
       "      <td>selected</td>\n",
       "      <td>M1K</td>\n",
       "      <td>113</td>\n",
       "      <td>nonsynonymous</td>\n",
       "      <td>1</td>\n",
       "    </tr>\n",
       "  </tbody>\n",
       "</table>\n",
       "</div>"
      ],
      "text/plain": [
       "   library    sample mutation  count  mutation_type  site\n",
       "0    lib_2     input      G2*   1253           stop     2\n",
       "1    lib_2     input      M1K   1253  nonsynonymous     1\n",
       "60   lib_2  selected      G2*    113           stop     2\n",
       "61   lib_2  selected      M1K    113  nonsynonymous     1"
      ]
     },
     "execution_count": 26,
     "metadata": {},
     "output_type": "execute_result"
    }
   ],
   "source": [
    "variants.mutCounts(\"all\", \"aa\", libraries=[\"lib_2\"]).query(\"count > 0\")"
   ]
  },
  {
   "cell_type": "markdown",
   "metadata": {},
   "source": [
    "We can use `CodonVariantTable.writeCodonCounts` to write codon count files. First for only **single** mutants:"
   ]
  },
  {
   "cell_type": "code",
   "execution_count": 27,
   "metadata": {},
   "outputs": [],
   "source": [
    "with tempfile.TemporaryDirectory() as tmpdir:\n",
    "    countfiles = variants.writeCodonCounts(\n",
    "        \"single\", outdir=tmpdir, include_all_libs=True\n",
    "    )\n",
    "    lib1_input = pd.read_csv(f\"{tmpdir}/lib_1_input_codoncounts.csv\")\n",
    "    all_sel = pd.read_csv(f\"{tmpdir}/all-libraries_selected_codoncounts.csv\")"
   ]
  },
  {
   "cell_type": "markdown",
   "metadata": {},
   "source": [
    "Names of created count files:"
   ]
  },
  {
   "cell_type": "code",
   "execution_count": 28,
   "metadata": {},
   "outputs": [
    {
     "data": {
      "text/html": [
       "<div>\n",
       "<style scoped>\n",
       "    .dataframe tbody tr th:only-of-type {\n",
       "        vertical-align: middle;\n",
       "    }\n",
       "\n",
       "    .dataframe tbody tr th {\n",
       "        vertical-align: top;\n",
       "    }\n",
       "\n",
       "    .dataframe thead th {\n",
       "        text-align: right;\n",
       "    }\n",
       "</style>\n",
       "<table border=\"1\" class=\"dataframe\">\n",
       "  <thead>\n",
       "    <tr style=\"text-align: right;\">\n",
       "      <th></th>\n",
       "      <th>library</th>\n",
       "      <th>sample</th>\n",
       "      <th>countfile</th>\n",
       "    </tr>\n",
       "  </thead>\n",
       "  <tbody>\n",
       "    <tr>\n",
       "      <th>0</th>\n",
       "      <td>lib_1</td>\n",
       "      <td>input</td>\n",
       "      <td>lib_1_input_codoncounts.csv</td>\n",
       "    </tr>\n",
       "    <tr>\n",
       "      <th>1</th>\n",
       "      <td>lib_1</td>\n",
       "      <td>selected</td>\n",
       "      <td>lib_1_selected_codoncounts.csv</td>\n",
       "    </tr>\n",
       "    <tr>\n",
       "      <th>2</th>\n",
       "      <td>lib_2</td>\n",
       "      <td>input</td>\n",
       "      <td>lib_2_input_codoncounts.csv</td>\n",
       "    </tr>\n",
       "    <tr>\n",
       "      <th>3</th>\n",
       "      <td>lib_2</td>\n",
       "      <td>selected</td>\n",
       "      <td>lib_2_selected_codoncounts.csv</td>\n",
       "    </tr>\n",
       "    <tr>\n",
       "      <th>4</th>\n",
       "      <td>all-libraries</td>\n",
       "      <td>input</td>\n",
       "      <td>all-libraries_input_codoncounts.csv</td>\n",
       "    </tr>\n",
       "    <tr>\n",
       "      <th>5</th>\n",
       "      <td>all-libraries</td>\n",
       "      <td>selected</td>\n",
       "      <td>all-libraries_selected_codoncounts.csv</td>\n",
       "    </tr>\n",
       "  </tbody>\n",
       "</table>\n",
       "</div>"
      ],
      "text/plain": [
       "         library    sample                               countfile\n",
       "0          lib_1     input             lib_1_input_codoncounts.csv\n",
       "1          lib_1  selected          lib_1_selected_codoncounts.csv\n",
       "2          lib_2     input             lib_2_input_codoncounts.csv\n",
       "3          lib_2  selected          lib_2_selected_codoncounts.csv\n",
       "4  all-libraries     input     all-libraries_input_codoncounts.csv\n",
       "5  all-libraries  selected  all-libraries_selected_codoncounts.csv"
      ]
     },
     "execution_count": 28,
     "metadata": {},
     "output_type": "execute_result"
    }
   ],
   "source": [
    "countfiles.assign(countfile=lambda x: x.countfile.apply(os.path.basename))"
   ]
  },
  {
   "cell_type": "markdown",
   "metadata": {},
   "source": [
    "Check for expected values in a few of these counts files, only showing columns with non-zero entries:"
   ]
  },
  {
   "cell_type": "code",
   "execution_count": 29,
   "metadata": {},
   "outputs": [
    {
     "data": {
      "text/html": [
       "<div>\n",
       "<style scoped>\n",
       "    .dataframe tbody tr th:only-of-type {\n",
       "        vertical-align: middle;\n",
       "    }\n",
       "\n",
       "    .dataframe tbody tr th {\n",
       "        vertical-align: top;\n",
       "    }\n",
       "\n",
       "    .dataframe thead th {\n",
       "        text-align: right;\n",
       "    }\n",
       "</style>\n",
       "<table border=\"1\" class=\"dataframe\">\n",
       "  <thead>\n",
       "    <tr style=\"text-align: right;\">\n",
       "      <th></th>\n",
       "      <th>site</th>\n",
       "      <th>wildtype</th>\n",
       "      <th>ATG</th>\n",
       "      <th>CGC</th>\n",
       "      <th>GGA</th>\n",
       "      <th>TGA</th>\n",
       "    </tr>\n",
       "  </thead>\n",
       "  <tbody>\n",
       "    <tr>\n",
       "      <th>0</th>\n",
       "      <td>1</td>\n",
       "      <td>ATG</td>\n",
       "      <td>253</td>\n",
       "      <td>0</td>\n",
       "      <td>0</td>\n",
       "      <td>0</td>\n",
       "    </tr>\n",
       "    <tr>\n",
       "      <th>1</th>\n",
       "      <td>2</td>\n",
       "      <td>GGA</td>\n",
       "      <td>0</td>\n",
       "      <td>1101</td>\n",
       "      <td>253</td>\n",
       "      <td>0</td>\n",
       "    </tr>\n",
       "    <tr>\n",
       "      <th>2</th>\n",
       "      <td>3</td>\n",
       "      <td>TGA</td>\n",
       "      <td>0</td>\n",
       "      <td>0</td>\n",
       "      <td>0</td>\n",
       "      <td>253</td>\n",
       "    </tr>\n",
       "  </tbody>\n",
       "</table>\n",
       "</div>"
      ],
      "text/plain": [
       "   site wildtype  ATG   CGC  GGA  TGA\n",
       "0     1      ATG  253     0    0    0\n",
       "1     2      GGA    0  1101  253    0\n",
       "2     3      TGA    0     0    0  253"
      ]
     },
     "execution_count": 29,
     "metadata": {},
     "output_type": "execute_result"
    }
   ],
   "source": [
    "lib1_input.iloc[:, (lib1_input != 0).any(axis=\"rows\").values]"
   ]
  },
  {
   "cell_type": "code",
   "execution_count": 30,
   "metadata": {},
   "outputs": [
    {
     "data": {
      "text/html": [
       "<div>\n",
       "<style scoped>\n",
       "    .dataframe tbody tr th:only-of-type {\n",
       "        vertical-align: middle;\n",
       "    }\n",
       "\n",
       "    .dataframe tbody tr th {\n",
       "        vertical-align: top;\n",
       "    }\n",
       "\n",
       "    .dataframe thead th {\n",
       "        text-align: right;\n",
       "    }\n",
       "</style>\n",
       "<table border=\"1\" class=\"dataframe\">\n",
       "  <thead>\n",
       "    <tr style=\"text-align: right;\">\n",
       "      <th></th>\n",
       "      <th>site</th>\n",
       "      <th>wildtype</th>\n",
       "      <th>ATG</th>\n",
       "      <th>CGC</th>\n",
       "      <th>GGA</th>\n",
       "      <th>GGC</th>\n",
       "      <th>TGA</th>\n",
       "    </tr>\n",
       "  </thead>\n",
       "  <tbody>\n",
       "    <tr>\n",
       "      <th>0</th>\n",
       "      <td>1</td>\n",
       "      <td>ATG</td>\n",
       "      <td>513</td>\n",
       "      <td>0</td>\n",
       "      <td>0</td>\n",
       "      <td>0</td>\n",
       "      <td>0</td>\n",
       "    </tr>\n",
       "    <tr>\n",
       "      <th>1</th>\n",
       "      <td>2</td>\n",
       "      <td>GGA</td>\n",
       "      <td>0</td>\n",
       "      <td>401</td>\n",
       "      <td>513</td>\n",
       "      <td>1200</td>\n",
       "      <td>0</td>\n",
       "    </tr>\n",
       "    <tr>\n",
       "      <th>2</th>\n",
       "      <td>3</td>\n",
       "      <td>TGA</td>\n",
       "      <td>0</td>\n",
       "      <td>0</td>\n",
       "      <td>0</td>\n",
       "      <td>0</td>\n",
       "      <td>513</td>\n",
       "    </tr>\n",
       "  </tbody>\n",
       "</table>\n",
       "</div>"
      ],
      "text/plain": [
       "   site wildtype  ATG  CGC  GGA   GGC  TGA\n",
       "0     1      ATG  513    0    0     0    0\n",
       "1     2      GGA    0  401  513  1200    0\n",
       "2     3      TGA    0    0    0     0  513"
      ]
     },
     "execution_count": 30,
     "metadata": {},
     "output_type": "execute_result"
    }
   ],
   "source": [
    "all_sel.iloc[:, (all_sel != 0).any(axis=\"rows\").values]"
   ]
  },
  {
   "cell_type": "markdown",
   "metadata": {},
   "source": [
    "Now write codon counts files for **all** mutants:"
   ]
  },
  {
   "cell_type": "code",
   "execution_count": 31,
   "metadata": {},
   "outputs": [],
   "source": [
    "with tempfile.TemporaryDirectory() as tmpdir:\n",
    "    _ = variants.writeCodonCounts(\"all\", outdir=tmpdir, include_all_libs=True)\n",
    "    lib1_input_all = pd.read_csv(f\"{tmpdir}/lib_1_input_codoncounts.csv\")\n",
    "    all_sel_all = pd.read_csv(f\"{tmpdir}/all-libraries_selected_codoncounts.csv\")"
   ]
  },
  {
   "cell_type": "code",
   "execution_count": 32,
   "metadata": {},
   "outputs": [
    {
     "data": {
      "text/html": [
       "<div>\n",
       "<style scoped>\n",
       "    .dataframe tbody tr th:only-of-type {\n",
       "        vertical-align: middle;\n",
       "    }\n",
       "\n",
       "    .dataframe tbody tr th {\n",
       "        vertical-align: top;\n",
       "    }\n",
       "\n",
       "    .dataframe thead th {\n",
       "        text-align: right;\n",
       "    }\n",
       "</style>\n",
       "<table border=\"1\" class=\"dataframe\">\n",
       "  <thead>\n",
       "    <tr style=\"text-align: right;\">\n",
       "      <th></th>\n",
       "      <th>site</th>\n",
       "      <th>wildtype</th>\n",
       "      <th>ATG</th>\n",
       "      <th>CGC</th>\n",
       "      <th>GGA</th>\n",
       "      <th>TGA</th>\n",
       "    </tr>\n",
       "  </thead>\n",
       "  <tbody>\n",
       "    <tr>\n",
       "      <th>0</th>\n",
       "      <td>1</td>\n",
       "      <td>ATG</td>\n",
       "      <td>1354</td>\n",
       "      <td>0</td>\n",
       "      <td>0</td>\n",
       "      <td>0</td>\n",
       "    </tr>\n",
       "    <tr>\n",
       "      <th>1</th>\n",
       "      <td>2</td>\n",
       "      <td>GGA</td>\n",
       "      <td>0</td>\n",
       "      <td>1101</td>\n",
       "      <td>253</td>\n",
       "      <td>0</td>\n",
       "    </tr>\n",
       "    <tr>\n",
       "      <th>2</th>\n",
       "      <td>3</td>\n",
       "      <td>TGA</td>\n",
       "      <td>0</td>\n",
       "      <td>0</td>\n",
       "      <td>0</td>\n",
       "      <td>1354</td>\n",
       "    </tr>\n",
       "  </tbody>\n",
       "</table>\n",
       "</div>"
      ],
      "text/plain": [
       "   site wildtype   ATG   CGC  GGA   TGA\n",
       "0     1      ATG  1354     0    0     0\n",
       "1     2      GGA     0  1101  253     0\n",
       "2     3      TGA     0     0    0  1354"
      ]
     },
     "execution_count": 32,
     "metadata": {},
     "output_type": "execute_result"
    }
   ],
   "source": [
    "lib1_input_all.iloc[:, (lib1_input_all != 0).any(axis=\"rows\").values]"
   ]
  },
  {
   "cell_type": "code",
   "execution_count": 33,
   "metadata": {},
   "outputs": [
    {
     "data": {
      "text/html": [
       "<div>\n",
       "<style scoped>\n",
       "    .dataframe tbody tr th:only-of-type {\n",
       "        vertical-align: middle;\n",
       "    }\n",
       "\n",
       "    .dataframe tbody tr th {\n",
       "        vertical-align: top;\n",
       "    }\n",
       "\n",
       "    .dataframe thead th {\n",
       "        text-align: right;\n",
       "    }\n",
       "</style>\n",
       "<table border=\"1\" class=\"dataframe\">\n",
       "  <thead>\n",
       "    <tr style=\"text-align: right;\">\n",
       "      <th></th>\n",
       "      <th>site</th>\n",
       "      <th>wildtype</th>\n",
       "      <th>AAG</th>\n",
       "      <th>ATG</th>\n",
       "      <th>CGC</th>\n",
       "      <th>GGA</th>\n",
       "      <th>GGC</th>\n",
       "      <th>TGA</th>\n",
       "    </tr>\n",
       "  </thead>\n",
       "  <tbody>\n",
       "    <tr>\n",
       "      <th>0</th>\n",
       "      <td>1</td>\n",
       "      <td>ATG</td>\n",
       "      <td>113</td>\n",
       "      <td>2114</td>\n",
       "      <td>0</td>\n",
       "      <td>0</td>\n",
       "      <td>0</td>\n",
       "      <td>0</td>\n",
       "    </tr>\n",
       "    <tr>\n",
       "      <th>1</th>\n",
       "      <td>2</td>\n",
       "      <td>GGA</td>\n",
       "      <td>0</td>\n",
       "      <td>0</td>\n",
       "      <td>401</td>\n",
       "      <td>513</td>\n",
       "      <td>1200</td>\n",
       "      <td>113</td>\n",
       "    </tr>\n",
       "    <tr>\n",
       "      <th>2</th>\n",
       "      <td>3</td>\n",
       "      <td>TGA</td>\n",
       "      <td>0</td>\n",
       "      <td>0</td>\n",
       "      <td>0</td>\n",
       "      <td>0</td>\n",
       "      <td>0</td>\n",
       "      <td>2227</td>\n",
       "    </tr>\n",
       "  </tbody>\n",
       "</table>\n",
       "</div>"
      ],
      "text/plain": [
       "   site wildtype  AAG   ATG  CGC  GGA   GGC   TGA\n",
       "0     1      ATG  113  2114    0    0     0     0\n",
       "1     2      GGA    0     0  401  513  1200   113\n",
       "2     3      TGA    0     0    0    0     0  2227"
      ]
     },
     "execution_count": 33,
     "metadata": {},
     "output_type": "execute_result"
    }
   ],
   "source": [
    "all_sel_all.iloc[:, (all_sel_all != 0).any(axis=\"rows\").values]"
   ]
  },
  {
   "cell_type": "markdown",
   "metadata": {},
   "source": [
    "We can also initialize `CodonVariantTable` from the `variant_count_df` if we have written that to a CSV file. \n",
    "We do this using `CodonVariantTable.from_variant_count_df`.\n",
    "The example below shows how this newly initialized variant table is equal to the original one used to write the CSV file:"
   ]
  },
  {
   "cell_type": "code",
   "execution_count": 34,
   "metadata": {},
   "outputs": [
    {
     "data": {
      "text/plain": [
       "False"
      ]
     },
     "execution_count": 34,
     "metadata": {},
     "output_type": "execute_result"
    }
   ],
   "source": [
    "with tempfile.NamedTemporaryFile(mode=\"w\") as f:\n",
    "    variants.variant_count_df.to_csv(f, index=False)\n",
    "    f.flush()\n",
    "    variants_eq = CodonVariantTable.from_variant_count_df(\n",
    "        variant_count_df_file=f.name, geneseq=geneseq\n",
    "    )\n",
    "variants == variants_eq"
   ]
  },
  {
   "cell_type": "markdown",
   "metadata": {},
   "source": [
    "Of course, the initialized variant table is **not** equal to original one if we don't write the full `variant_count_df` to the CSV file:"
   ]
  },
  {
   "cell_type": "code",
   "execution_count": 35,
   "metadata": {},
   "outputs": [
    {
     "data": {
      "text/plain": [
       "False"
      ]
     },
     "execution_count": 35,
     "metadata": {},
     "output_type": "execute_result"
    }
   ],
   "source": [
    "with tempfile.NamedTemporaryFile(mode=\"w\") as f:\n",
    "    (variants.variant_count_df.query('sample == \"input\"').to_csv(f, index=False))\n",
    "    f.flush()\n",
    "    variants_ne = CodonVariantTable.from_variant_count_df(\n",
    "        variant_count_df_file=f.name, geneseq=geneseq\n",
    "    )\n",
    "variants == variants_ne"
   ]
  },
  {
   "cell_type": "markdown",
   "metadata": {},
   "source": [
    "We can use `CodonVariantTable.func_scores` to compute the functional effects of mutations. We cannot use this method with default options as we have no wildtype counts (needed for normalization) for `lib_2` so we get an error:"
   ]
  },
  {
   "cell_type": "code",
   "execution_count": 36,
   "metadata": {},
   "outputs": [
    {
     "name": "stdout",
     "output_type": "stream",
     "text": [
      "ValueError: no wildtype counts:\n",
      "         library    sample  count\n",
      "0          lib_1     input    253\n",
      "1          lib_1  selected    513\n",
      "2          lib_2     input      0\n",
      "3          lib_2  selected      0\n",
      "4  all libraries     input    253\n",
      "5  all libraries  selected    513\n"
     ]
    }
   ],
   "source": [
    "try:\n",
    "    variants.func_scores(\"input\")\n",
    "except ValueError as exception:\n",
    "    print(f\"ValueError: {exception}\")"
   ]
  },
  {
   "cell_type": "markdown",
   "metadata": {},
   "source": [
    "However, we can use the method with the `permit_zero_wt` option:"
   ]
  },
  {
   "cell_type": "code",
   "execution_count": 37,
   "metadata": {},
   "outputs": [
    {
     "data": {
      "text/html": [
       "<div>\n",
       "<style scoped>\n",
       "    .dataframe tbody tr th:only-of-type {\n",
       "        vertical-align: middle;\n",
       "    }\n",
       "\n",
       "    .dataframe tbody tr th {\n",
       "        vertical-align: top;\n",
       "    }\n",
       "\n",
       "    .dataframe thead th {\n",
       "        text-align: right;\n",
       "    }\n",
       "</style>\n",
       "<table border=\"1\" class=\"dataframe\">\n",
       "  <thead>\n",
       "    <tr style=\"text-align: right;\">\n",
       "      <th></th>\n",
       "      <th>library</th>\n",
       "      <th>pre_sample</th>\n",
       "      <th>post_sample</th>\n",
       "      <th>barcode</th>\n",
       "      <th>func_score</th>\n",
       "      <th>func_score_var</th>\n",
       "      <th>pre_count</th>\n",
       "      <th>post_count</th>\n",
       "      <th>pre_count_wt</th>\n",
       "      <th>post_count_wt</th>\n",
       "      <th>pseudocount</th>\n",
       "      <th>codon_substitutions</th>\n",
       "      <th>n_codon_substitutions</th>\n",
       "      <th>aa_substitutions</th>\n",
       "      <th>n_aa_substitutions</th>\n",
       "    </tr>\n",
       "  </thead>\n",
       "  <tbody>\n",
       "    <tr>\n",
       "      <th>0</th>\n",
       "      <td>lib_1</td>\n",
       "      <td>input</td>\n",
       "      <td>selected</td>\n",
       "      <td>GAT</td>\n",
       "      <td>-2.474376</td>\n",
       "      <td>0.019337</td>\n",
       "      <td>1101</td>\n",
       "      <td>401</td>\n",
       "      <td>253</td>\n",
       "      <td>513</td>\n",
       "      <td>0.5</td>\n",
       "      <td>GGA2CGC</td>\n",
       "      <td>1</td>\n",
       "      <td>G2R</td>\n",
       "      <td>1</td>\n",
       "    </tr>\n",
       "    <tr>\n",
       "      <th>1</th>\n",
       "      <td>lib_1</td>\n",
       "      <td>input</td>\n",
       "      <td>selected</td>\n",
       "      <td>AAC</td>\n",
       "      <td>0.000000</td>\n",
       "      <td>0.024528</td>\n",
       "      <td>253</td>\n",
       "      <td>513</td>\n",
       "      <td>253</td>\n",
       "      <td>513</td>\n",
       "      <td>0.5</td>\n",
       "      <td></td>\n",
       "      <td>0</td>\n",
       "      <td></td>\n",
       "      <td>0</td>\n",
       "    </tr>\n",
       "    <tr>\n",
       "      <th>2</th>\n",
       "      <td>lib_2</td>\n",
       "      <td>input</td>\n",
       "      <td>selected</td>\n",
       "      <td>AAC</td>\n",
       "      <td>-3.465198</td>\n",
       "      <td>8.345474</td>\n",
       "      <td>1253</td>\n",
       "      <td>113</td>\n",
       "      <td>0</td>\n",
       "      <td>0</td>\n",
       "      <td>0.5</td>\n",
       "      <td>ATG1AAG GGA2TGA</td>\n",
       "      <td>2</td>\n",
       "      <td>M1K G2*</td>\n",
       "      <td>2</td>\n",
       "    </tr>\n",
       "    <tr>\n",
       "      <th>3</th>\n",
       "      <td>lib_2</td>\n",
       "      <td>input</td>\n",
       "      <td>selected</td>\n",
       "      <td>CAT</td>\n",
       "      <td>0.378452</td>\n",
       "      <td>8.329463</td>\n",
       "      <td>923</td>\n",
       "      <td>1200</td>\n",
       "      <td>0</td>\n",
       "      <td>0</td>\n",
       "      <td>0.5</td>\n",
       "      <td>GGA2GGC</td>\n",
       "      <td>1</td>\n",
       "      <td></td>\n",
       "      <td>0</td>\n",
       "    </tr>\n",
       "    <tr>\n",
       "      <th>4</th>\n",
       "      <td>all libraries</td>\n",
       "      <td>input</td>\n",
       "      <td>selected</td>\n",
       "      <td>lib_1-GAT</td>\n",
       "      <td>-2.474376</td>\n",
       "      <td>0.019337</td>\n",
       "      <td>1101</td>\n",
       "      <td>401</td>\n",
       "      <td>253</td>\n",
       "      <td>513</td>\n",
       "      <td>0.5</td>\n",
       "      <td>GGA2CGC</td>\n",
       "      <td>1</td>\n",
       "      <td>G2R</td>\n",
       "      <td>1</td>\n",
       "    </tr>\n",
       "    <tr>\n",
       "      <th>5</th>\n",
       "      <td>all libraries</td>\n",
       "      <td>input</td>\n",
       "      <td>selected</td>\n",
       "      <td>lib_1-AAC</td>\n",
       "      <td>0.000000</td>\n",
       "      <td>0.024528</td>\n",
       "      <td>253</td>\n",
       "      <td>513</td>\n",
       "      <td>253</td>\n",
       "      <td>513</td>\n",
       "      <td>0.5</td>\n",
       "      <td></td>\n",
       "      <td>0</td>\n",
       "      <td></td>\n",
       "      <td>0</td>\n",
       "    </tr>\n",
       "    <tr>\n",
       "      <th>6</th>\n",
       "      <td>all libraries</td>\n",
       "      <td>input</td>\n",
       "      <td>selected</td>\n",
       "      <td>lib_2-AAC</td>\n",
       "      <td>-4.483576</td>\n",
       "      <td>0.032262</td>\n",
       "      <td>1253</td>\n",
       "      <td>113</td>\n",
       "      <td>253</td>\n",
       "      <td>513</td>\n",
       "      <td>0.5</td>\n",
       "      <td>ATG1AAG GGA2TGA</td>\n",
       "      <td>2</td>\n",
       "      <td>M1K G2*</td>\n",
       "      <td>2</td>\n",
       "    </tr>\n",
       "    <tr>\n",
       "      <th>7</th>\n",
       "      <td>all libraries</td>\n",
       "      <td>input</td>\n",
       "      <td>selected</td>\n",
       "      <td>lib_2-CAT</td>\n",
       "      <td>-0.639927</td>\n",
       "      <td>0.016251</td>\n",
       "      <td>923</td>\n",
       "      <td>1200</td>\n",
       "      <td>253</td>\n",
       "      <td>513</td>\n",
       "      <td>0.5</td>\n",
       "      <td>GGA2GGC</td>\n",
       "      <td>1</td>\n",
       "      <td></td>\n",
       "      <td>0</td>\n",
       "    </tr>\n",
       "  </tbody>\n",
       "</table>\n",
       "</div>"
      ],
      "text/plain": [
       "         library pre_sample post_sample    barcode  func_score  \\\n",
       "0          lib_1      input    selected        GAT   -2.474376   \n",
       "1          lib_1      input    selected        AAC    0.000000   \n",
       "2          lib_2      input    selected        AAC   -3.465198   \n",
       "3          lib_2      input    selected        CAT    0.378452   \n",
       "4  all libraries      input    selected  lib_1-GAT   -2.474376   \n",
       "5  all libraries      input    selected  lib_1-AAC    0.000000   \n",
       "6  all libraries      input    selected  lib_2-AAC   -4.483576   \n",
       "7  all libraries      input    selected  lib_2-CAT   -0.639927   \n",
       "\n",
       "   func_score_var  pre_count  post_count  pre_count_wt  post_count_wt  \\\n",
       "0        0.019337       1101         401           253            513   \n",
       "1        0.024528        253         513           253            513   \n",
       "2        8.345474       1253         113             0              0   \n",
       "3        8.329463        923        1200             0              0   \n",
       "4        0.019337       1101         401           253            513   \n",
       "5        0.024528        253         513           253            513   \n",
       "6        0.032262       1253         113           253            513   \n",
       "7        0.016251        923        1200           253            513   \n",
       "\n",
       "   pseudocount codon_substitutions  n_codon_substitutions aa_substitutions  \\\n",
       "0          0.5             GGA2CGC                      1              G2R   \n",
       "1          0.5                                          0                    \n",
       "2          0.5     ATG1AAG GGA2TGA                      2          M1K G2*   \n",
       "3          0.5             GGA2GGC                      1                    \n",
       "4          0.5             GGA2CGC                      1              G2R   \n",
       "5          0.5                                          0                    \n",
       "6          0.5     ATG1AAG GGA2TGA                      2          M1K G2*   \n",
       "7          0.5             GGA2GGC                      1                    \n",
       "\n",
       "   n_aa_substitutions  \n",
       "0                   1  \n",
       "1                   0  \n",
       "2                   2  \n",
       "3                   0  \n",
       "4                   1  \n",
       "5                   0  \n",
       "6                   2  \n",
       "7                   0  "
      ]
     },
     "execution_count": 37,
     "metadata": {},
     "output_type": "execute_result"
    }
   ],
   "source": [
    "scores = variants.func_scores(\"input\", permit_zero_wt=True)\n",
    "scores"
   ]
  },
  {
   "cell_type": "markdown",
   "metadata": {},
   "source": [
    "Add the amino-acid and codon sequences to the `scores` data frame with `CodonVariantTable.add_full_seqs`:"
   ]
  },
  {
   "cell_type": "code",
   "execution_count": 38,
   "metadata": {},
   "outputs": [
    {
     "data": {
      "text/html": [
       "<div>\n",
       "<style scoped>\n",
       "    .dataframe tbody tr th:only-of-type {\n",
       "        vertical-align: middle;\n",
       "    }\n",
       "\n",
       "    .dataframe tbody tr th {\n",
       "        vertical-align: top;\n",
       "    }\n",
       "\n",
       "    .dataframe thead th {\n",
       "        text-align: right;\n",
       "    }\n",
       "</style>\n",
       "<table border=\"1\" class=\"dataframe\">\n",
       "  <thead>\n",
       "    <tr style=\"text-align: right;\">\n",
       "      <th></th>\n",
       "      <th>library</th>\n",
       "      <th>func_score</th>\n",
       "      <th>func_score_var</th>\n",
       "      <th>aa_sequence</th>\n",
       "      <th>codon_sequence</th>\n",
       "    </tr>\n",
       "  </thead>\n",
       "  <tbody>\n",
       "    <tr>\n",
       "      <th>0</th>\n",
       "      <td>lib_1</td>\n",
       "      <td>-2.474376</td>\n",
       "      <td>0.019337</td>\n",
       "      <td>MR*</td>\n",
       "      <td>ATGCGCTGA</td>\n",
       "    </tr>\n",
       "    <tr>\n",
       "      <th>1</th>\n",
       "      <td>lib_1</td>\n",
       "      <td>0.000000</td>\n",
       "      <td>0.024528</td>\n",
       "      <td>MG*</td>\n",
       "      <td>ATGGGATGA</td>\n",
       "    </tr>\n",
       "    <tr>\n",
       "      <th>2</th>\n",
       "      <td>lib_2</td>\n",
       "      <td>-3.465198</td>\n",
       "      <td>8.345474</td>\n",
       "      <td>K**</td>\n",
       "      <td>AAGTGATGA</td>\n",
       "    </tr>\n",
       "    <tr>\n",
       "      <th>3</th>\n",
       "      <td>lib_2</td>\n",
       "      <td>0.378452</td>\n",
       "      <td>8.329463</td>\n",
       "      <td>MG*</td>\n",
       "      <td>ATGGGCTGA</td>\n",
       "    </tr>\n",
       "    <tr>\n",
       "      <th>4</th>\n",
       "      <td>all libraries</td>\n",
       "      <td>-2.474376</td>\n",
       "      <td>0.019337</td>\n",
       "      <td>MR*</td>\n",
       "      <td>ATGCGCTGA</td>\n",
       "    </tr>\n",
       "    <tr>\n",
       "      <th>5</th>\n",
       "      <td>all libraries</td>\n",
       "      <td>0.000000</td>\n",
       "      <td>0.024528</td>\n",
       "      <td>MG*</td>\n",
       "      <td>ATGGGATGA</td>\n",
       "    </tr>\n",
       "    <tr>\n",
       "      <th>6</th>\n",
       "      <td>all libraries</td>\n",
       "      <td>-4.483576</td>\n",
       "      <td>0.032262</td>\n",
       "      <td>K**</td>\n",
       "      <td>AAGTGATGA</td>\n",
       "    </tr>\n",
       "    <tr>\n",
       "      <th>7</th>\n",
       "      <td>all libraries</td>\n",
       "      <td>-0.639927</td>\n",
       "      <td>0.016251</td>\n",
       "      <td>MG*</td>\n",
       "      <td>ATGGGCTGA</td>\n",
       "    </tr>\n",
       "  </tbody>\n",
       "</table>\n",
       "</div>"
      ],
      "text/plain": [
       "         library  func_score  func_score_var aa_sequence codon_sequence\n",
       "0          lib_1   -2.474376        0.019337         MR*      ATGCGCTGA\n",
       "1          lib_1    0.000000        0.024528         MG*      ATGGGATGA\n",
       "2          lib_2   -3.465198        8.345474         K**      AAGTGATGA\n",
       "3          lib_2    0.378452        8.329463         MG*      ATGGGCTGA\n",
       "4  all libraries   -2.474376        0.019337         MR*      ATGCGCTGA\n",
       "5  all libraries    0.000000        0.024528         MG*      ATGGGATGA\n",
       "6  all libraries   -4.483576        0.032262         K**      AAGTGATGA\n",
       "7  all libraries   -0.639927        0.016251         MG*      ATGGGCTGA"
      ]
     },
     "execution_count": 38,
     "metadata": {},
     "output_type": "execute_result"
    }
   ],
   "source": [
    "(\n",
    "    variants.add_full_seqs(scores)[\n",
    "        [\"library\", \"func_score\", \"func_score_var\", \"aa_sequence\", \"codon_sequence\"]\n",
    "    ]\n",
    ")"
   ]
  }
 ],
 "metadata": {
  "kernelspec": {
   "display_name": "Python 3",
   "language": "python",
   "name": "python3"
  },
  "language_info": {
   "codemirror_mode": {
    "name": "ipython",
    "version": 3
   },
   "file_extension": ".py",
   "mimetype": "text/x-python",
   "name": "python",
   "nbconvert_exporter": "python",
   "pygments_lexer": "ipython3",
   "version": "3.6.7"
  },
  "toc": {
   "base_numbering": 1,
   "nav_menu": {},
   "number_sections": false,
   "sideBar": true,
   "skip_h1_title": false,
   "title_cell": "Table of Contents",
   "title_sidebar": "Contents",
   "toc_cell": false,
   "toc_position": {},
   "toc_section_display": true,
   "toc_window_display": false
  }
 },
 "nbformat": 4,
 "nbformat_minor": 4
}
