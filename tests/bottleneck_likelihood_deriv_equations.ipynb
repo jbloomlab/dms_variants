{
 "cells": [
  {
   "cell_type": "markdown",
   "metadata": {},
   "source": [
    "# Bottleneck likelihood derivatives for global epistasis models\n",
    "This Python Jupyter notebook tests the calculation of the bottleneck likelihood derivatives for the global epistasis models.\n",
    "Note that it isn't actually really testing code--instead, it's just code that verifies that the analytical derivatives are calculated correctly.\n",
    "\n",
    "Import Python modules:"
   ]
  },
  {
   "cell_type": "code",
   "execution_count": 1,
   "metadata": {
    "execution": {
     "iopub.execute_input": "2022-08-01T17:42:43.483304Z",
     "iopub.status.busy": "2022-08-01T17:42:43.482620Z",
     "iopub.status.idle": "2022-08-01T17:42:43.919763Z",
     "shell.execute_reply": "2022-08-01T17:42:43.918846Z",
     "shell.execute_reply.started": "2022-08-01T17:42:43.483155Z"
    }
   },
   "outputs": [],
   "source": [
    "import math\n",
    "\n",
    "import numpy\n",
    "\n",
    "import scipy.optimize\n",
    "import scipy.special"
   ]
  },
  {
   "cell_type": "markdown",
   "metadata": {},
   "source": [
    "Choose some values for the \"measured\" parameters:"
   ]
  },
  {
   "cell_type": "code",
   "execution_count": 2,
   "metadata": {
    "execution": {
     "iopub.execute_input": "2022-08-01T17:42:43.923179Z",
     "iopub.status.busy": "2022-08-01T17:42:43.923025Z",
     "iopub.status.idle": "2022-08-01T17:42:43.926792Z",
     "shell.execute_reply": "2022-08-01T17:42:43.926120Z",
     "shell.execute_reply.started": "2022-08-01T17:42:43.923157Z"
    }
   },
   "outputs": [],
   "source": [
    "f_v_pre = numpy.array([0.2, 0.4, 0.4, 0.1])\n",
    "f_v_post = numpy.array([0.25, 0.35, 0.35, 0.05])"
   ]
  },
  {
   "cell_type": "markdown",
   "metadata": {},
   "source": [
    "Set a few values for the bottleneck and observed phenotypes:"
   ]
  },
  {
   "cell_type": "code",
   "execution_count": 3,
   "metadata": {
    "execution": {
     "iopub.execute_input": "2022-08-01T17:42:43.930910Z",
     "iopub.status.busy": "2022-08-01T17:42:43.930730Z",
     "iopub.status.idle": "2022-08-01T17:42:43.934680Z",
     "shell.execute_reply": "2022-08-01T17:42:43.934108Z",
     "shell.execute_reply.started": "2022-08-01T17:42:43.930889Z"
    }
   },
   "outputs": [],
   "source": [
    "N_bottles = [10, 100, 1000]\n",
    "\n",
    "# one value of observed phenotype is real (ML) value\n",
    "real_p_v = numpy.log(f_v_post / f_v_pre) / numpy.log(\n",
    "    2\n",
    ")  # - numpy.log(0.35 / 0.4) / numpy.log(2)\n",
    "p_vs = [numpy.array([-2, -1, 0.1, 2]), real_p_v]"
   ]
  },
  {
   "cell_type": "markdown",
   "metadata": {},
   "source": [
    "Function to compute $n_v^{\\rm{bottle}}$:"
   ]
  },
  {
   "cell_type": "code",
   "execution_count": 4,
   "metadata": {
    "execution": {
     "iopub.execute_input": "2022-08-01T17:42:43.937569Z",
     "iopub.status.busy": "2022-08-01T17:42:43.937238Z",
     "iopub.status.idle": "2022-08-01T17:42:43.940917Z",
     "shell.execute_reply": "2022-08-01T17:42:43.940214Z",
     "shell.execute_reply.started": "2022-08-01T17:42:43.937544Z"
    }
   },
   "outputs": [],
   "source": [
    "def n_v_bottle_func(N_bottle, p_v):\n",
    "    return (f_v_post * N_bottle * (f_v_pre * 2**p_v).sum()) / (2**p_v)"
   ]
  },
  {
   "cell_type": "markdown",
   "metadata": {},
   "source": [
    "Function to compute log likelihood:"
   ]
  },
  {
   "cell_type": "code",
   "execution_count": 5,
   "metadata": {
    "execution": {
     "iopub.execute_input": "2022-08-01T17:42:43.943760Z",
     "iopub.status.busy": "2022-08-01T17:42:43.943604Z",
     "iopub.status.idle": "2022-08-01T17:42:43.947541Z",
     "shell.execute_reply": "2022-08-01T17:42:43.946979Z",
     "shell.execute_reply.started": "2022-08-01T17:42:43.943740Z"
    }
   },
   "outputs": [],
   "source": [
    "def L_func(N_bottle, p_v):\n",
    "    n_v_bottle = n_v_bottle_func(N_bottle, p_v)\n",
    "    return (\n",
    "        n_v_bottle * numpy.log(N_bottle * f_v_pre)\n",
    "        - scipy.special.loggamma(n_v_bottle + 1)\n",
    "    ).sum() - N_bottle"
   ]
  },
  {
   "cell_type": "markdown",
   "metadata": {},
   "source": [
    "Derivative of log likelihood with respect to overall bottleneck:"
   ]
  },
  {
   "cell_type": "code",
   "execution_count": 6,
   "metadata": {
    "execution": {
     "iopub.execute_input": "2022-08-01T17:42:43.950357Z",
     "iopub.status.busy": "2022-08-01T17:42:43.950201Z",
     "iopub.status.idle": "2022-08-01T17:42:43.954075Z",
     "shell.execute_reply": "2022-08-01T17:42:43.953416Z",
     "shell.execute_reply.started": "2022-08-01T17:42:43.950337Z"
    }
   },
   "outputs": [],
   "source": [
    "def dL_dNbottle_func(N_bottle, p_v):\n",
    "    n_v_bottle = n_v_bottle_func(N_bottle, p_v)\n",
    "    return (\n",
    "        n_v_bottle\n",
    "        / N_bottle\n",
    "        * (numpy.log(N_bottle * f_v_pre) + 1 - scipy.special.digamma(n_v_bottle + 1))\n",
    "    ).sum() - 1"
   ]
  },
  {
   "cell_type": "markdown",
   "metadata": {},
   "source": [
    "Derivative of log likelihood with respect to observed phenotypes:"
   ]
  },
  {
   "cell_type": "code",
   "execution_count": 7,
   "metadata": {
    "execution": {
     "iopub.execute_input": "2022-08-01T17:42:43.957135Z",
     "iopub.status.busy": "2022-08-01T17:42:43.956858Z",
     "iopub.status.idle": "2022-08-01T17:42:43.961789Z",
     "shell.execute_reply": "2022-08-01T17:42:43.961116Z",
     "shell.execute_reply.started": "2022-08-01T17:42:43.957110Z"
    }
   },
   "outputs": [],
   "source": [
    "def dL_dp_v_func(N_bottle, p_v):\n",
    "    n_v_bottle = n_v_bottle_func(N_bottle, p_v)\n",
    "    ln_psi_term = numpy.log(N_bottle * f_v_pre) - scipy.special.digamma(n_v_bottle + 1)\n",
    "    sum_term = ((f_v_post / (2**p_v)) * ln_psi_term).sum()\n",
    "    return (\n",
    "        math.log(2) * f_v_pre * 2**p_v * N_bottle * sum_term\n",
    "        - math.log(2) * n_v_bottle * ln_psi_term\n",
    "    )"
   ]
  },
  {
   "cell_type": "markdown",
   "metadata": {},
   "source": [
    "Compute the log likelihoods and their derivatives.\n",
    "We see that when $p\\left(v\\right)$ is close to the \"real\" value (second value in `p_vs`), then increasing $N_{\\rm{bottle}}$ increases the log likelihood.\n",
    "When $p\\left(v\\right)$ is very far from the \"real\" value (first value in `p_vs`), then increasing $N_{\\rm{bottle}}$ decreases the log likelihood:"
   ]
  },
  {
   "cell_type": "code",
   "execution_count": 8,
   "metadata": {
    "execution": {
     "iopub.execute_input": "2022-08-01T17:42:43.964818Z",
     "iopub.status.busy": "2022-08-01T17:42:43.964548Z",
     "iopub.status.idle": "2022-08-01T17:42:43.994000Z",
     "shell.execute_reply": "2022-08-01T17:42:43.993278Z",
     "shell.execute_reply.started": "2022-08-01T17:42:43.964793Z"
    },
    "tags": []
   },
   "outputs": [
    {
     "name": "stdout",
     "output_type": "stream",
     "text": [
      "\n",
      "p_v = [-2.0, -1.0, 0.1, 2.0]\n",
      "  N_bottle = 10\n",
      "    L = -16.2\n",
      "    dL_dNbottle = -1.19\n",
      "    value of dL_dp_v = [12.17, 0.59, -6.57, -6.19]\n",
      "    numerical value of dL_dp_v: [12.17, 0.59, -6.57, -6.19]\n",
      "    ML value of p_v = [0.24, -0.32, -0.32, -0.53], and maxL = -4.51\n",
      "  N_bottle = 100\n",
      "    L = -113\n",
      "    dL_dNbottle = -1.05\n",
      "    value of dL_dp_v = [119.14, 4.75, -64.61, -59.28]\n",
      "    numerical value of dL_dp_v: [119.14, 4.75, -64.61, -59.28]\n",
      "    ML value of p_v = [0.12, -0.4, -0.4, -1.14], and maxL = -0.0218\n",
      "  N_bottle = 1000\n",
      "    L = -1.04e+03\n",
      "    dL_dNbottle = -1.03\n",
      "    value of dL_dp_v = [1188.8, 46.59, -644.4, -591.0]\n",
      "    numerical value of dL_dp_v: [1188.8, 46.59, -644.4, -591.0]\n",
      "    ML value of p_v = [0.4, -0.12, -0.12, -0.92], and maxL = 85.4\n",
      "\n",
      "p_v = [0.32, -0.19, -0.19, -1.0]\n",
      "  N_bottle = 10\n",
      "    L = -4.57\n",
      "    dL_dNbottle = -0.0841\n",
      "    value of dL_dp_v = [0.0, -0.11, -0.11, 0.23]\n",
      "    numerical value of dL_dp_v: [0.0, -0.11, -0.11, 0.23]\n",
      "    ML value of p_v = [0.21, -0.35, -0.35, -0.56], and maxL = -4.51\n",
      "  N_bottle = 100\n",
      "    L = -0.0305\n",
      "    dL_dNbottle = 0.0802\n",
      "    value of dL_dp_v = [0.0, -0.14, -0.14, 0.27]\n",
      "    numerical value of dL_dp_v: [0.0, -0.14, -0.14, 0.27]\n",
      "    ML value of p_v = [0.31, -0.21, -0.21, -0.95], and maxL = -0.0218\n",
      "  N_bottle = 1000\n",
      "    L = 85.4\n",
      "    dL_dNbottle = 0.098\n",
      "    value of dL_dp_v = [0.0, -0.14, -0.14, 0.28]\n",
      "    numerical value of dL_dp_v: [0.0, -0.14, -0.14, 0.28]\n",
      "    ML value of p_v = [0.32, -0.19, -0.19, -1.0], and maxL = 85.4\n"
     ]
    }
   ],
   "source": [
    "def format_arr(arr):\n",
    "    arr = [round(x, 2) for x in arr]\n",
    "    arr = [x if x != 0 else abs(x) for x in arr]\n",
    "    return \"[\" + \", \".join(f\"{x}\" for x in arr) + \"]\"\n",
    "\n",
    "\n",
    "for p_v in p_vs:\n",
    "    print(f\"\\np_v = {format_arr(p_v)}\")\n",
    "    for N_bottle in N_bottles:\n",
    "        print(f\"  N_bottle = {N_bottle}\")\n",
    "        L = L_func(N_bottle, p_v)\n",
    "        print(f\"    L = {L:.3g}\")\n",
    "        dL_dNbottle = dL_dNbottle_func(N_bottle, p_v)\n",
    "        print(f\"    dL_dNbottle = {dL_dNbottle:.3g}\")\n",
    "\n",
    "        # check gradient of loglik with respect to Nbottle\n",
    "        def f(x):\n",
    "            return L_func(x[0], p_v)\n",
    "\n",
    "        def df(x):\n",
    "            return dL_dNbottle_func(x[0], p_v)\n",
    "\n",
    "        err = scipy.optimize.check_grad(f, df, numpy.array([N_bottle]))\n",
    "        if err > 5e-3:\n",
    "            raise ValueError(f\"error for dL_dNbottle = {err:.3g}\")\n",
    "\n",
    "        # check gradient of loglik with respect to p_v\n",
    "        def f(x):\n",
    "            return L_func(N_bottle, x)\n",
    "\n",
    "        def df(x):\n",
    "            return dL_dp_v_func(N_bottle, x)\n",
    "\n",
    "        err = scipy.optimize.check_grad(f, df, p_v)\n",
    "        if err > 5e-3:\n",
    "            raise ValueError(f\"error for dL_dp_v = {err:.3g}\")\n",
    "        print(f\"    value of dL_dp_v = {format_arr(dL_dp_v_func(N_bottle, p_v))}\")\n",
    "        numerical_dL_dp_v = []\n",
    "        for i in range(len(p_v)):\n",
    "            L = L_func(N_bottle, p_v)\n",
    "            p_v_plus = p_v.copy()\n",
    "            eps = 1e-8\n",
    "            p_v_plus[i] = p_v_plus[i] + eps\n",
    "            Lplus = L_func(N_bottle, p_v_plus)\n",
    "            numerical_dL_dp_v.append((Lplus - L) / eps)\n",
    "        print(f\"    numerical value of dL_dp_v: {format_arr(numerical_dL_dp_v)}\")\n",
    "        # compute ML estimate of p_v\n",
    "        def neg_f(x):\n",
    "            return -f(x)\n",
    "\n",
    "        def neg_df(x):\n",
    "            return -df(x)\n",
    "\n",
    "        optres = scipy.optimize.minimize(\n",
    "            fun=neg_f, x0=p_v, jac=neg_df, bounds=[(-10, 10)] * 4\n",
    "        )\n",
    "        print(\n",
    "            f\"    ML value of p_v = {format_arr(optres.x)}, and maxL = {f(optres.x):.3g}\"\n",
    "        )"
   ]
  }
 ],
 "metadata": {
  "kernelspec": {
   "display_name": "Python 3 (ipykernel)",
   "language": "python",
   "name": "python3"
  },
  "language_info": {
   "codemirror_mode": {
    "name": "ipython",
    "version": 3
   },
   "file_extension": ".py",
   "mimetype": "text/x-python",
   "name": "python",
   "nbconvert_exporter": "python",
   "pygments_lexer": "ipython3",
   "version": "3.8.12"
  }
 },
 "nbformat": 4,
 "nbformat_minor": 4
}
