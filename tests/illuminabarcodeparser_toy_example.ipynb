{
 "cells": [
  {
   "cell_type": "markdown",
   "metadata": {},
   "source": [
    "# Toy example with `IlluminaBarcodeParser`\n",
    "This example illustrates use of a [IlluminaBarcodeParser](https://jbloomlab.github.io/dms_variants/dms_variants.illuminabarcodeparser.html#dms_variants.illuminabarcodeparser.IlluminaBarcodeParser) on a toy example.\n",
    "\n",
    "It is written primarily as a test for that class.\n",
    "\n",
    "Import required modules:"
   ]
  },
  {
   "cell_type": "code",
   "execution_count": 1,
   "metadata": {},
   "outputs": [],
   "source": [
    "import tempfile\n",
    "\n",
    "from dms_variants.illuminabarcodeparser import IlluminaBarcodeParser"
   ]
  },
  {
   "cell_type": "markdown",
   "metadata": {},
   "source": [
    "Initialize an `IlluminaBarcodeParser` for a barcode arrangement that looks like this:\n",
    "\n",
    "    5'-[R2 binding site]-ACATGA-NNNN-GACT-[R1 binding site]-3'"
   ]
  },
  {
   "cell_type": "code",
   "execution_count": 2,
   "metadata": {},
   "outputs": [],
   "source": [
    "parser = IlluminaBarcodeParser(bclen=4, upstream=\"ACATGA\", downstream=\"GACT\")"
   ]
  },
  {
   "cell_type": "markdown",
   "metadata": {},
   "source": [
    "Create temporary files holding the FASTQ reads.\n",
    "We write some valid test reads and some invalid reads. \n",
    "The header for each read explains why it is valid / invalid. \n",
    "We use quality scores of ``?`` (30) or ``+`` (10) for high- and low-quality bases:"
   ]
  },
  {
   "cell_type": "code",
   "execution_count": 3,
   "metadata": {},
   "outputs": [],
   "source": [
    "r1file = tempfile.NamedTemporaryFile(mode=\"w\")\n",
    "r2file = tempfile.NamedTemporaryFile(mode=\"w\")\n",
    "\n",
    "# valid TACG barcode, full flanking regions\n",
    "_ = r1file.write(\n",
    "    \"@valid_CGTA_barcode_full_flanking_region\\n\"\n",
    "    \"AGTCCGTATCATGT\\n\"\n",
    "    \"+\\n\"\n",
    "    \"??????????????\\n\"\n",
    ")\n",
    "_ = r2file.write(\n",
    "    \"@valid_CGTA_barcode_full_flanking_region\\n\"\n",
    "    \"ACATGATACGGACT\\n\"\n",
    "    \"+\\n\"\n",
    "    \"??????????????\\n\"\n",
    ")\n",
    "\n",
    "# valid CGTA barcode, partial flanking regions\n",
    "_ = r1file.write(\n",
    "    \"@valid_CGTA_barcode_partial_flanking_region\\n\"\n",
    "    \"AGTCCGTATCAT\\n\"\n",
    "    \"+\\n\"\n",
    "    \"????????????\\n\"\n",
    ")\n",
    "_ = r2file.write(\n",
    "    \"@valid_CGTA_barcode_partial_flanking_region\\n\" \"ACATGATACG\\n\" \"+\\n\" \"??????????\\n\"\n",
    ")\n",
    "\n",
    "# valid GCCG barcode, extended flanking regions\n",
    "_ = r1file.write(\n",
    "    \"@valid_GCCG_barcode_extended_flanking_region\\n\"\n",
    "    \"AGTCGCCGTCATGTTAC\\n\"\n",
    "    \"+\\n\"\n",
    "    \"?????????????????\\n\"\n",
    ")\n",
    "_ = r2file.write(\n",
    "    \"@valid_GCCG_barcode_extended_flanking_region\\n\"\n",
    "    \"ACATGACGGCGACTGAC\\n\"\n",
    "    \"+\\n\"\n",
    "    \"?????????????????\\n\"\n",
    ")\n",
    "\n",
    "# AAGT barcode in R1 but R2 differs\n",
    "_ = r1file.write(\n",
    "    \"@AAGT_R1_barcode_but_R2_differs\\n\" \"AGTCAAGTTCATGT\\n\" \"+\\n\" \"??????????????\\n\"\n",
    ")\n",
    "_ = r2file.write(\n",
    "    \"@AAGT_R1_barcode_but_R2_differs\\n\" \"ACATGAACTAGACT\\n\" \"+\\n\" \"??????????????\\n\"\n",
    ")\n",
    "\n",
    "# same site low quality in R1 and R2\n",
    "_ = r1file.write(\n",
    "    \"@low_quality_site_in_R1_and_R2\\n\" \"AGTCCGTATCATGT\\n\" \"+\\n\" \"?????+????????\\n\"\n",
    ")\n",
    "_ = r2file.write(\n",
    "    \"@low_quality_site_in_R1_and_R2\\n\" \"ACATGATACGGACT\\n\" \"+\\n\" \"????????+?????\\n\"\n",
    ")\n",
    "\n",
    "# different site low quality in R1 and R2\n",
    "_ = r1file.write(\n",
    "    \"@AGTA_with_low_quality_site_in_R1\\n\" \"AGTCAGTATCATGT\\n\" \"+\\n\" \"?????+????????\\n\"\n",
    ")\n",
    "_ = r2file.write(\n",
    "    \"@AGTA_with_low_quality_site_in_R1\\n\" \"ACATGATACTGACT\\n\" \"+\\n\" \"?????????+????\\n\"\n",
    ")\n",
    "\n",
    "# N in barcode\n",
    "_ = r1file.write(\"@N_in_barcode\\n\" \"AGTCCGTNTCATGT\\n\" \"+\\n\" \"??????????????\\n\")\n",
    "_ = r2file.write(\"@N_in_barcode\\n\" \"ACATGATACGGACT\\n\" \"+\\n\" \"??????????????\\n\")\n",
    "\n",
    "# GGAG barcode, one mismatch in each flanking region\n",
    "_ = r1file.write(\n",
    "    \"@GGAG_barcode_one_mismatch_per_flank\\n\" \"GGTCGGAGTCATGA\\n\" \"+\\n\" \"??????????????\\n\"\n",
    ")\n",
    "_ = r2file.write(\n",
    "    \"@GGAG_barcode_one_mismatch_per_flank\\n\" \"TCATGACTCCGACG\\n\" \"+\\n\" \"??????????????\\n\"\n",
    ")\n",
    "\n",
    "# GGAG barcode, two mismatch in a flanking region\n",
    "_ = r1file.write(\n",
    "    \"@GGAG_barcode_two_mismatch_in_a_flank\\n\"\n",
    "    \"GGTCGGAGTCATAA\\n\"\n",
    "    \"+\\n\"\n",
    "    \"??????????????\\n\"\n",
    ")\n",
    "_ = r2file.write(\n",
    "    \"@GGAG_barcode_two_mismatch_in_a_flank\\n\"\n",
    "    \"TCATGACTCCGACG\\n\"\n",
    "    \"+\\n\"\n",
    "    \"??????????????\\n\"\n",
    ")\n",
    "\n",
    "r1file.flush()\n",
    "r2file.flush()"
   ]
  },
  {
   "cell_type": "markdown",
   "metadata": {},
   "source": [
    "Parse the barcodes using both R1 and R2 reads:"
   ]
  },
  {
   "cell_type": "code",
   "execution_count": 4,
   "metadata": {},
   "outputs": [
    {
     "name": "stdout",
     "output_type": "stream",
     "text": [
      "  barcode  count\n",
      "0    CGTA      2\n",
      "1    AGTA      1\n",
      "2    GCCG      1\n",
      "                     fate  count\n",
      "0           valid barcode      4\n",
      "1     unparseable barcode      3\n",
      "2        R1 / R2 disagree      1\n",
      "3     low quality barcode      1\n",
      "4  failed chastity filter      0\n",
      "5         invalid barcode      0\n"
     ]
    }
   ],
   "source": [
    "barcodes, fates = parser.parse(r1file.name, r2files=r2file.name)\n",
    "print(barcodes)\n",
    "print(fates)"
   ]
  },
  {
   "cell_type": "markdown",
   "metadata": {},
   "source": [
    "Now parse just using R1.\n",
    "We gain the barcode where R1 and R2 disagree, but lose the one where R1 is low quality at a position where R2 is OK:"
   ]
  },
  {
   "cell_type": "code",
   "execution_count": 5,
   "metadata": {},
   "outputs": [
    {
     "name": "stdout",
     "output_type": "stream",
     "text": [
      "  barcode  count\n",
      "0    CGTA      2\n",
      "1    AAGT      1\n",
      "2    GCCG      1\n",
      "                     fate  count\n",
      "0           valid barcode      4\n",
      "1     unparseable barcode      3\n",
      "2     low quality barcode      2\n",
      "3  failed chastity filter      0\n",
      "4         invalid barcode      0\n"
     ]
    }
   ],
   "source": [
    "barcodes, fates = parser.parse(r1file.name)\n",
    "print(barcodes)\n",
    "print(fates)"
   ]
  },
  {
   "cell_type": "markdown",
   "metadata": {},
   "source": [
    "We can also add extra columns to the output data frame:"
   ]
  },
  {
   "cell_type": "code",
   "execution_count": 6,
   "metadata": {},
   "outputs": [
    {
     "name": "stdout",
     "output_type": "stream",
     "text": [
      "  barcode  count library sample\n",
      "0    CGTA      2   lib-1     s1\n",
      "1    AAGT      1   lib-1     s1\n",
      "2    GCCG      1   lib-1     s1\n",
      "                     fate  count library sample\n",
      "0           valid barcode      4   lib-1     s1\n",
      "1     unparseable barcode      3   lib-1     s1\n",
      "2     low quality barcode      2   lib-1     s1\n",
      "3  failed chastity filter      0   lib-1     s1\n",
      "4         invalid barcode      0   lib-1     s1\n"
     ]
    }
   ],
   "source": [
    "barcodes, fates = parser.parse(\n",
    "    r1file.name, add_cols={\"library\": \"lib-1\", \"sample\": \"s1\"}\n",
    ")\n",
    "print(barcodes)\n",
    "print(fates)"
   ]
  },
  {
   "cell_type": "markdown",
   "metadata": {},
   "source": [
    "Now create a parser that allows a mismatch in each flanking region, and check that we recover a \"GGAG\" barcode:"
   ]
  },
  {
   "cell_type": "code",
   "execution_count": 7,
   "metadata": {},
   "outputs": [
    {
     "name": "stdout",
     "output_type": "stream",
     "text": [
      "  barcode  count\n",
      "0    CGTA      2\n",
      "1    AGTA      1\n",
      "2    GCCG      1\n",
      "3    GGAG      1\n",
      "                     fate  count\n",
      "0           valid barcode      5\n",
      "1     unparseable barcode      2\n",
      "2        R1 / R2 disagree      1\n",
      "3     low quality barcode      1\n",
      "4  failed chastity filter      0\n",
      "5         invalid barcode      0\n"
     ]
    }
   ],
   "source": [
    "parser_mismatch = IlluminaBarcodeParser(\n",
    "    bclen=4,\n",
    "    upstream=\"ACATGA\",\n",
    "    downstream=\"GACT\",\n",
    "    upstream_mismatch=1,\n",
    "    downstream_mismatch=1,\n",
    ")\n",
    "barcodes_mismatch, fates_mismatch = parser_mismatch.parse(\n",
    "    r1file.name, r2files=r2file.name\n",
    ")\n",
    "print(barcodes_mismatch)\n",
    "print(fates_mismatch)"
   ]
  },
  {
   "cell_type": "markdown",
   "metadata": {},
   "source": [
    "Now parse the barcodes using `valid_barcodes` to set a barcode whitelist:"
   ]
  },
  {
   "cell_type": "code",
   "execution_count": 8,
   "metadata": {},
   "outputs": [
    {
     "name": "stdout",
     "output_type": "stream",
     "text": [
      "  barcode  count\n",
      "0    CGTA      2\n",
      "1    AGTA      1\n",
      "2    TAAT      0\n",
      "                     fate  count\n",
      "0     unparseable barcode      3\n",
      "1           valid barcode      3\n",
      "2        R1 / R2 disagree      1\n",
      "3         invalid barcode      1\n",
      "4     low quality barcode      1\n",
      "5  failed chastity filter      0\n"
     ]
    }
   ],
   "source": [
    "parser_wl = IlluminaBarcodeParser(\n",
    "    upstream=\"ACATGA\", downstream=\"GACT\", valid_barcodes={\"CGTA\", \"AGTA\", \"TAAT\"}\n",
    ")\n",
    "barcodes_wl, fates_wl = parser_wl.parse(r1file.name, r2files=r2file.name)\n",
    "print(barcodes_wl)\n",
    "print(fates_wl)"
   ]
  },
  {
   "cell_type": "markdown",
   "metadata": {},
   "source": [
    "Close the temporary files:"
   ]
  },
  {
   "cell_type": "code",
   "execution_count": 9,
   "metadata": {},
   "outputs": [],
   "source": [
    "r1file.close()\n",
    "r2file.close()"
   ]
  }
 ],
 "metadata": {
  "kernelspec": {
   "display_name": "Python 3",
   "language": "python",
   "name": "python3"
  },
  "language_info": {
   "codemirror_mode": {
    "name": "ipython",
    "version": 3
   },
   "file_extension": ".py",
   "mimetype": "text/x-python",
   "name": "python",
   "nbconvert_exporter": "python",
   "pygments_lexer": "ipython3",
   "version": "3.6.7"
  },
  "toc": {
   "base_numbering": 1,
   "nav_menu": {},
   "number_sections": false,
   "sideBar": true,
   "skip_h1_title": false,
   "title_cell": "Table of Contents",
   "title_sidebar": "Contents",
   "toc_cell": false,
   "toc_position": {},
   "toc_section_display": true,
   "toc_window_display": false
  }
 },
 "nbformat": 4,
 "nbformat_minor": 2
}
