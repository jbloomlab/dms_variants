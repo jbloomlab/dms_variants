{
 "cells": [
  {
   "cell_type": "markdown",
   "id": "34cee08c-b6ee-450d-ae33-edd181df02b4",
   "metadata": {},
   "source": [
    "# Compute probabilities of escape\n",
    "In some experiments that involve antibody selections, it is possible to spike in a \"neutralization standard\", which is a set of variants known not to be affected by the antibody.\n",
    "In such cases, it is then possible to compute the probability of escape of each variant, which is just its change in frequency relative to the standard.\n",
    "For instance, if such experiments are done at enough concentrations, it is even possible to reconstruct a conventional neutralization curve.\n",
    "\n",
    "This notebook illustrates how to use `dms_variants` to compute these probabilities of escape:\n",
    "\n",
    "First, import Python modules:"
   ]
  },
  {
   "cell_type": "code",
   "execution_count": 1,
   "id": "a2b4fb9f-ad03-4348-8c99-1dfda78b0dde",
   "metadata": {
    "execution": {
     "iopub.execute_input": "2022-02-03T00:31:16.076545Z",
     "iopub.status.busy": "2022-02-03T00:31:16.076132Z",
     "iopub.status.idle": "2022-02-03T00:31:19.877047Z",
     "shell.execute_reply": "2022-02-03T00:31:19.876186Z",
     "shell.execute_reply.started": "2022-02-03T00:31:16.076413Z"
    },
    "tags": []
   },
   "outputs": [],
   "source": [
    "import io\n",
    "import textwrap\n",
    "\n",
    "import altair as alt\n",
    "\n",
    "import dms_variants.codonvarianttable\n",
    "\n",
    "import pandas as pd"
   ]
  },
  {
   "cell_type": "markdown",
   "id": "594a4091-3768-4a46-bb3d-40a62378b81e",
   "metadata": {},
   "source": [
    "Read in the `CodonVariantTable`.\n",
    "These data correspond to snippets of the variant counts from a real experiment on the SARS-CoV-2 spike:"
   ]
  },
  {
   "cell_type": "code",
   "execution_count": 2,
   "id": "dc59c5e5-f80b-42f4-849d-e34bdc0e23f2",
   "metadata": {
    "execution": {
     "iopub.execute_input": "2022-02-03T00:31:19.880751Z",
     "iopub.status.busy": "2022-02-03T00:31:19.880533Z",
     "iopub.status.idle": "2022-02-03T00:31:20.806691Z",
     "shell.execute_reply": "2022-02-03T00:31:20.806157Z",
     "shell.execute_reply.started": "2022-02-03T00:31:19.880729Z"
    },
    "tags": []
   },
   "outputs": [],
   "source": [
    "with open(\"spike.txt\") as f:\n",
    "    spike_seq = f.read().strip()\n",
    "\n",
    "variants = dms_variants.codonvarianttable.CodonVariantTable.from_variant_count_df(\n",
    "    variant_count_df_file=\"prob_escape_codon_variant_table.csv\",\n",
    "    primary_target=\"spike\",\n",
    "    geneseq=spike_seq,\n",
    "    allowgaps=True,\n",
    ")"
   ]
  },
  {
   "cell_type": "markdown",
   "id": "8ef2df0b-e6a1-4946-a8fd-5c0c971ead25",
   "metadata": {},
   "source": [
    "Set up a data frame giving the antibody / no-antibody sample pairings for each selection:"
   ]
  },
  {
   "cell_type": "code",
   "execution_count": 3,
   "id": "bc1fd05b-1549-46fe-b360-952cd19eab10",
   "metadata": {
    "execution": {
     "iopub.execute_input": "2022-02-03T00:31:20.810515Z",
     "iopub.status.busy": "2022-02-03T00:31:20.810265Z",
     "iopub.status.idle": "2022-02-03T00:31:20.816269Z",
     "shell.execute_reply": "2022-02-03T00:31:20.815742Z",
     "shell.execute_reply.started": "2022-02-03T00:31:20.810494Z"
    },
    "tags": []
   },
   "outputs": [],
   "source": [
    "selections_df = pd.read_csv(\n",
    "    io.StringIO(\n",
    "        textwrap.dedent(\n",
    "            \"\"\"\\\n",
    "    library,antibody_sample,no-antibody_sample\n",
    "    lib1,thaw-1_REGN10933_0.037_1,thaw-1_no-antibody_control_1\n",
    "    lib1,thaw-1_REGN10933_0.15_1,thaw-1_no-antibody_control_1\n",
    "    lib1,thaw-1_REGN10933_0.15_2,thaw-1_no-antibody_control_2\n",
    "    lib1,thaw-1_REGN10933_0.59_1,thaw-1_no-antibody_control_1\n",
    "    lib1,thaw-1_REGN10933_0.59_2,thaw-1_no-antibody_control_2\n",
    "    lib1,thaw-2_279C_0.00088_1,thaw-2_no-antibody_control_1\n",
    "    lib1,thaw-2_279C_0.00088_2,thaw-2_no-antibody_control_2\n",
    "    lib1,thaw-2_279C_0.0035_1,thaw-2_no-antibody_control_1\n",
    "    lib1,thaw-2_279C_0.0035_2,thaw-2_no-antibody_control_2\n",
    "    lib1,thaw-2_279C_0.014_1,thaw-2_no-antibody_control_1\n",
    "    lib1,thaw-2_279C_0.014_2,thaw-2_no-antibody_control_2\n",
    "    lib2,thaw-1_REGN10933_0.037_1,thaw-1_no-antibody_control_1\n",
    "    lib2,thaw-1_REGN10933_0.037_2,thaw-1_no-antibody_control_2\n",
    "    lib2,thaw-1_REGN10933_0.15_1,thaw-1_no-antibody_control_1\n",
    "    lib2,thaw-1_REGN10933_0.15_2,thaw-1_no-antibody_control_2\n",
    "    lib2,thaw-1_REGN10933_0.59_1,thaw-1_no-antibody_control_1\n",
    "    lib2,thaw-1_REGN10933_0.59_2,thaw-1_no-antibody_control_2\n",
    "    \"\"\"\n",
    "        )\n",
    "    )\n",
    ")"
   ]
  },
  {
   "cell_type": "markdown",
   "id": "407e8e6c-b957-4b45-97b0-35f950799c97",
   "metadata": {},
   "source": [
    "Now run `CodonVariantTable.prob_escape`:"
   ]
  },
  {
   "cell_type": "code",
   "execution_count": 4,
   "id": "b892441c-1171-4cd4-8e81-e57a9248877c",
   "metadata": {
    "execution": {
     "iopub.execute_input": "2022-02-03T00:31:20.818830Z",
     "iopub.status.busy": "2022-02-03T00:31:20.818687Z",
     "iopub.status.idle": "2022-02-03T00:31:21.250956Z",
     "shell.execute_reply": "2022-02-03T00:31:21.250533Z",
     "shell.execute_reply.started": "2022-02-03T00:31:20.818811Z"
    },
    "tags": []
   },
   "outputs": [],
   "source": [
    "prob_escape, neut_standard_fracs, neutralization = variants.prob_escape(\n",
    "    selections_df=selections_df\n",
    ")"
   ]
  },
  {
   "cell_type": "code",
   "execution_count": 5,
   "id": "d90d6ca9-ad7f-4695-9f89-2dea528075a6",
   "metadata": {
    "execution": {
     "iopub.execute_input": "2022-02-03T00:31:21.253145Z",
     "iopub.status.busy": "2022-02-03T00:31:21.252982Z",
     "iopub.status.idle": "2022-02-03T00:31:21.268876Z",
     "shell.execute_reply": "2022-02-03T00:31:21.268489Z",
     "shell.execute_reply.started": "2022-02-03T00:31:21.253130Z"
    },
    "tags": []
   },
   "outputs": [
    {
     "data": {
      "text/html": [
       "<div>\n",
       "<style scoped>\n",
       "    .dataframe tbody tr th:only-of-type {\n",
       "        vertical-align: middle;\n",
       "    }\n",
       "\n",
       "    .dataframe tbody tr th {\n",
       "        vertical-align: top;\n",
       "    }\n",
       "\n",
       "    .dataframe thead th {\n",
       "        text-align: right;\n",
       "    }\n",
       "</style>\n",
       "<table border=\"1\" class=\"dataframe\">\n",
       "  <thead>\n",
       "    <tr style=\"text-align: right;\">\n",
       "      <th></th>\n",
       "      <th>library</th>\n",
       "      <th>antibody_sample</th>\n",
       "      <th>no-antibody_sample</th>\n",
       "      <th>target</th>\n",
       "      <th>n_aa_substitutions</th>\n",
       "      <th>antibody_neut_standard_count</th>\n",
       "      <th>no-antibody_neut_standard_count</th>\n",
       "      <th>antibody_count</th>\n",
       "      <th>no-antibody_count</th>\n",
       "      <th>prob_escape_uncensored</th>\n",
       "      <th>prob_escape</th>\n",
       "    </tr>\n",
       "  </thead>\n",
       "  <tbody>\n",
       "    <tr>\n",
       "      <th>0</th>\n",
       "      <td>lib1</td>\n",
       "      <td>thaw-1_REGN10933_0.037_1</td>\n",
       "      <td>thaw-1_no-antibody_control_1</td>\n",
       "      <td>neut_standard</td>\n",
       "      <td>0</td>\n",
       "      <td>11107</td>\n",
       "      <td>16475</td>\n",
       "      <td>11107</td>\n",
       "      <td>16475</td>\n",
       "      <td>1.000000</td>\n",
       "      <td>1.000000</td>\n",
       "    </tr>\n",
       "    <tr>\n",
       "      <th>1</th>\n",
       "      <td>lib1</td>\n",
       "      <td>thaw-1_REGN10933_0.037_1</td>\n",
       "      <td>thaw-1_no-antibody_control_1</td>\n",
       "      <td>spike</td>\n",
       "      <td>0</td>\n",
       "      <td>11107</td>\n",
       "      <td>16475</td>\n",
       "      <td>42343</td>\n",
       "      <td>140698</td>\n",
       "      <td>0.446398</td>\n",
       "      <td>0.446398</td>\n",
       "    </tr>\n",
       "    <tr>\n",
       "      <th>2</th>\n",
       "      <td>lib1</td>\n",
       "      <td>thaw-1_REGN10933_0.037_1</td>\n",
       "      <td>thaw-1_no-antibody_control_1</td>\n",
       "      <td>spike</td>\n",
       "      <td>1</td>\n",
       "      <td>11107</td>\n",
       "      <td>16475</td>\n",
       "      <td>102466</td>\n",
       "      <td>340357</td>\n",
       "      <td>0.446554</td>\n",
       "      <td>0.446554</td>\n",
       "    </tr>\n",
       "    <tr>\n",
       "      <th>3</th>\n",
       "      <td>lib1</td>\n",
       "      <td>thaw-1_REGN10933_0.037_1</td>\n",
       "      <td>thaw-1_no-antibody_control_1</td>\n",
       "      <td>spike</td>\n",
       "      <td>2</td>\n",
       "      <td>11107</td>\n",
       "      <td>16475</td>\n",
       "      <td>124509</td>\n",
       "      <td>404439</td>\n",
       "      <td>0.456643</td>\n",
       "      <td>0.456643</td>\n",
       "    </tr>\n",
       "    <tr>\n",
       "      <th>4</th>\n",
       "      <td>lib1</td>\n",
       "      <td>thaw-1_REGN10933_0.037_1</td>\n",
       "      <td>thaw-1_no-antibody_control_1</td>\n",
       "      <td>spike</td>\n",
       "      <td>3</td>\n",
       "      <td>11107</td>\n",
       "      <td>16475</td>\n",
       "      <td>106742</td>\n",
       "      <td>342394</td>\n",
       "      <td>0.462421</td>\n",
       "      <td>0.462421</td>\n",
       "    </tr>\n",
       "    <tr>\n",
       "      <th>...</th>\n",
       "      <td>...</td>\n",
       "      <td>...</td>\n",
       "      <td>...</td>\n",
       "      <td>...</td>\n",
       "      <td>...</td>\n",
       "      <td>...</td>\n",
       "      <td>...</td>\n",
       "      <td>...</td>\n",
       "      <td>...</td>\n",
       "      <td>...</td>\n",
       "      <td>...</td>\n",
       "    </tr>\n",
       "    <tr>\n",
       "      <th>114</th>\n",
       "      <td>lib2</td>\n",
       "      <td>thaw-1_REGN10933_0.59_2</td>\n",
       "      <td>thaw-1_no-antibody_control_2</td>\n",
       "      <td>spike</td>\n",
       "      <td>1</td>\n",
       "      <td>52409</td>\n",
       "      <td>10877</td>\n",
       "      <td>179056</td>\n",
       "      <td>361718</td>\n",
       "      <td>0.102736</td>\n",
       "      <td>0.102736</td>\n",
       "    </tr>\n",
       "    <tr>\n",
       "      <th>115</th>\n",
       "      <td>lib2</td>\n",
       "      <td>thaw-1_REGN10933_0.59_2</td>\n",
       "      <td>thaw-1_no-antibody_control_2</td>\n",
       "      <td>spike</td>\n",
       "      <td>2</td>\n",
       "      <td>52409</td>\n",
       "      <td>10877</td>\n",
       "      <td>201992</td>\n",
       "      <td>331201</td>\n",
       "      <td>0.126574</td>\n",
       "      <td>0.126574</td>\n",
       "    </tr>\n",
       "    <tr>\n",
       "      <th>116</th>\n",
       "      <td>lib2</td>\n",
       "      <td>thaw-1_REGN10933_0.59_2</td>\n",
       "      <td>thaw-1_no-antibody_control_2</td>\n",
       "      <td>spike</td>\n",
       "      <td>3</td>\n",
       "      <td>52409</td>\n",
       "      <td>10877</td>\n",
       "      <td>141530</td>\n",
       "      <td>219133</td>\n",
       "      <td>0.134043</td>\n",
       "      <td>0.134043</td>\n",
       "    </tr>\n",
       "    <tr>\n",
       "      <th>117</th>\n",
       "      <td>lib2</td>\n",
       "      <td>thaw-1_REGN10933_0.59_2</td>\n",
       "      <td>thaw-1_no-antibody_control_2</td>\n",
       "      <td>spike</td>\n",
       "      <td>4</td>\n",
       "      <td>52409</td>\n",
       "      <td>10877</td>\n",
       "      <td>78292</td>\n",
       "      <td>83427</td>\n",
       "      <td>0.194766</td>\n",
       "      <td>0.194766</td>\n",
       "    </tr>\n",
       "    <tr>\n",
       "      <th>118</th>\n",
       "      <td>lib2</td>\n",
       "      <td>thaw-1_REGN10933_0.59_2</td>\n",
       "      <td>thaw-1_no-antibody_control_2</td>\n",
       "      <td>spike</td>\n",
       "      <td>5</td>\n",
       "      <td>52409</td>\n",
       "      <td>10877</td>\n",
       "      <td>56916</td>\n",
       "      <td>52822</td>\n",
       "      <td>0.223626</td>\n",
       "      <td>0.223626</td>\n",
       "    </tr>\n",
       "  </tbody>\n",
       "</table>\n",
       "<p>119 rows × 11 columns</p>\n",
       "</div>"
      ],
      "text/plain": [
       "    library           antibody_sample            no-antibody_sample  \\\n",
       "0      lib1  thaw-1_REGN10933_0.037_1  thaw-1_no-antibody_control_1   \n",
       "1      lib1  thaw-1_REGN10933_0.037_1  thaw-1_no-antibody_control_1   \n",
       "2      lib1  thaw-1_REGN10933_0.037_1  thaw-1_no-antibody_control_1   \n",
       "3      lib1  thaw-1_REGN10933_0.037_1  thaw-1_no-antibody_control_1   \n",
       "4      lib1  thaw-1_REGN10933_0.037_1  thaw-1_no-antibody_control_1   \n",
       "..      ...                       ...                           ...   \n",
       "114    lib2   thaw-1_REGN10933_0.59_2  thaw-1_no-antibody_control_2   \n",
       "115    lib2   thaw-1_REGN10933_0.59_2  thaw-1_no-antibody_control_2   \n",
       "116    lib2   thaw-1_REGN10933_0.59_2  thaw-1_no-antibody_control_2   \n",
       "117    lib2   thaw-1_REGN10933_0.59_2  thaw-1_no-antibody_control_2   \n",
       "118    lib2   thaw-1_REGN10933_0.59_2  thaw-1_no-antibody_control_2   \n",
       "\n",
       "            target  n_aa_substitutions  antibody_neut_standard_count  \\\n",
       "0    neut_standard                   0                         11107   \n",
       "1            spike                   0                         11107   \n",
       "2            spike                   1                         11107   \n",
       "3            spike                   2                         11107   \n",
       "4            spike                   3                         11107   \n",
       "..             ...                 ...                           ...   \n",
       "114          spike                   1                         52409   \n",
       "115          spike                   2                         52409   \n",
       "116          spike                   3                         52409   \n",
       "117          spike                   4                         52409   \n",
       "118          spike                   5                         52409   \n",
       "\n",
       "     no-antibody_neut_standard_count  antibody_count  no-antibody_count  \\\n",
       "0                              16475           11107              16475   \n",
       "1                              16475           42343             140698   \n",
       "2                              16475          102466             340357   \n",
       "3                              16475          124509             404439   \n",
       "4                              16475          106742             342394   \n",
       "..                               ...             ...                ...   \n",
       "114                            10877          179056             361718   \n",
       "115                            10877          201992             331201   \n",
       "116                            10877          141530             219133   \n",
       "117                            10877           78292              83427   \n",
       "118                            10877           56916              52822   \n",
       "\n",
       "     prob_escape_uncensored  prob_escape  \n",
       "0                  1.000000     1.000000  \n",
       "1                  0.446398     0.446398  \n",
       "2                  0.446554     0.446554  \n",
       "3                  0.456643     0.456643  \n",
       "4                  0.462421     0.462421  \n",
       "..                      ...          ...  \n",
       "114                0.102736     0.102736  \n",
       "115                0.126574     0.126574  \n",
       "116                0.134043     0.134043  \n",
       "117                0.194766     0.194766  \n",
       "118                0.223626     0.223626  \n",
       "\n",
       "[119 rows x 11 columns]"
      ]
     },
     "execution_count": 5,
     "metadata": {},
     "output_type": "execute_result"
    }
   ],
   "source": [
    "neutralization"
   ]
  },
  {
   "cell_type": "code",
   "execution_count": 6,
   "id": "fa140569-04da-45ba-97a1-99ef20ae11ed",
   "metadata": {
    "execution": {
     "iopub.execute_input": "2022-02-03T00:31:21.271149Z",
     "iopub.status.busy": "2022-02-03T00:31:21.270936Z",
     "iopub.status.idle": "2022-02-03T00:31:21.273486Z",
     "shell.execute_reply": "2022-02-03T00:31:21.273112Z",
     "shell.execute_reply.started": "2022-02-03T00:31:21.271129Z"
    },
    "tags": []
   },
   "outputs": [],
   "source": [
    "x = [1, 2, 3]\n",
    "x.insert(0, \"target\")"
   ]
  },
  {
   "cell_type": "code",
   "execution_count": 7,
   "id": "4b3c931a-6e21-4788-9e7e-7ec66701aad4",
   "metadata": {
    "execution": {
     "iopub.execute_input": "2022-02-03T00:31:21.275714Z",
     "iopub.status.busy": "2022-02-03T00:31:21.275524Z",
     "iopub.status.idle": "2022-02-03T00:31:21.278615Z",
     "shell.execute_reply": "2022-02-03T00:31:21.278258Z",
     "shell.execute_reply.started": "2022-02-03T00:31:21.275695Z"
    },
    "tags": []
   },
   "outputs": [
    {
     "data": {
      "text/plain": [
       "['target', 1, 2, 3]"
      ]
     },
     "execution_count": 7,
     "metadata": {},
     "output_type": "execute_result"
    }
   ],
   "source": [
    "x"
   ]
  },
  {
   "cell_type": "code",
   "execution_count": null,
   "id": "c6519fe1-5b48-4f05-b4ae-9f29d0a8e8c1",
   "metadata": {},
   "outputs": [],
   "source": []
  }
 ],
 "metadata": {
  "kernelspec": {
   "display_name": "Python 3 (ipykernel)",
   "language": "python",
   "name": "python3"
  },
  "language_info": {
   "codemirror_mode": {
    "name": "ipython",
    "version": 3
   },
   "file_extension": ".py",
   "mimetype": "text/x-python",
   "name": "python",
   "nbconvert_exporter": "python",
   "pygments_lexer": "ipython3",
   "version": "3.8.12"
  }
 },
 "nbformat": 4,
 "nbformat_minor": 5
}
