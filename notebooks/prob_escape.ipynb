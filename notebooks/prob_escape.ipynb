{
 "cells": [
  {
   "cell_type": "markdown",
   "id": "34cee08c-b6ee-450d-ae33-edd181df02b4",
   "metadata": {},
   "source": [
    "# Compute probabilities of escape\n",
    "In some experiments that involve antibody selections, it is possible to spike in a \"neutralization standard\", which is a set of variants known not to be affected by the antibody.\n",
    "In such cases, it is then possible to compute the probability of escape of each variant, which is just its change in frequency relative to the standard.\n",
    "For instance, if such experiments are done at enough concentrations, it is even possible to reconstruct a conventional neutralization curve.\n",
    "\n",
    "This notebook illustrates how to use `dms_variants` to compute these probabilities of escape:\n",
    "\n",
    "First, import Python modules:"
   ]
  },
  {
   "cell_type": "code",
   "execution_count": null,
   "id": "a2b4fb9f-ad03-4348-8c99-1dfda78b0dde",
   "metadata": {
    "execution": {
     "iopub.execute_input": "2022-01-31T01:31:14.226558Z",
     "iopub.status.busy": "2022-01-31T01:31:14.225961Z"
    },
    "tags": []
   },
   "outputs": [],
   "source": [
    "import altair as alt\n",
    "\n",
    "import dms_variants.codonvarianttable"
   ]
  },
  {
   "cell_type": "markdown",
   "id": "594a4091-3768-4a46-bb3d-40a62378b81e",
   "metadata": {},
   "source": [
    "Read in the `CodonVariantTable`.\n",
    "These data correspond to snippets of the variant counts from a real experiment on the SARS-CoV-2 spike:"
   ]
  },
  {
   "cell_type": "code",
   "execution_count": null,
   "id": "a8910eb3-3df0-43f3-a7eb-e83545870405",
   "metadata": {
    "tags": []
   },
   "outputs": [],
   "source": [
    "with open(\"spike.txt\") as f:\n",
    "    spike_seq = f.read().strip()\n",
    "\n",
    "variants = dms_variants.codonvarianttable.CodonVariantTable.from_variant_count_df(\n",
    "    variant_count_df_file=\"prob_escape_codon_variant_table.csv\",\n",
    "    primary_target=\"spike\",\n",
    "    geneseq=spike_seq,\n",
    "    allowgaps=True,\n",
    ")"
   ]
  },
  {
   "cell_type": "code",
   "execution_count": null,
   "id": "2b10770b-5364-4d06-874a-a3ca3faa8955",
   "metadata": {
    "tags": []
   },
   "outputs": [],
   "source": [
    "with open(\"codon_variant_table.pickle\", \"rb\") as f:\n",
    "    variants = pickle.load(f)"
   ]
  },
  {
   "cell_type": "code",
   "execution_count": null,
   "id": "f26ac2ac-a319-4e4e-a5d2-56414465b397",
   "metadata": {
    "tags": []
   },
   "outputs": [],
   "source": [
    "(\n",
    "    variants.variant_count_df\n",
    "    .query(\"sample.str.startswith('2021-12-14')\", engine=\"python\")\n",
    "    .query(\"not sample.str.contains('267C')\", engine=\"python\")\n",
    "    .assign(\n",
    "        sample=lambda x: x[\"sample\"].str.replace(\"2021-12-14_\", \"\").str.replace(\"_antibody_\", \"_\").astype(str),\n",
    "        library=lambda x: x[\"library\"].map({\"Virus_Library_A_051\": \"lib1\", \"Virus_Library_B_072\": \"lib2\"}),\n",
    "    )\n",
    "    .sort_values([\"library\", \"sample\", \"target\", \"barcode\"])\n",
    "    .dropna(axis=0)\n",
    "    .drop(columns=[\"aa_substitutions\", \"n_codon_substitutions\", \"n_aa_substitutions\"])\n",
    "    .groupby([\"library\", \"sample\", \"target\"])\n",
    "    .head(n=5000)\n",
    "    .to_csv(\"prob_escape_codon_variant_table.csv\", index=False)\n",
    ")"
   ]
  },
  {
   "cell_type": "code",
   "execution_count": null,
   "id": "dfdbecf5-ead3-4d3e-a0ae-106cc124bce5",
   "metadata": {
    "tags": []
   },
   "outputs": [],
   "source": [
    "# allow more rows for Altair\n",
    "_ = alt.data_transformers.disable_max_rows()"
   ]
  },
  {
   "cell_type": "markdown",
   "id": "686a8cb3-92b6-4b41-aae4-e1d97907c8fd",
   "metadata": {},
   "source": [
    "Change working directory to top directory of repo:"
   ]
  },
  {
   "cell_type": "code",
   "execution_count": null,
   "id": "4a4cbbc8-9cd4-46f7-923e-d32242183a36",
   "metadata": {
    "tags": []
   },
   "outputs": [],
   "source": [
    "os.chdir('../')"
   ]
  },
  {
   "cell_type": "markdown",
   "id": "649e0dcc-7e23-4386-84d8-3cafba0ec69b",
   "metadata": {},
   "source": [
    "## Read input data\n",
    "Read configuration:"
   ]
  },
  {
   "cell_type": "code",
   "execution_count": null,
   "id": "6aa10c89-ae3b-43da-a707-a6bef3d454d6",
   "metadata": {
    "tags": []
   },
   "outputs": [],
   "source": [
    "with open('config.yaml') as f:\n",
    "    config = yaml.safe_load(f)"
   ]
  },
  {
   "cell_type": "markdown",
   "id": "5874b79d-a130-4aa4-9917-60c33e0cac9a",
   "metadata": {},
   "source": [
    "Read the barcode run information:"
   ]
  },
  {
   "cell_type": "code",
   "execution_count": null,
   "id": "cbf2aa94-05c1-4669-baf4-190d0e1c9c15",
   "metadata": {
    "tags": []
   },
   "outputs": [],
   "source": [
    "barcode_runs = (\n",
    "    pd.read_csv(config[\"barcode_runs\"])\n",
    "    .assign(antibody=lambda x: x[\"antibody\"].fillna(\"no antibody\"))\n",
    "    .drop(columns=[\"fastq_R1\", \"notes\", \"library_sample\"])\n",
    ")"
   ]
  },
  {
   "cell_type": "markdown",
   "id": "a291ee61-0679-4de8-855a-91341e4502ec",
   "metadata": {},
   "source": [
    "Read the mapping between sequential and reference site numbering:"
   ]
  },
  {
   "cell_type": "code",
   "execution_count": null,
   "id": "0c4aa6e6-9033-49be-8048-e230db81fca0",
   "metadata": {
    "tags": []
   },
   "outputs": [],
   "source": [
    "site_numbering_map = pd.read_csv(config[\"site_numbering_map\"])"
   ]
  },
  {
   "cell_type": "markdown",
   "id": "aae813f8-776c-46a4-b8ba-b24687149f1c",
   "metadata": {},
   "source": [
    "Get the primary target:"
   ]
  },
  {
   "cell_type": "code",
   "execution_count": null,
   "id": "521db153-3710-41dc-8df0-b11eaf5e895c",
   "metadata": {},
   "outputs": [],
   "source": [
    "primary_target = config[\"gene\"]"
   ]
  },
  {
   "cell_type": "markdown",
   "id": "3ec8b49e-47d5-48d4-8043-4bbec2d74065",
   "metadata": {},
   "source": [
    "Read the codon-variant table:"
   ]
  },
  {
   "cell_type": "code",
   "execution_count": null,
   "id": "c695c74e-6eb1-4682-bf2a-839c8e3b3b6c",
   "metadata": {
    "tags": []
   },
   "outputs": [],
   "source": [
    "with open(config[\"codon_variant_table_pickle\"], \"rb\") as f:\n",
    "    variants = pickle.load(f)"
   ]
  },
  {
   "cell_type": "markdown",
   "id": "f336f1e4-14d5-4150-b9a4-25d3b454512a",
   "metadata": {},
   "source": [
    "## Sample pairings for antibody selections"
   ]
  },
  {
   "cell_type": "markdown",
   "id": "8b445351-f0ce-479c-9c0d-4e2fb3f10863",
   "metadata": {},
   "source": [
    "Get sample pairings that correspond to antibody selections.\n",
    "We pair each antibody selection with its corresponding no-antibody control with all other properties (e.g., date, virus_batch, library) the same."
   ]
  },
  {
   "cell_type": "code",
   "execution_count": null,
   "id": "535a6bbf-c27a-4c7e-80cd-d458b728fd53",
   "metadata": {
    "tags": []
   },
   "outputs": [],
   "source": [
    "ab_selections = (\n",
    "    barcode_runs\n",
    "    .query(\"sample_type == 'antibody'\")\n",
    "    .rename(columns={\"sample\": \"antibody_sample\"})\n",
    "    .drop(columns=\"sample_type\")\n",
    ")\n",
    "assert len(ab_selections) == len(ab_selections.drop_duplicates())\n",
    "\n",
    "control_selections = (\n",
    "    barcode_runs\n",
    "    .query(\"sample_type == 'no-antibody_control'\")\n",
    "    .rename(columns={\"sample\": \"no-antibody_sample\"})\n",
    "    .drop(columns=[\"antibody\", \"antibody_concentration\", \"sample_type\"])\n",
    ")\n",
    "assert len(control_selections) == len(control_selections.drop_duplicates())\n",
    "\n",
    "selections = (\n",
    "    ab_selections\n",
    "    .merge(control_selections,\n",
    "           how=\"left\",\n",
    "           validate=\"many_to_one\",\n",
    "    )\n",
    ")\n",
    "assert selections.notnull().all().all()\n",
    "assert len(selections) == len(selections.groupby([\"library\", \"antibody_sample\"]))"
   ]
  },
  {
   "cell_type": "markdown",
   "id": "034c44cb-3f38-42be-bde5-4a3f8dd6a682",
   "metadata": {},
   "source": [
    "Now get the fraction of counts that are the neutralization standard for each sample:"
   ]
  },
  {
   "cell_type": "code",
   "execution_count": null,
   "id": "1a0a88ac-1905-4ecf-9733-37bbc9dbb82b",
   "metadata": {
    "tags": []
   },
   "outputs": [],
   "source": [
    "neut_standard_fracs = (\n",
    "    variants.n_variants_df(primary_target_only=False)\n",
    "    .assign(\n",
    "        total_counts=lambda x: x.groupby([\"library\", \"sample\"])[\"count\"].transform(\"sum\"),\n",
    "        neut_standard_frac=lambda x: x[\"count\"] / x[\"total_counts\"],\n",
    "    )\n",
    "    .query(\"target == 'neut_standard'\")\n",
    "    .rename(columns={\"count\": \"neut_standard_counts\"})\n",
    "    .drop(columns=[\"target\", \"total_counts\"])\n",
    ")"
   ]
  },
  {
   "cell_type": "markdown",
   "id": "b05deed4-62c6-442a-b57d-a47e0c8bf25b",
   "metadata": {},
   "source": [
    "Merge these neut standard fractions / counts into the selections data frame:"
   ]
  },
  {
   "cell_type": "code",
   "execution_count": null,
   "id": "c976c805-0701-4b2d-a16b-86d596496787",
   "metadata": {
    "tags": []
   },
   "outputs": [],
   "source": [
    "selections_w_neut_standards = selections\n",
    "for stype in [\"antibody\", \"no-antibody\"]:\n",
    "    selections_w_neut_standards = (\n",
    "        selections_w_neut_standards\n",
    "        .merge(\n",
    "            neut_standard_fracs,\n",
    "            left_on=[\"library\", f\"{stype}_sample\"],\n",
    "            right_on=[\"library\", \"sample\"],\n",
    "            validate=\"many_to_one\",\n",
    "            how=\"left\",\n",
    "        )\n",
    "        .drop(columns=\"sample\")\n",
    "        .rename(\n",
    "            columns={\n",
    "                col: f\"{stype}_{col}\"\n",
    "                for col in [\"neut_standard_counts\", \"neut_standard_frac\"]\n",
    "            }\n",
    "        )\n",
    ")\n",
    "\n",
    "selections_w_neut_standards"
   ]
  },
  {
   "cell_type": "markdown",
   "id": "40f64d83-b273-4114-a218-d59658bf8135",
   "metadata": {},
   "source": [
    "Write sample pairings to CSV file:"
   ]
  },
  {
   "cell_type": "code",
   "execution_count": null,
   "id": "e21029b2-7593-4fae-b8cc-9fb814a9a792",
   "metadata": {},
   "outputs": [],
   "source": [
    "print(\n",
    "    f\"Writing {len(selections_w_neut_standards)} antibody-selection pairings \"\n",
    "    f\"to {config['antibody_selections']}\"\n",
    ")\n",
    "selections_w_neut_standards.to_csv(config[\"antibody_selections\"], index=False)"
   ]
  },
  {
   "cell_type": "code",
   "execution_count": null,
   "id": "36632152-961e-4a32-b64a-a5f8a5249061",
   "metadata": {
    "tags": []
   },
   "outputs": [],
   "source": []
  },
  {
   "cell_type": "code",
   "execution_count": null,
   "id": "54b29ef2-f06c-4236-82da-4abe161a86eb",
   "metadata": {},
   "outputs": [],
   "source": []
  }
 ],
 "metadata": {
  "kernelspec": {
   "display_name": "Python 3 (ipykernel)",
   "language": "python",
   "name": "python3"
  },
  "language_info": {
   "codemirror_mode": {
    "name": "ipython",
    "version": 3
   },
   "file_extension": ".py",
   "mimetype": "text/x-python",
   "name": "python",
   "nbconvert_exporter": "python",
   "pygments_lexer": "ipython3",
   "version": "3.8.12"
  }
 },
 "nbformat": 4,
 "nbformat_minor": 5
}
