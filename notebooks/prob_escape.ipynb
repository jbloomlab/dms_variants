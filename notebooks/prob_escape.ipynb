{
 "cells": [
  {
   "cell_type": "markdown",
   "id": "34cee08c-b6ee-450d-ae33-edd181df02b4",
   "metadata": {},
   "source": [
    "# Compute probabilities of escape\n",
    "In some experiments that involve antibody selections, it is possible to spike in a \"neutralization standard\", which is a set of variants known not to be affected by the antibody.\n",
    "In such cases, it is then possible to compute the probability of escape of each variant, which is just its change in frequency relative to the standard.\n",
    "For instance, if such experiments are done at enough concentrations, it is even possible to reconstruct a conventional neutralization curve.\n",
    "\n",
    "This notebook illustrates how to use `dms_variants` to compute these probabilities of escape:\n",
    "\n",
    "First, import Python modules:"
   ]
  },
  {
   "cell_type": "code",
   "execution_count": 1,
   "id": "a2b4fb9f-ad03-4348-8c99-1dfda78b0dde",
   "metadata": {
    "execution": {
     "iopub.execute_input": "2022-02-01T00:40:42.884925Z",
     "iopub.status.busy": "2022-02-01T00:40:42.884256Z",
     "iopub.status.idle": "2022-02-01T00:40:59.862016Z",
     "shell.execute_reply": "2022-02-01T00:40:59.860842Z",
     "shell.execute_reply.started": "2022-02-01T00:40:42.884832Z"
    },
    "tags": []
   },
   "outputs": [],
   "source": [
    "import io\n",
    "import textwrap\n",
    "\n",
    "import altair as alt\n",
    "\n",
    "import dms_variants.codonvarianttable\n",
    "\n",
    "import pandas as pd"
   ]
  },
  {
   "cell_type": "markdown",
   "id": "594a4091-3768-4a46-bb3d-40a62378b81e",
   "metadata": {},
   "source": [
    "Read in the `CodonVariantTable`.\n",
    "These data correspond to snippets of the variant counts from a real experiment on the SARS-CoV-2 spike:"
   ]
  },
  {
   "cell_type": "code",
   "execution_count": 2,
   "id": "dc59c5e5-f80b-42f4-849d-e34bdc0e23f2",
   "metadata": {
    "execution": {
     "iopub.execute_input": "2022-02-01T00:40:59.875183Z",
     "iopub.status.busy": "2022-02-01T00:40:59.874933Z",
     "iopub.status.idle": "2022-02-01T00:41:00.899682Z",
     "shell.execute_reply": "2022-02-01T00:41:00.899152Z",
     "shell.execute_reply.started": "2022-02-01T00:40:59.875156Z"
    },
    "tags": []
   },
   "outputs": [],
   "source": [
    "with open(\"spike.txt\") as f:\n",
    "    spike_seq = f.read().strip()\n",
    "\n",
    "variants = dms_variants.codonvarianttable.CodonVariantTable.from_variant_count_df(\n",
    "    variant_count_df_file=\"prob_escape_codon_variant_table.csv\",\n",
    "    primary_target=\"spike\",\n",
    "    geneseq=spike_seq,\n",
    "    allowgaps=True,\n",
    ")"
   ]
  },
  {
   "cell_type": "markdown",
   "id": "8ef2df0b-e6a1-4946-a8fd-5c0c971ead25",
   "metadata": {},
   "source": [
    "Set up a data frame giving the antibody / no-antibody sample pairings for each selection:"
   ]
  },
  {
   "cell_type": "code",
   "execution_count": 3,
   "id": "bc1fd05b-1549-46fe-b360-952cd19eab10",
   "metadata": {
    "execution": {
     "iopub.execute_input": "2022-02-01T00:41:00.907988Z",
     "iopub.status.busy": "2022-02-01T00:41:00.907794Z",
     "iopub.status.idle": "2022-02-01T00:41:00.914119Z",
     "shell.execute_reply": "2022-02-01T00:41:00.913591Z",
     "shell.execute_reply.started": "2022-02-01T00:41:00.907967Z"
    },
    "tags": []
   },
   "outputs": [],
   "source": [
    "selections_df = pd.read_csv(io.StringIO(textwrap.dedent(\n",
    "    \"\"\"\\\n",
    "    library,antibody_sample,no-antibody_sample\n",
    "    lib1,thaw-1_REGN10933_0.037_1,thaw-1_no-antibody_control_1\n",
    "    lib1,thaw-1_REGN10933_0.15_1,thaw-1_no-antibody_control_1\n",
    "    lib1,thaw-1_REGN10933_0.15_2,thaw-1_no-antibody_control_2\n",
    "    lib1,thaw-1_REGN10933_0.59_1,thaw-1_no-antibody_control_1\n",
    "    lib1,thaw-1_REGN10933_0.59_2,thaw-1_no-antibody_control_2\n",
    "    lib1,thaw-2_279C_0.00088_1,thaw-2_no-antibody_control_1\n",
    "    lib1,thaw-2_279C_0.00088_2,thaw-2_no-antibody_control_2\n",
    "    lib1,thaw-2_279C_0.0035_1,thaw-2_no-antibody_control_1\n",
    "    lib1,thaw-2_279C_0.0035_2,thaw-2_no-antibody_control_2\n",
    "    lib1,thaw-2_279C_0.014_1,thaw-2_no-antibody_control_1\n",
    "    lib1,thaw-2_279C_0.014_2,thaw-2_no-antibody_control_2\n",
    "    lib2,thaw-1_REGN10933_0.037_1,thaw-1_no-antibody_control_1\n",
    "    lib2,thaw-1_REGN10933_0.037_2,thaw-1_no-antibody_control_2\n",
    "    lib2,thaw-1_REGN10933_0.15_1,thaw-1_no-antibody_control_1\n",
    "    lib2,thaw-1_REGN10933_0.15_2,thaw-1_no-antibody_control_2\n",
    "    lib2,thaw-1_REGN10933_0.59_1,thaw-1_no-antibody_control_1\n",
    "    lib2,thaw-1_REGN10933_0.59_2,thaw-1_no-antibody_control_2\n",
    "    \"\"\"\n",
    ")))"
   ]
  },
  {
   "cell_type": "markdown",
   "id": "407e8e6c-b957-4b45-97b0-35f950799c97",
   "metadata": {},
   "source": [
    "Now run `CodonVariantTable.prob_escape`:"
   ]
  },
  {
   "cell_type": "code",
   "execution_count": 11,
   "id": "b892441c-1171-4cd4-8e81-e57a9248877c",
   "metadata": {
    "execution": {
     "iopub.execute_input": "2022-02-01T00:42:13.222259Z",
     "iopub.status.busy": "2022-02-01T00:42:13.221847Z",
     "iopub.status.idle": "2022-02-01T00:42:13.439871Z",
     "shell.execute_reply": "2022-02-01T00:42:13.439445Z",
     "shell.execute_reply.started": "2022-02-01T00:42:13.222217Z"
    },
    "tags": []
   },
   "outputs": [
    {
     "data": {
      "text/plain": [
       "(None,\n",
       "    library           antibody_sample            no-antibody_sample  \\\n",
       " 0     lib1  thaw-1_REGN10933_0.037_1  thaw-1_no-antibody_control_1   \n",
       " 1     lib1   thaw-1_REGN10933_0.15_1  thaw-1_no-antibody_control_1   \n",
       " 2     lib1   thaw-1_REGN10933_0.15_2  thaw-1_no-antibody_control_2   \n",
       " 3     lib1   thaw-1_REGN10933_0.59_1  thaw-1_no-antibody_control_1   \n",
       " 4     lib1   thaw-1_REGN10933_0.59_2  thaw-1_no-antibody_control_2   \n",
       " 5     lib1     thaw-2_279C_0.00088_1  thaw-2_no-antibody_control_1   \n",
       " 6     lib1     thaw-2_279C_0.00088_2  thaw-2_no-antibody_control_2   \n",
       " 7     lib1      thaw-2_279C_0.0035_1  thaw-2_no-antibody_control_1   \n",
       " 8     lib1      thaw-2_279C_0.0035_2  thaw-2_no-antibody_control_2   \n",
       " 9     lib1       thaw-2_279C_0.014_1  thaw-2_no-antibody_control_1   \n",
       " 10    lib1       thaw-2_279C_0.014_2  thaw-2_no-antibody_control_2   \n",
       " 11    lib2  thaw-1_REGN10933_0.037_1  thaw-1_no-antibody_control_1   \n",
       " 12    lib2  thaw-1_REGN10933_0.037_2  thaw-1_no-antibody_control_2   \n",
       " 13    lib2   thaw-1_REGN10933_0.15_1  thaw-1_no-antibody_control_1   \n",
       " 14    lib2   thaw-1_REGN10933_0.15_2  thaw-1_no-antibody_control_2   \n",
       " 15    lib2   thaw-1_REGN10933_0.59_1  thaw-1_no-antibody_control_1   \n",
       " 16    lib2   thaw-1_REGN10933_0.59_2  thaw-1_no-antibody_control_2   \n",
       " \n",
       "     antibody_count  antibody_frac  no-antibody_count  no-antibody_frac  \n",
       " 0            11107       0.021003              16475          0.009767  \n",
       " 1            18045       0.021955              16475          0.009767  \n",
       " 2            14283       0.037117              11343          0.010271  \n",
       " 3            26027       0.063556              16475          0.009767  \n",
       " 4            23240       0.051002              11343          0.010271  \n",
       " 5             8231       0.015717              11134          0.015683  \n",
       " 6             8763       0.017672               9002          0.014683  \n",
       " 7             9298       0.020035              11134          0.015683  \n",
       " 8             9394       0.023112               9002          0.014683  \n",
       " 9            67940       0.140800              11134          0.015683  \n",
       " 10           60115       0.154519               9002          0.014683  \n",
       " 11           14003       0.015206              11144          0.010340  \n",
       " 12           12780       0.023261              10877          0.008816  \n",
       " 13           22879       0.027061              11144          0.010340  \n",
       " 14           20040       0.026301              10877          0.008816  \n",
       " 15           57699       0.075975              11144          0.010340  \n",
       " 16           52409       0.067115              10877          0.008816  ,\n",
       " None)"
      ]
     },
     "execution_count": 11,
     "metadata": {},
     "output_type": "execute_result"
    }
   ],
   "source": [
    "variants.prob_escape(selections_df=selections_df)"
   ]
  },
  {
   "cell_type": "code",
   "execution_count": null,
   "id": "d90d6ca9-ad7f-4695-9f89-2dea528075a6",
   "metadata": {},
   "outputs": [],
   "source": []
  }
 ],
 "metadata": {
  "kernelspec": {
   "display_name": "Python 3 (ipykernel)",
   "language": "python",
   "name": "python3"
  },
  "language_info": {
   "codemirror_mode": {
    "name": "ipython",
    "version": 3
   },
   "file_extension": ".py",
   "mimetype": "text/x-python",
   "name": "python",
   "nbconvert_exporter": "python",
   "pygments_lexer": "ipython3",
   "version": "3.8.12"
  }
 },
 "nbformat": 4,
 "nbformat_minor": 5
}
