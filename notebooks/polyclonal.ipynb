{
 "cells": [
  {
   "cell_type": "markdown",
   "metadata": {},
   "source": [
    "# Analyzing escape from polyclonal antibodies"
   ]
  },
  {
   "cell_type": "markdown",
   "metadata": {},
   "source": [
    "## Overview and theory\n",
    "Here we consider the situations where a viral protein is bound by polyclonal antibodies, such as might be found in sera.\n",
    "We want to determine the contribution of each mutation to escaping these antibodies, being cognizant of the fact that different antibodies target different epitopes.\n",
    "\n",
    "The actual experimental measurable quantity is as follows: at each concentration $c$ of the antibody mixture, we measure $p_v\\left(c\\right)$, which is the fraction of all variants $v$ that escape binding (or neutralization, whichever is being experimentally measured) by all antibodies in the mix.\n",
    "For instance, $p_v\\left(c\\right)$ might be fraction of variants $v$ that fall into an antibody-escape FACS bin (in a yeast-display deep mutational scanning experiment as in [Greaney et al (2020)](https://www.sciencedirect.com/science/article/pii/S1931312821000822)) or that are not neutralized (in a virus neutralization deep mutational scanning experiment as in [Lee et al (2019)](https://elifesciences.org/articles/49324)).\n",
    "\n",
    "We assume that antibodies in the mix can bind to one of $E$ epitopes on the protein.\n",
    "Let $U_e\\left(v,c\\right)$ be the fraction of the time that epitope $e$ is not bound on variant $v$ when the mix is at concentration $c$.\n",
    "Then assuming antibodies bind independently without competiton, the overall experimentally measured fraction of variants that escape binding at concentration $c$ is simply:\n",
    "$$\n",
    "p_v\\left(c\\right) = \\prod_{e=1}^E U_e\\left(v, c\\right),\n",
    "\\label{pv} \\tag{1}\n",
    "$$\n",
    "where $e$ ranges over the $E$ epitopes.\n",
    "\n",
    "We next want to write $U_e\\left(v,c\\right)$ (the fraction of time epitope $e$ is unbound for variant $v$ at concentration $c$) in terms that can be related to underlying physical properties like the relative concentrations of antibodies targeting different epitopes, and the affinities of these antibodies.\n",
    "If we assume that there is no competition among antibodies binding to different epitopes, that all antibodies targeting a given epitope have same affinity, and that there is no cooperativity in antibody binding (Hill coefficient of antibody binding is one), then the fraction of all variants $v$ that are not bound by an antibody targeting epitope $e$ at concentration $c$ is given by a Hill equation:\n",
    "$$\n",
    "\\begin{eqnarray}\n",
    "U_e\\left(v, c\\right) &=& \\frac{1}{1 + \\frac{c f_e}{K_{d,e}\\left(v\\right)}} \\\\\n",
    "&=& \\frac{1}{1 + c f_e \\exp \\left(-\\frac{\\Delta G_e\\left(v\\right)}{RT}\\right)} \\\\\n",
    "&=& \\frac{1}{1 + c \\exp \\left(-\\phi_e\\left(v\\right)\\right)}, \\\\\n",
    "\\label{Ue} \\tag{2}\n",
    "\\end{eqnarray}\n",
    "$$\n",
    "where $\\phi_e\\left(v\\right)$ represents the total binding activity of antibodies to epitope $e$ against variant $v$, and is related to the free energy of binding $\\Delta G_e\\left(v\\right)$ and the fraction of antibodies $f_e$ targeting epitope $e$ by $\\phi_e\\left(v\\right) = \\frac{\\Delta G_e\\left(v\\right)}{RT} - \\ln f_e$; note that $RT$ is the product of the molar gas constant and the temperature and $K_{d,e}= \\exp\\left(\\frac{\\Delta G_e\\left(v\\right)}{RT}\\right)$ is the dissociation constant.\n",
    "The value of $\\phi_e\\left(v\\right)$ depends both on the affinity of antibodies targeting epitope $e$ (via $\\Delta G_e\\left(v\\right)$) and on the abundance of antibodies with this specificity in the overall mix (via $f_e$), and so is a measure of the overall importance of antibodies with this specificity in the polyclonal mix.\n",
    "Smaller (more negative) values of $\\phi_e\\left(v\\right)$ correspond to a higher overall contribution of antibodies with specificity for epitope $e$ to the activity against variant $v$.\n",
    "\n",
    "Finally, we want to frame $\\phi_e\\left(v\\right)$ in terms of the actual quantities of biological interest.\n",
    "There are two quantities of biological interest:\n",
    "1. The activity of antibodies binding epitope $e$ in the unmutated (\"wildtype\") protein background, which will be denoted as $a_{\\rm{wt}, e}$.\n",
    "2. The extent of escape mediated by each amino-acid mutation $m$ on binding of antibodies targeting epitope $e$, which will be denoted as $\\beta_{m,e}$.\n",
    "\n",
    "In order to infer these quantities, we make the assumption that muations have additive effects on the free energy of binding (and so $\\phi_e\\left(v\\right)$) for antibodies targeting any given epitope $e$.\n",
    "Specifically, let $a_{\\rm{wt}, e}$ be the total activity against the \"wildtype\" protein of of antibodies targeting epitope $e$, with larger values of $a_{\\rm{wt}, e}$ indicating stronger antibody binding (or neutralization) at this epitope.\n",
    "Let $\\beta_{m,e}$ be the extent to which mutation $m$ (where $1 \\le m \\le M$) reduces binding by antibodies targeting epitope $e$, with larger values of $\\beta_{m,e}$ corresponding to more escape from binding (a value of 0 means the mutation has no effect on antibodies targeting this epitope).\n",
    "We can then write:\n",
    "$$\n",
    "\\phi_e\\left(v\\right) = -a_{\\rm{wt}, e} + \\sum_{m=1}^M \\beta_{m,e} b\\left(v\\right)_m\n",
    "\\label{phie} \\tag{3}\n",
    "$$\n",
    "where $b\\left(v\\right)_m$ is one if variant $v$ has mutation $m$ and 0 otherwise.\n",
    "\n",
    "Together, Equations \\eqref{pv}, \\eqref{Ue}, and \\eqref{phie} relate the quantities of biological interest ($a_{\\rm{wt}, e}$ and $\\beta_{m,e}$) to the experimental measurables ($p_v\\left(c\\right)$)."
   ]
  },
  {
   "cell_type": "markdown",
   "metadata": {},
   "source": [
    "## Simulate realistic data for SARS-CoV-2 RBD\n",
    "We will simulate a hypothetical polyclonal antibody mix designed to represent antibodies targeting three major neutralizing \"epitopes\" on the SARS-CoV-2 receptor-binding domain (RBD) using the classification scheme of [Barnes et al (2020)](https://www.nature.com/articles/s41586-020-2852-1).\n",
    "In particular, [Barnes et al (2020)](https://www.nature.com/articles/s41586-020-2852-1) divided anti-RBD antibodies that bind to the receptor-binding motif into three classes.\n",
    "For each of these classes, we will use a single well-studied monoclonal antibody to represent how mutations affect antibodies of that class (of course, the reality might be more complex as there are many somewhat distinct antibodies in each class):"
   ]
  },
  {
   "cell_type": "code",
   "execution_count": 1,
   "metadata": {
    "execution": {
     "iopub.execute_input": "2021-03-11T14:40:03.122876Z",
     "iopub.status.busy": "2021-03-11T14:40:03.122617Z",
     "iopub.status.idle": "2021-03-11T14:40:03.126166Z",
     "shell.execute_reply": "2021-03-11T14:40:03.125446Z",
     "shell.execute_reply.started": "2021-03-11T14:40:03.122854Z"
    }
   },
   "outputs": [],
   "source": [
    "# relate monoclonal antibodies to their epitope class\n",
    "antibody_to_epitope = {\n",
    "    'LY-CoV016': 'class 1',\n",
    "    'LY-CoV555': 'class 2',\n",
    "    'REGN10987': 'class 3',\n",
    "    }"
   ]
  },
  {
   "cell_type": "markdown",
   "metadata": {},
   "source": [
    "For each of these antibodies, we have experimental measurements of how all functionally tolerated single amino-acid mutations to the RBD affect binding by each monoclonal antibody in isolation.\n",
    "These measurements were made using deep mutational scanning in the following papers:\n",
    "  - *LY-CoV016* and *REGN10987*: [Starr et al (2021), Science](https://science.sciencemag.org/content/371/6531/850)\n",
    "  - *LY-CoV555*: [Starr et al (2021), bioRxiv](https://www.biorxiv.org/content/10.1101/2021.02.17.431683v1)\n",
    "\n",
    "The measurements are in the file [mutation_escape_fractions.csv](mutation_escape_fractions.csv), and consist of estimates of the \"escape fraction\" $x_{m,e}$ for each mutation $m$ against the monoclonal antibody targeting epitope $e$.\n",
    "These escape fractions represent the probability that a RBD carrying only that amino-acid mutation is unbound by the antibody at a concentration where only $\\sim$0.1% of the unmutated RBD is unbound.\n",
    "Noting that $x_{m,e}$ represents the $U_e$ values defined above, using $a_{\\rm{wt},e}^{\\rm{monoclonal}}$ to represent the activity of the monoclonal antibody targeting epitope $e$ (these values are distinct from the activities for each epitope in the polyclonal mix that we will simulate below), and setting the concentration to $c = 1$ (allowable, since in general change of units of concentration are equivalent to adding a constant to the activity $a$), we can compute the extent of escape $\\beta_{m,e}$ mediated by mutation $m$ against the antibody targeting epitope $e$ from the following two equations:\n",
    "$$\n",
    "\\begin{eqnarray}\n",
    "0.001 &=& \\frac{1}{1 + \\exp\\left(a_{\\rm{wt},e}^{\\rm{monoclonal}}\\right)} \\\\\n",
    "x_{m,e} &=& \\frac{1}{1 + \\exp\\left(a_{\\rm{wt},e}^{\\rm{monoclonal}} - \\beta_{m,e}\\right)}, \\\\\n",
    "\\end{eqnarray}\n",
    "$$\n",
    "which can be solved to yield:\n",
    "$$\n",
    "\\beta_{m,e} = 6.9 - \\ln\\left(1 / x_{m,e} - 1\\right).\n",
    "$$\n",
    "This equation allows us to calculate the extent of escape $\\beta_{m,e}$ on the monoclonal antibody targeting epitope $e$ from the prior deep mutational scanning that measured single-amino acid escape fractions for individual antibodies.\n",
    "We do that below; in order to avoid calculating $\\beta_{m,e}$ values that are negative or positive infinity, we first set a floor and ceiling on the measured escape fractions $x_{m,e}$ of 0.0001 and 0.9999.\n",
    "The resulting $\\beta_{m,e}$ values are in the `mut_escape_df` data frame column called *escape*:"
   ]
  },
  {
   "cell_type": "code",
   "execution_count": 2,
   "metadata": {
    "execution": {
     "iopub.execute_input": "2021-03-11T14:40:03.129417Z",
     "iopub.status.busy": "2021-03-11T14:40:03.129232Z",
     "iopub.status.idle": "2021-03-11T14:40:03.764446Z",
     "shell.execute_reply": "2021-03-11T14:40:03.763608Z",
     "shell.execute_reply.started": "2021-03-11T14:40:03.129399Z"
    }
   },
   "outputs": [
    {
     "data": {
      "text/html": [
       "<div>\n",
       "<style scoped>\n",
       "    .dataframe tbody tr th:only-of-type {\n",
       "        vertical-align: middle;\n",
       "    }\n",
       "\n",
       "    .dataframe tbody tr th {\n",
       "        vertical-align: top;\n",
       "    }\n",
       "\n",
       "    .dataframe thead th {\n",
       "        text-align: right;\n",
       "    }\n",
       "</style>\n",
       "<table border=\"1\" class=\"dataframe\">\n",
       "  <thead>\n",
       "    <tr style=\"text-align: right;\">\n",
       "      <th></th>\n",
       "      <th>epitope</th>\n",
       "      <th>mutation</th>\n",
       "      <th>escape</th>\n",
       "      <th>antibody</th>\n",
       "      <th>escape_fraction</th>\n",
       "    </tr>\n",
       "  </thead>\n",
       "  <tbody>\n",
       "    <tr>\n",
       "      <th>0</th>\n",
       "      <td>class 1</td>\n",
       "      <td>N331A</td>\n",
       "      <td>0.082265</td>\n",
       "      <td>LY-CoV016</td>\n",
       "      <td>0.001093</td>\n",
       "    </tr>\n",
       "    <tr>\n",
       "      <th>1</th>\n",
       "      <td>class 1</td>\n",
       "      <td>N331D</td>\n",
       "      <td>0.776965</td>\n",
       "      <td>LY-CoV016</td>\n",
       "      <td>0.002187</td>\n",
       "    </tr>\n",
       "    <tr>\n",
       "      <th>2</th>\n",
       "      <td>class 1</td>\n",
       "      <td>N331E</td>\n",
       "      <td>0.082265</td>\n",
       "      <td>LY-CoV016</td>\n",
       "      <td>0.001093</td>\n",
       "    </tr>\n",
       "    <tr>\n",
       "      <th>3</th>\n",
       "      <td>class 1</td>\n",
       "      <td>N331F</td>\n",
       "      <td>0.082265</td>\n",
       "      <td>LY-CoV016</td>\n",
       "      <td>0.001093</td>\n",
       "    </tr>\n",
       "    <tr>\n",
       "      <th>4</th>\n",
       "      <td>class 1</td>\n",
       "      <td>N331G</td>\n",
       "      <td>1.701227</td>\n",
       "      <td>LY-CoV016</td>\n",
       "      <td>0.005493</td>\n",
       "    </tr>\n",
       "    <tr>\n",
       "      <th>...</th>\n",
       "      <td>...</td>\n",
       "      <td>...</td>\n",
       "      <td>...</td>\n",
       "      <td>...</td>\n",
       "      <td>...</td>\n",
       "    </tr>\n",
       "    <tr>\n",
       "      <th>5791</th>\n",
       "      <td>class 3</td>\n",
       "      <td>T531R</td>\n",
       "      <td>0.726213</td>\n",
       "      <td>REGN10987</td>\n",
       "      <td>0.002079</td>\n",
       "    </tr>\n",
       "    <tr>\n",
       "      <th>5792</th>\n",
       "      <td>class 3</td>\n",
       "      <td>T531S</td>\n",
       "      <td>0.726213</td>\n",
       "      <td>REGN10987</td>\n",
       "      <td>0.002079</td>\n",
       "    </tr>\n",
       "    <tr>\n",
       "      <th>5793</th>\n",
       "      <td>class 3</td>\n",
       "      <td>T531V</td>\n",
       "      <td>0.724766</td>\n",
       "      <td>REGN10987</td>\n",
       "      <td>0.002076</td>\n",
       "    </tr>\n",
       "    <tr>\n",
       "      <th>5794</th>\n",
       "      <td>class 3</td>\n",
       "      <td>T531W</td>\n",
       "      <td>0.722833</td>\n",
       "      <td>REGN10987</td>\n",
       "      <td>0.002072</td>\n",
       "    </tr>\n",
       "    <tr>\n",
       "      <th>5795</th>\n",
       "      <td>class 3</td>\n",
       "      <td>T531Y</td>\n",
       "      <td>0.726213</td>\n",
       "      <td>REGN10987</td>\n",
       "      <td>0.002079</td>\n",
       "    </tr>\n",
       "  </tbody>\n",
       "</table>\n",
       "<p>5796 rows × 5 columns</p>\n",
       "</div>"
      ],
      "text/plain": [
       "      epitope mutation    escape   antibody  escape_fraction\n",
       "0     class 1    N331A  0.082265  LY-CoV016         0.001093\n",
       "1     class 1    N331D  0.776965  LY-CoV016         0.002187\n",
       "2     class 1    N331E  0.082265  LY-CoV016         0.001093\n",
       "3     class 1    N331F  0.082265  LY-CoV016         0.001093\n",
       "4     class 1    N331G  1.701227  LY-CoV016         0.005493\n",
       "...       ...      ...       ...        ...              ...\n",
       "5791  class 3    T531R  0.726213  REGN10987         0.002079\n",
       "5792  class 3    T531S  0.726213  REGN10987         0.002079\n",
       "5793  class 3    T531V  0.724766  REGN10987         0.002076\n",
       "5794  class 3    T531W  0.722833  REGN10987         0.002072\n",
       "5795  class 3    T531Y  0.726213  REGN10987         0.002079\n",
       "\n",
       "[5796 rows x 5 columns]"
      ]
     },
     "execution_count": 2,
     "metadata": {},
     "output_type": "execute_result"
    }
   ],
   "source": [
    "import numpy\n",
    "\n",
    "import pandas as pd\n",
    "\n",
    "escape_frac_floor = 0.0001\n",
    "escape_frac_ceil = 0.9999\n",
    "\n",
    "mut_escape_df = (\n",
    "    pd.read_csv('polyclonal_data/mutation_escape_fractions.csv')\n",
    "    .assign(epitope=lambda x: x['antibody'].map(antibody_to_epitope),\n",
    "            escape_fraction=lambda x: x['escape_fraction'].clip(lower=escape_frac_floor,\n",
    "                                                                upper=escape_frac_ceil),\n",
    "            escape=lambda x: 6.9 - numpy.log(1 / x['escape_fraction'] - 1),\n",
    "            )\n",
    "    [['epitope', 'mutation', 'escape', 'antibody', 'escape_fraction']]\n",
    "    )\n",
    "\n",
    "mut_escape_df"
   ]
  },
  {
   "cell_type": "markdown",
   "metadata": {},
   "source": [
    "The key columns in the `mut_escape_df` data frame are the epitope, mutation, and *escape* ($\\beta_{m,e}$) values, although we also retain the antibody and single-antibody deep mutational scanning escape fraction measurements.\n",
    "\n",
    "Note also that the data frame only includes 1932 of the $201 \\times 19 = 3819$ possible amino-acid mutations to the RBD; this is because only about half of the mutations are functionally tolerated."
   ]
  },
  {
   "cell_type": "code",
   "execution_count": 3,
   "metadata": {
    "execution": {
     "iopub.execute_input": "2021-03-11T14:40:03.765706Z",
     "iopub.status.busy": "2021-03-11T14:40:03.765477Z",
     "iopub.status.idle": "2021-03-11T14:40:03.770609Z",
     "shell.execute_reply": "2021-03-11T14:40:03.769952Z",
     "shell.execute_reply.started": "2021-03-11T14:40:03.765684Z"
    }
   },
   "outputs": [
    {
     "data": {
      "text/plain": [
       "1932"
      ]
     },
     "execution_count": 3,
     "metadata": {},
     "output_type": "execute_result"
    }
   ],
   "source": [
    "mutations = list(mut_escape_df['mutation'].unique())\n",
    "len(mutations)"
   ]
  }
 ],
 "metadata": {
  "kernelspec": {
   "display_name": "Python 3",
   "language": "python",
   "name": "python3"
  },
  "language_info": {
   "codemirror_mode": {
    "name": "ipython",
    "version": 3
   },
   "file_extension": ".py",
   "mimetype": "text/x-python",
   "name": "python",
   "nbconvert_exporter": "python",
   "pygments_lexer": "ipython3",
   "version": "3.8.5"
  }
 },
 "nbformat": 4,
 "nbformat_minor": 4
}
