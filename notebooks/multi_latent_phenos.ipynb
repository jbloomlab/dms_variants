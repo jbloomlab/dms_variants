{
 "cells": [
  {
   "cell_type": "markdown",
   "metadata": {},
   "source": [
    "# Global epistasis models with multiple latent phenotypes\n",
    "\n",
    "In this example, we simulate deep mutational scanning libraries under a global epistasis model with **two** latent phenotypes.\n",
    "We then fit global epistasis models with one and two latent phenotypes to the data, compare them, and examine how well they can predict new *unseen* multiple-mutant variants.\n",
    "\n",
    "The overall conclusion is that using multiple latent phenotypes does not seem to be better than using just one latent phenotype, even if the data are in fact simulated under multiple latent phenotypes.\n",
    "Presumably this is because of issues in the fitting of multiple latent phenotypes.\n",
    "\n",
    "## Setup for analysis\n",
    "\n",
    "Import Python modules / packages:"
   ]
  },
  {
   "cell_type": "code",
   "execution_count": 1,
   "metadata": {
    "attributes": {
     "classes": [],
     "id": "",
     "n": "1"
    }
   },
   "outputs": [],
   "source": [
    "import random\n",
    "import time\n",
    "import warnings\n",
    "\n",
    "import binarymap\n",
    "\n",
    "import pandas as pd\n",
    "\n",
    "from plotnine import *\n",
    "\n",
    "import scipy\n",
    "\n",
    "import dms_variants.codonvarianttable\n",
    "import dms_variants.globalepistasis\n",
    "import dms_variants.plotnine_themes\n",
    "import dms_variants.simulate\n",
    "from dms_variants.constants import CBPALETTE, CODONS_NOSTOP"
   ]
  },
  {
   "cell_type": "markdown",
   "metadata": {},
   "source": [
    "Now we set the parameters that define the simulation.\n",
    "We try to choose parameters typical of a Bloom lab viral deep mutational scanning project.\n",
    "There is a modest rate of errors in the variant calling, and a moderate bottleneck going from pre- to post-selection.\n",
    "We use a short gene (60 residues) in order to ensure that the analysis doesn't take too long.\n",
    "Crucially, we test libraries with a variety of mutation rates (average number of codon substitutions per variant):"
   ]
  },
  {
   "cell_type": "code",
   "execution_count": 2,
   "metadata": {
    "attributes": {
     "classes": [],
     "id": "",
     "n": "2"
    }
   },
   "outputs": [],
   "source": [
    "seed = 1  # random number seed\n",
    "genelength = 60  # gene length in codons\n",
    "variants_per_lib = 500 * genelength  # variants per library\n",
    "avgmuts = 2.5  # average mutations per variant\n",
    "bclen = 16  # length of nucleotide barcode for each variant\n",
    "variant_error_rate = 0.005  # rate at which variant sequence mis-called\n",
    "avgdepth_per_variant = 100  # average per-variant sequencing depth\n",
    "lib_uniformity = 5  # uniformity of library pre-selection\n",
    "noise = 0.02  # random noise in selections\n",
    "bottleneck = (\n",
    "    20  # bottleneck from pre- to post-selection as multiple of variants_per_lib\n",
    ")"
   ]
  },
  {
   "cell_type": "markdown",
   "metadata": {},
   "source": [
    "Seed random number generator for reproducible output:"
   ]
  },
  {
   "cell_type": "code",
   "execution_count": 3,
   "metadata": {
    "attributes": {
     "classes": [],
     "id": "",
     "n": "3"
    }
   },
   "outputs": [],
   "source": [
    "random.seed(seed)"
   ]
  },
  {
   "cell_type": "markdown",
   "metadata": {},
   "source": [
    "Set pandas display options to show large chunks of Data Frames in this\n",
    "example:"
   ]
  },
  {
   "cell_type": "code",
   "execution_count": 4,
   "metadata": {
    "attributes": {
     "classes": [],
     "id": "",
     "n": "4"
    }
   },
   "outputs": [],
   "source": [
    "pd.set_option(\"display.max_columns\", 20)\n",
    "pd.set_option(\"display.width\", 500)"
   ]
  },
  {
   "cell_type": "markdown",
   "metadata": {},
   "source": [
    "Hide warnings that clutter output:"
   ]
  },
  {
   "cell_type": "code",
   "execution_count": 5,
   "metadata": {
    "attributes": {
     "classes": [],
     "id": "",
     "n": "5"
    }
   },
   "outputs": [],
   "source": [
    "warnings.simplefilter(\"ignore\")"
   ]
  },
  {
   "cell_type": "markdown",
   "metadata": {},
   "source": [
    "Set the gray grid [plotnine theme](https://plotnine.readthedocs.io/en/stable/generated/plotnine.themes.theme.html?highlight=themes) defined in [dms_variants.plotnine_themes](https://jbloomlab.github.io/dms_variants/dms_variants.plotnine_themes.html) as this gives a nice appearance for the plots:"
   ]
  },
  {
   "cell_type": "code",
   "execution_count": 6,
   "metadata": {},
   "outputs": [],
   "source": [
    "theme_set(dms_variants.plotnine_themes.theme_graygrid())"
   ]
  },
  {
   "cell_type": "markdown",
   "metadata": {},
   "source": [
    "## Simulate library of variants\n",
    "Simulate libraries of codon variants with each of the average mutation rates.\n",
    "\n",
    "Simulate wildtype gene sequence:"
   ]
  },
  {
   "cell_type": "code",
   "execution_count": 7,
   "metadata": {
    "attributes": {
     "classes": [],
     "id": "",
     "n": "6"
    }
   },
   "outputs": [
    {
     "name": "stdout",
     "output_type": "stream",
     "text": [
      "Wildtype gene of 60 codons:\n",
      "AGATCCGTGATTCTGCGTGCTTACACCAACTCACGGGTGAAACGTGTAATCTTATGCAACAACGACTTACCTATCCGCAACATCCGGCTGATGATGATCCTACACAACTCCGACGCTAGTTTTTCGACTCCAGTAGGTTTACGCTCAGGACAGGATTCTTCCCTGGATAAGATGTACCGC\n"
     ]
    }
   ],
   "source": [
    "geneseq = \"\".join(random.choices(CODONS_NOSTOP, k=genelength))\n",
    "print(f\"Wildtype gene of {genelength} codons:\\n{geneseq}\")"
   ]
  },
  {
   "cell_type": "markdown",
   "metadata": {},
   "source": [
    "Generate a\n",
    "[CodonVariantTable](https://jbloomlab.github.io/dms_variants/dms_variants.codonvarianttable.html#dms_variants.codonvarianttable.CodonVariantTable)\n",
    "using\n",
    "[simulate_CodonVariantTable](https://jbloomlab.github.io/dms_variants/dms_variants.simulate.html#dms_variants.simulate.simulate_CodonVariantTable)\n",
    "function, with different libraries for each mutation rate:"
   ]
  },
  {
   "cell_type": "code",
   "execution_count": 8,
   "metadata": {
    "attributes": {
     "classes": [],
     "id": "",
     "n": "7"
    }
   },
   "outputs": [],
   "source": [
    "variants = dms_variants.simulate.simulate_CodonVariantTable(\n",
    "    geneseq=geneseq,\n",
    "    bclen=bclen,\n",
    "    library_specs={\n",
    "        \"lib_1\": {\"avgmuts\": avgmuts, \"nvariants\": variants_per_lib},\n",
    "    },\n",
    "    seed=seed,\n",
    ")"
   ]
  },
  {
   "cell_type": "markdown",
   "metadata": {},
   "source": [
    "Plot the number of amino-acid mutations per variant:"
   ]
  },
  {
   "cell_type": "code",
   "execution_count": 9,
   "metadata": {
    "attributes": {
     "classes": [],
     "id": "",
     "n": "15"
    }
   },
   "outputs": [
    {
     "data": {
      "image/png": "[encoded data removed]",
      "text/plain": [
       "<Figure size 300x210 with 1 Axes>"
      ]
     },
     "metadata": {
      "needs_background": "light"
     },
     "output_type": "display_data"
    }
   ],
   "source": [
    "p = variants.plotNumMutsHistogram(\n",
    "    \"aa\",\n",
    "    samples=None,\n",
    "    widthscale=1.2,\n",
    ")\n",
    "p = p + theme(panel_grid_major_x=element_blank())  # no vertical grid lines\n",
    "_ = p.draw(show=True)"
   ]
  },
  {
   "cell_type": "markdown",
   "metadata": {},
   "source": [
    "Average number of codon mutations of each type per variant:"
   ]
  },
  {
   "cell_type": "code",
   "execution_count": 10,
   "metadata": {
    "attributes": {
     "classes": [],
     "id": "",
     "n": "17"
    }
   },
   "outputs": [
    {
     "data": {
      "image/png": "[encoded data removed]",
      "text/plain": [
       "<Figure size 240x230 with 1 Axes>"
      ]
     },
     "metadata": {
      "needs_background": "light"
     },
     "output_type": "display_data"
    }
   ],
   "source": [
    "p = variants.plotNumCodonMutsByType(variant_type=\"all\", samples=None)\n",
    "p = p + theme(panel_grid_major_x=element_blank())  # no vertical grid lines\n",
    "_ = p.draw(show=True)"
   ]
  },
  {
   "cell_type": "markdown",
   "metadata": {},
   "source": [
    "Examine how well amino-acid mutations are sampled in the library by looking at the\n",
    "fraction\n",
    "of mutations seen <= some number of times, making separate plots for single mutants and all mutants.\n",
    "Most mutations are samples as single mutants, and all are sampled several times as multiple mutants:"
   ]
  },
  {
   "cell_type": "code",
   "execution_count": 11,
   "metadata": {
    "attributes": {
     "classes": [],
     "id": "",
     "n": "19"
    }
   },
   "outputs": [
    {
     "data": {
      "image/png": "[encoded data removed]",
      "text/plain": [
       "<Figure size 290x220 with 1 Axes>"
      ]
     },
     "metadata": {
      "needs_background": "light"
     },
     "output_type": "display_data"
    },
    {
     "data": {
      "image/png": "[encoded data removed]",
      "text/plain": [
       "<Figure size 290x220 with 1 Axes>"
      ]
     },
     "metadata": {
      "needs_background": "light"
     },
     "output_type": "display_data"
    }
   ],
   "source": [
    "for variant_type in [\"single\", \"all\"]:\n",
    "    p = variants.plotCumulMutCoverage(variant_type, mut_type=\"aa\", samples=None)\n",
    "    _ = p.draw(show=True)"
   ]
  },
  {
   "cell_type": "markdown",
   "metadata": {},
   "source": [
    "## Simulate variant counts under two-latent phenotype global epistasis model\n",
    "Now we simulate the counts of each variant after selection.\n",
    "These simulations are done under a model of the phenotypic effects of mutations.\n",
    "\n",
    "We define two latent-to-observed phenotype functions using an extension of the \"global epistasis\" concepts of [Otwinoski et\n",
    "al](https://doi.org/10.1073/pnas.1804015115) and [Sailer and\n",
    "Harms](https://doi.org/10.1534/genetics.116.195214).\n",
    "In that concept, there is an \"observed\" phenotype which is a nonlinear function of an underlying \"latent\" phenotype that is affected additively by mutations.\n",
    "\n",
    "Here we instead let the observed phenotype be the sum of **two** nonlinear functions each acting on a different latent phenotype.\n",
    "Each nonlinear function is implemented via a [SigmoidPhenotypeSimulator](https://jbloomlab.github.io/dms_variants/dms_variants.simulate.html#dms_variants.simulate.SigmoidPhenotypeSimulator), and these are then combined in a [MultiLatentSigmoidPhenotypeSimulator](https://jbloomlab.github.io/dms_variants/dms_variants.simulate.html#dms_variants.simulate.MultiLatentSigmoidPhenotypeSimulator) that maps the two latent phenotypes to the observed phenotype.\n",
    "The first latent phenotype is strongly affected by most mutations (you can imagine this is something like protein stability) and the other is strongly affected by only some mutations (you can imagine this is something like protein activity).\n",
    "\n",
    "The counts for variants are then simulated according to their enrichments, which are the exponentials of the observed phenotype:"
   ]
  },
  {
   "cell_type": "code",
   "execution_count": 12,
   "metadata": {
    "attributes": {
     "classes": [],
     "id": "",
     "n": "24"
    }
   },
   "outputs": [],
   "source": [
    "pheno1 = dms_variants.simulate.SigmoidPhenotypeSimulator(\n",
    "    geneseq,\n",
    "    seed=seed,\n",
    "    wt_latent=4,\n",
    "    stop_effect=-10,\n",
    "    norm_weights=[\n",
    "        (0.4, -1.25, 1.25),\n",
    "        (0.6, -5.5, 2.25),\n",
    "    ],\n",
    ")\n",
    "pheno2 = dms_variants.simulate.SigmoidPhenotypeSimulator(\n",
    "    geneseq,\n",
    "    seed=seed,\n",
    "    wt_latent=3,\n",
    "    stop_effect=0,\n",
    "    norm_weights=[\n",
    "        (0.7, 0, 0.1),\n",
    "        (0.2, -8, 3),\n",
    "        (0.1, -1, 2),\n",
    "    ],\n",
    ")\n",
    "\n",
    "phenosimulator = dms_variants.simulate.MultiLatentSigmoidPhenotypeSimulator(\n",
    "    [pheno1, pheno2]\n",
    ")"
   ]
  },
  {
   "cell_type": "markdown",
   "metadata": {},
   "source": [
    "Plot the distribution of each latent phenotype, the, observed phenotype, and observed enrichment for all single amino-acid mutants, with a dashed vertical line indicating the wildtype:"
   ]
  },
  {
   "cell_type": "code",
   "execution_count": 13,
   "metadata": {
    "attributes": {
     "classes": [],
     "id": "",
     "n": "26"
    }
   },
   "outputs": [
    {
     "data": {
      "image/png": "[encoded data removed]",
      "text/plain": [
       "<Figure size 350x250 with 1 Axes>"
      ]
     },
     "metadata": {
      "needs_background": "light"
     },
     "output_type": "display_data"
    },
    {
     "data": {
      "image/png": "[encoded data removed]",
      "text/plain": [
       "<Figure size 350x250 with 1 Axes>"
      ]
     },
     "metadata": {
      "needs_background": "light"
     },
     "output_type": "display_data"
    },
    {
     "data": {
      "image/png": "[encoded data removed]",
      "text/plain": [
       "<Figure size 350x250 with 1 Axes>"
      ]
     },
     "metadata": {
      "needs_background": "light"
     },
     "output_type": "display_data"
    },
    {
     "data": {
      "image/png": "[encoded data removed]",
      "text/plain": [
       "<Figure size 350x250 with 1 Axes>"
      ]
     },
     "metadata": {
      "needs_background": "light"
     },
     "output_type": "display_data"
    }
   ],
   "source": [
    "for value in [\"latentPhenotype\", \"observedPhenotype\", \"observedEnrichment\"]:\n",
    "    if value == \"latentPhenotype\":\n",
    "        for k in range(1, phenosimulator.n_latent_phenotypes + 1):\n",
    "            p = phenosimulator.plotMutsHistogram(value, k=k)\n",
    "            _ = p.draw(show=True)\n",
    "    else:\n",
    "        p = phenosimulator.plotMutsHistogram(value)\n",
    "        _ = p.draw(show=True)"
   ]
  },
  {
   "cell_type": "markdown",
   "metadata": {},
   "source": [
    "Use [simulateSampleCounts](https://jbloomlab.github.io/dms_variants/dms_variants.simulate.html#dms_variants.simulate.simulateSampleCounts) to simulate counts of variants when selection on each variant is proportional to\n",
    "its observed enrichment:"
   ]
  },
  {
   "cell_type": "code",
   "execution_count": 14,
   "metadata": {
    "attributes": {
     "classes": [],
     "id": "",
     "n": "27"
    }
   },
   "outputs": [],
   "source": [
    "counts = dms_variants.simulate.simulateSampleCounts(\n",
    "    variants=variants,\n",
    "    phenotype_func=phenosimulator.observedEnrichment,\n",
    "    variant_error_rate=variant_error_rate,\n",
    "    pre_sample={\n",
    "        \"total_count\": variants_per_lib * avgdepth_per_variant,\n",
    "        \"uniformity\": lib_uniformity,\n",
    "    },\n",
    "    pre_sample_name=\"pre-selection\",\n",
    "    post_samples={\n",
    "        \"post-selection\": {\n",
    "            \"noise\": noise,\n",
    "            \"total_count\": variants_per_lib * avgdepth_per_variant,\n",
    "            \"bottleneck\": variants_per_lib * bottleneck,\n",
    "        }\n",
    "    },\n",
    "    seed=seed,\n",
    ")"
   ]
  },
  {
   "cell_type": "markdown",
   "metadata": {},
   "source": [
    "Add the simulated counts for each library to the [CodonVariantTable](https://jbloomlab.github.io/dms_variants/dms_variants.codonvarianttable.html#dms_variants.codonvarianttable.CodonVariantTable):"
   ]
  },
  {
   "cell_type": "code",
   "execution_count": 15,
   "metadata": {
    "attributes": {
     "classes": [],
     "id": "",
     "n": "29"
    }
   },
   "outputs": [],
   "source": [
    "variants.add_sample_counts_df(counts)"
   ]
  },
  {
   "cell_type": "markdown",
   "metadata": {},
   "source": [
    "Plot the number of counts for each variant. \n",
    "The horizontal dashed line shows the total number of variants. \n",
    "The plot shows that all variants are well-sampled in the pre-selection libraries, but that post-selection some variants are sampled more or less.\n",
    "This is expected since selection will decrease and increase the frequency of variants:"
   ]
  },
  {
   "cell_type": "code",
   "execution_count": 16,
   "metadata": {
    "attributes": {
     "classes": [],
     "id": "",
     "n": "32"
    }
   },
   "outputs": [
    {
     "data": {
      "image/png": "[encoded data removed]",
      "text/plain": [
       "<Figure size 400x210 with 2 Axes>"
      ]
     },
     "metadata": {
      "needs_background": "light"
     },
     "output_type": "display_data"
    }
   ],
   "source": [
    "p = variants.plotCumulVariantCounts(libraries=variants.libraries, orientation=\"v\")\n",
    "_ = p.draw(show=True)"
   ]
  },
  {
   "cell_type": "markdown",
   "metadata": {},
   "source": [
    "Distribution of the number of amino-acid mutations per variant.\n",
    "As expected, mutations go down after selection:"
   ]
  },
  {
   "cell_type": "code",
   "execution_count": 17,
   "metadata": {
    "attributes": {
     "classes": [],
     "id": "",
     "n": "33"
    }
   },
   "outputs": [
    {
     "data": {
      "image/png": "[encoded data removed]",
      "text/plain": [
       "<Figure size 480x210 with 2 Axes>"
      ]
     },
     "metadata": {
      "needs_background": "light"
     },
     "output_type": "display_data"
    }
   ],
   "source": [
    "p = variants.plotNumMutsHistogram(\n",
    "    mut_type=\"aa\", libraries=variants.libraries, widthscale=1.2, orientation=\"v\"\n",
    ")\n",
    "p = p + theme(panel_grid_major_x=element_blank())  # no vertical grid lines\n",
    "_ = p.draw(show=True)"
   ]
  },
  {
   "cell_type": "markdown",
   "metadata": {},
   "source": [
    "Average number of mutations per variant:"
   ]
  },
  {
   "cell_type": "code",
   "execution_count": 18,
   "metadata": {
    "attributes": {
     "classes": [],
     "id": "",
     "n": "34"
    }
   },
   "outputs": [
    {
     "data": {
      "image/png": "[encoded data removed]",
      "text/plain": [
       "<Figure size 380x230 with 2 Axes>"
      ]
     },
     "metadata": {
      "needs_background": "light"
     },
     "output_type": "display_data"
    }
   ],
   "source": [
    "p = variants.plotNumCodonMutsByType(\n",
    "    variant_type=\"all\", libraries=variants.libraries, orientation=\"v\"\n",
    ")\n",
    "p = p + theme(panel_grid_major_x=element_blank())  # no vertical grid lines\n",
    "_ = p.draw(show=True)"
   ]
  },
  {
   "cell_type": "markdown",
   "metadata": {},
   "source": [
    "## Functional scores for variants\n",
    "Use\n",
    "[CodonVariantTable.func_scores](https://jbloomlab.github.io/dms_variants/dms_variants.codonvarianttable.html#dms_variants.codonvarianttable.CodonVariantTable.func_scores)\n",
    "to calculates a functional score for each variant based on its change in\n",
    "frequency from pre- to post-selection:"
   ]
  },
  {
   "cell_type": "code",
   "execution_count": 19,
   "metadata": {
    "attributes": {
     "classes": [],
     "id": "",
     "n": "37"
    }
   },
   "outputs": [],
   "source": [
    "func_scores = variants.func_scores(\"pre-selection\", libraries=variants.libraries)"
   ]
  },
  {
   "cell_type": "markdown",
   "metadata": {},
   "source": [
    "Classify variants\n",
    "by the “types” of mutations they\n",
    "have using the\n",
    "[CodonVariantTable.classifyVariants](https://jbloomlab.github.io/dms_variants/dms_variants.codonvarianttable.html#dms_variants.codonvarianttable.CodonVariantTable.classifyVariants):"
   ]
  },
  {
   "cell_type": "code",
   "execution_count": 20,
   "metadata": {},
   "outputs": [],
   "source": [
    "func_scores = dms_variants.codonvarianttable.CodonVariantTable.classifyVariants(\n",
    "    func_scores\n",
    ")"
   ]
  },
  {
   "cell_type": "markdown",
   "metadata": {},
   "source": [
    "Plot the distributions of scores, coloring by the variant class:"
   ]
  },
  {
   "cell_type": "code",
   "execution_count": 21,
   "metadata": {},
   "outputs": [
    {
     "data": {
      "image/png": "[encoded data removed]",
      "text/plain": [
       "<Figure size 225x200 with 1 Axes>"
      ]
     },
     "metadata": {
      "needs_background": "light"
     },
     "output_type": "display_data"
    }
   ],
   "source": [
    "p = (\n",
    "    ggplot(func_scores, aes(\"variant_class\", \"func_score\"))\n",
    "    + geom_violin(aes(fill=\"variant_class\"))\n",
    "    + ylab(\"functional score\")\n",
    "    + xlab(\"\")\n",
    "    + facet_wrap(\"~ library\", nrow=1)\n",
    "    + theme(\n",
    "        figure_size=(2.25 * len(variants.libraries), 2),\n",
    "        axis_text_x=element_text(angle=90),\n",
    "        panel_grid_major_x=element_blank(),  # no vertical grid lines\n",
    "    )\n",
    "    + scale_fill_manual(values=CBPALETTE[1:], guide=False)\n",
    ")\n",
    "_ = p.draw(show=True)"
   ]
  },
  {
   "cell_type": "markdown",
   "metadata": {},
   "source": [
    "## Fit global epistasis models with multiple latent phenotypes\n",
    "Now we will fit global epistasis models with multiple latent phenotypes.\n",
    "More information about these models is provided in the description at the top of the [dms_variants.globalepistasis](https://jbloomlab.github.io/dms_variants/dms_variants.globalepistasis.html) module. \n",
    "\n",
    "We use the [fit_models](https://jbloomlab.github.io/dms_variants/dms_variants.globalepistasis.html#dms_variants.globalepistasis.fit_models) function, which fits a non-epistatic model as well as global epistasis models with multiple latent phenotypes (it keeps adding latent phenotypes until their addition no longer helps).\n",
    "This is the best way to fit multi-latent phenotype models, because the model with $K$ latent phenotypes is fit with parameters initialized by the model with $K - 1$ latent phenotyes.\n",
    "Note [fit_models](https://jbloomlab.github.io/dms_variants/dms_variants.globalepistasis.html#dms_variants.globalepistasis.fit_models) does **not** fit multi-latent phenotype models for the no-epistasis models, since this would not make sense: the sum of two linear models is just another linear model.\n",
    "\n",
    "When calling [fit_models](https://jbloomlab.github.io/dms_variants/dms_variants.globalepistasis.html#dms_variants.globalepistasis.fit_models), we have to decide the maximum number of latent phenotypes we allow.\n",
    "Here we cap it at two, because this is the actual number in the simulated data; also the computational time needed for fitting grows rapidly with more latent phenotypes:"
   ]
  },
  {
   "cell_type": "code",
   "execution_count": 22,
   "metadata": {},
   "outputs": [],
   "source": [
    "# make sure we're just fitting one library, if multiple you should fit one-by-one\n",
    "assert func_scores[\"library\"].nunique() == 1\n",
    "\n",
    "# create BinaryMap of variants\n",
    "bmap = binarymap.BinaryMap(func_scores)\n",
    "\n",
    "# fit the models\n",
    "fits_df = dms_variants.globalepistasis.fit_models(\n",
    "    binarymap=bmap, likelihood=\"Gaussian\", max_latent_phenotypes=2\n",
    ")"
   ]
  },
  {
   "cell_type": "markdown",
   "metadata": {},
   "source": [
    "The returned `fits_df` data frame has columns with lots of relevant information:"
   ]
  },
  {
   "cell_type": "code",
   "execution_count": 23,
   "metadata": {},
   "outputs": [
    {
     "data": {
      "text/plain": [
       "['description',\n",
       " 'n_latent_phenotypes',\n",
       " 'AIC',\n",
       " 'nparams',\n",
       " 'log_likelihood',\n",
       " 'model',\n",
       " 'fitting_time']"
      ]
     },
     "execution_count": 23,
     "metadata": {},
     "output_type": "execute_result"
    }
   ],
   "source": [
    "fits_df.columns.tolist()"
   ]
  },
  {
   "cell_type": "markdown",
   "metadata": {},
   "source": [
    "The `model` column has the actual fit model, so for now let's look at all the other columns that summarize the model fits.\n",
    "You can see that models are ranked by [AIC](https://en.wikipedia.org/wiki/Akaike_information_criterion), which is an overall measure that compares model fit (log likelihood) after correcting for number of parameters.\n",
    "There is also a column that gives the time (in seconds) required for the fitting:"
   ]
  },
  {
   "cell_type": "code",
   "execution_count": 24,
   "metadata": {},
   "outputs": [
    {
     "data": {
      "text/html": [
       "<div>\n",
       "<style scoped>\n",
       "    .dataframe tbody tr th:only-of-type {\n",
       "        vertical-align: middle;\n",
       "    }\n",
       "\n",
       "    .dataframe tbody tr th {\n",
       "        vertical-align: top;\n",
       "    }\n",
       "\n",
       "    .dataframe thead th {\n",
       "        text-align: right;\n",
       "    }\n",
       "</style>\n",
       "<table border=\"1\" class=\"dataframe\">\n",
       "  <thead>\n",
       "    <tr style=\"text-align: right;\">\n",
       "      <th></th>\n",
       "      <th>description</th>\n",
       "      <th>n_latent_phenotypes</th>\n",
       "      <th>AIC</th>\n",
       "      <th>nparams</th>\n",
       "      <th>log_likelihood</th>\n",
       "      <th>fitting_time</th>\n",
       "    </tr>\n",
       "  </thead>\n",
       "  <tbody>\n",
       "    <tr>\n",
       "      <th>0</th>\n",
       "      <td>global epistasis with 2 latent phenotypes</td>\n",
       "      <td>2</td>\n",
       "      <td>79240.3</td>\n",
       "      <td>2415</td>\n",
       "      <td>-37205.2</td>\n",
       "      <td>105.2</td>\n",
       "    </tr>\n",
       "    <tr>\n",
       "      <th>1</th>\n",
       "      <td>global epistasis with 1 latent phenotypes</td>\n",
       "      <td>1</td>\n",
       "      <td>79540.6</td>\n",
       "      <td>1208</td>\n",
       "      <td>-38562.3</td>\n",
       "      <td>43.6</td>\n",
       "    </tr>\n",
       "    <tr>\n",
       "      <th>2</th>\n",
       "      <td>no epistasis</td>\n",
       "      <td>1</td>\n",
       "      <td>133443.5</td>\n",
       "      <td>1202</td>\n",
       "      <td>-65519.8</td>\n",
       "      <td>0.3</td>\n",
       "    </tr>\n",
       "  </tbody>\n",
       "</table>\n",
       "</div>"
      ],
      "text/plain": [
       "                                 description  n_latent_phenotypes       AIC  nparams  log_likelihood  fitting_time\n",
       "0  global epistasis with 2 latent phenotypes                    2   79240.3     2415        -37205.2         105.2\n",
       "1  global epistasis with 1 latent phenotypes                    1   79540.6     1208        -38562.3          43.6\n",
       "2                               no epistasis                    1  133443.5     1202        -65519.8           0.3"
      ]
     },
     "execution_count": 24,
     "metadata": {},
     "output_type": "execute_result"
    }
   ],
   "source": [
    "# NBVAL_IGNORE_OUTPUT\n",
    "\n",
    "fits_df.drop(\"model\", axis=\"columns\").round(1)"
   ]
  },
  {
   "cell_type": "markdown",
   "metadata": {},
   "source": [
    "Above we see that both global epistasis models are much better than the no-epistasis model, and that the model with two latent phenotypes is better than the one with just one: it has a better log likelihood, and the [AIC](https://en.wikipedia.org/wiki/Akaike_information_criterion) shows that this improved log likelihood is enough to justify the additional parameters."
   ]
  },
  {
   "cell_type": "markdown",
   "metadata": {},
   "source": [
    "## Examine model fits\n",
    "Now let's examine how the model fits the data."
   ]
  },
  {
   "cell_type": "markdown",
   "metadata": {},
   "source": [
    "### Predictions of phenotypes of fit variants\n",
    "First, we see how well the model predictions align with the (simulated) measurements on the variants used to fit the models.\n",
    "\n",
    "To do this, we use the fit models in the `model` column of `fits_df` to get a data frame with each models predicted phenotypes on all variants used to fit the models:"
   ]
  },
  {
   "cell_type": "code",
   "execution_count": 25,
   "metadata": {},
   "outputs": [
    {
     "data": {
      "text/html": [
       "<div>\n",
       "<style scoped>\n",
       "    .dataframe tbody tr th:only-of-type {\n",
       "        vertical-align: middle;\n",
       "    }\n",
       "\n",
       "    .dataframe tbody tr th {\n",
       "        vertical-align: top;\n",
       "    }\n",
       "\n",
       "    .dataframe thead th {\n",
       "        text-align: right;\n",
       "    }\n",
       "</style>\n",
       "<table border=\"1\" class=\"dataframe\">\n",
       "  <thead>\n",
       "    <tr style=\"text-align: right;\">\n",
       "      <th></th>\n",
       "      <th>aa_substitutions</th>\n",
       "      <th>func_score</th>\n",
       "      <th>func_score_var</th>\n",
       "      <th>latent_phenotype_1</th>\n",
       "      <th>latent_phenotype_2</th>\n",
       "      <th>observed_phenotype</th>\n",
       "      <th>model</th>\n",
       "      <th>latent_phenotype</th>\n",
       "    </tr>\n",
       "  </thead>\n",
       "  <tbody>\n",
       "    <tr>\n",
       "      <th>0</th>\n",
       "      <td></td>\n",
       "      <td>0.198</td>\n",
       "      <td>0.007</td>\n",
       "      <td>0.000</td>\n",
       "      <td>0.000</td>\n",
       "      <td>-0.032</td>\n",
       "      <td>global epistasis with 2 latent phenotypes</td>\n",
       "      <td>NaN</td>\n",
       "    </tr>\n",
       "    <tr>\n",
       "      <th>1</th>\n",
       "      <td>M32K L34R</td>\n",
       "      <td>-1.919</td>\n",
       "      <td>0.011</td>\n",
       "      <td>-0.609</td>\n",
       "      <td>-0.302</td>\n",
       "      <td>-1.903</td>\n",
       "      <td>global epistasis with 2 latent phenotypes</td>\n",
       "      <td>NaN</td>\n",
       "    </tr>\n",
       "    <tr>\n",
       "      <th>2</th>\n",
       "      <td>S11A R12K R60S</td>\n",
       "      <td>-11.482</td>\n",
       "      <td>4.168</td>\n",
       "      <td>-2.559</td>\n",
       "      <td>3.550</td>\n",
       "      <td>-3.533</td>\n",
       "      <td>global epistasis with 2 latent phenotypes</td>\n",
       "      <td>NaN</td>\n",
       "    </tr>\n",
       "    <tr>\n",
       "      <th>3</th>\n",
       "      <td>R12Y V13N</td>\n",
       "      <td>-11.422</td>\n",
       "      <td>4.169</td>\n",
       "      <td>-6.005</td>\n",
       "      <td>-3.337</td>\n",
       "      <td>-9.297</td>\n",
       "      <td>global epistasis with 2 latent phenotypes</td>\n",
       "      <td>NaN</td>\n",
       "    </tr>\n",
       "    <tr>\n",
       "      <th>4</th>\n",
       "      <td>L5A S54R</td>\n",
       "      <td>-0.125</td>\n",
       "      <td>0.008</td>\n",
       "      <td>-0.193</td>\n",
       "      <td>-0.315</td>\n",
       "      <td>-0.284</td>\n",
       "      <td>global epistasis with 2 latent phenotypes</td>\n",
       "      <td>NaN</td>\n",
       "    </tr>\n",
       "    <tr>\n",
       "      <th>...</th>\n",
       "      <td>...</td>\n",
       "      <td>...</td>\n",
       "      <td>...</td>\n",
       "      <td>...</td>\n",
       "      <td>...</td>\n",
       "      <td>...</td>\n",
       "      <td>...</td>\n",
       "      <td>...</td>\n",
       "    </tr>\n",
       "    <tr>\n",
       "      <th>89995</th>\n",
       "      <td></td>\n",
       "      <td>-6.216</td>\n",
       "      <td>4.382</td>\n",
       "      <td>NaN</td>\n",
       "      <td>NaN</td>\n",
       "      <td>-0.890</td>\n",
       "      <td>no epistasis</td>\n",
       "      <td>-0.890</td>\n",
       "    </tr>\n",
       "    <tr>\n",
       "      <th>89996</th>\n",
       "      <td>L23Q</td>\n",
       "      <td>-4.471</td>\n",
       "      <td>1.632</td>\n",
       "      <td>NaN</td>\n",
       "      <td>NaN</td>\n",
       "      <td>-4.972</td>\n",
       "      <td>no epistasis</td>\n",
       "      <td>-4.972</td>\n",
       "    </tr>\n",
       "    <tr>\n",
       "      <th>89997</th>\n",
       "      <td>V3K</td>\n",
       "      <td>-2.886</td>\n",
       "      <td>0.707</td>\n",
       "      <td>NaN</td>\n",
       "      <td>NaN</td>\n",
       "      <td>-4.031</td>\n",
       "      <td>no epistasis</td>\n",
       "      <td>-4.031</td>\n",
       "    </tr>\n",
       "    <tr>\n",
       "      <th>89998</th>\n",
       "      <td>R6Q D22V Y59G</td>\n",
       "      <td>-3.249</td>\n",
       "      <td>0.840</td>\n",
       "      <td>NaN</td>\n",
       "      <td>NaN</td>\n",
       "      <td>-3.198</td>\n",
       "      <td>no epistasis</td>\n",
       "      <td>-3.198</td>\n",
       "    </tr>\n",
       "    <tr>\n",
       "      <th>89999</th>\n",
       "      <td>K14F N20K</td>\n",
       "      <td>1.201</td>\n",
       "      <td>0.514</td>\n",
       "      <td>NaN</td>\n",
       "      <td>NaN</td>\n",
       "      <td>-1.173</td>\n",
       "      <td>no epistasis</td>\n",
       "      <td>-1.173</td>\n",
       "    </tr>\n",
       "  </tbody>\n",
       "</table>\n",
       "<p>90000 rows × 8 columns</p>\n",
       "</div>"
      ],
      "text/plain": [
       "      aa_substitutions  func_score  func_score_var  latent_phenotype_1  latent_phenotype_2  observed_phenotype                                      model  latent_phenotype\n",
       "0                            0.198           0.007               0.000               0.000              -0.032  global epistasis with 2 latent phenotypes               NaN\n",
       "1            M32K L34R      -1.919           0.011              -0.609              -0.302              -1.903  global epistasis with 2 latent phenotypes               NaN\n",
       "2       S11A R12K R60S     -11.482           4.168              -2.559               3.550              -3.533  global epistasis with 2 latent phenotypes               NaN\n",
       "3            R12Y V13N     -11.422           4.169              -6.005              -3.337              -9.297  global epistasis with 2 latent phenotypes               NaN\n",
       "4             L5A S54R      -0.125           0.008              -0.193              -0.315              -0.284  global epistasis with 2 latent phenotypes               NaN\n",
       "...                ...         ...             ...                 ...                 ...                 ...                                        ...               ...\n",
       "89995                       -6.216           4.382                 NaN                 NaN              -0.890                               no epistasis            -0.890\n",
       "89996             L23Q      -4.471           1.632                 NaN                 NaN              -4.972                               no epistasis            -4.972\n",
       "89997              V3K      -2.886           0.707                 NaN                 NaN              -4.031                               no epistasis            -4.031\n",
       "89998    R6Q D22V Y59G      -3.249           0.840                 NaN                 NaN              -3.198                               no epistasis            -3.198\n",
       "89999        K14F N20K       1.201           0.514                 NaN                 NaN              -1.173                               no epistasis            -1.173\n",
       "\n",
       "[90000 rows x 8 columns]"
      ]
     },
     "execution_count": 25,
     "metadata": {},
     "output_type": "execute_result"
    }
   ],
   "source": [
    "# NBVAL_IGNORE_OUTPUT\n",
    "\n",
    "phenotypes_df = pd.concat(\n",
    "    [\n",
    "        tup.model.phenotypes_df.assign(model=tup.description)\n",
    "        for tup in fits_df.itertuples()\n",
    "    ],\n",
    "    sort=False,\n",
    "    ignore_index=True,\n",
    ")\n",
    "\n",
    "phenotypes_df.round(3)"
   ]
  },
  {
   "cell_type": "markdown",
   "metadata": {},
   "source": [
    "Now plot the experimentally measured functional scores versus the observed phenotype predicted by the model:"
   ]
  },
  {
   "cell_type": "code",
   "execution_count": 26,
   "metadata": {},
   "outputs": [
    {
     "data": {
      "image/png": "[encoded data removed]",
      "text/plain": [
       "<Figure size 1200x400 with 3 Axes>"
      ]
     },
     "metadata": {
      "needs_background": "light"
     },
     "output_type": "display_data"
    }
   ],
   "source": [
    "p = (\n",
    "    ggplot(phenotypes_df, aes(\"observed_phenotype\", \"func_score\"))\n",
    "    + geom_bin2d()\n",
    "    + facet_wrap(\"~ model\", nrow=1, scales=\"free_x\")\n",
    "    + theme(figure_size=(4 * phenotypes_df[\"model\"].nunique(), 4))\n",
    "    + xlab(\"observed phenotype predicted by model\")\n",
    "    + ylab(\"measured functional score\")\n",
    ")\n",
    "_ = p.draw(show=True)"
   ]
  },
  {
   "cell_type": "markdown",
   "metadata": {},
   "source": [
    "### Distribution of latent effects\n",
    "For the model with two latent phenotypes, look at the distribution of the latent effects for the two latent phenotypes, and the correlation among them.\n",
    "First, get these latent effects:"
   ]
  },
  {
   "cell_type": "code",
   "execution_count": 28,
   "metadata": {},
   "outputs": [
    {
     "data": {
      "text/html": [
       "<div>\n",
       "<style scoped>\n",
       "    .dataframe tbody tr th:only-of-type {\n",
       "        vertical-align: middle;\n",
       "    }\n",
       "\n",
       "    .dataframe tbody tr th {\n",
       "        vertical-align: top;\n",
       "    }\n",
       "\n",
       "    .dataframe thead th {\n",
       "        text-align: right;\n",
       "    }\n",
       "</style>\n",
       "<table border=\"1\" class=\"dataframe\">\n",
       "  <thead>\n",
       "    <tr style=\"text-align: right;\">\n",
       "      <th></th>\n",
       "      <th>mutation</th>\n",
       "      <th>latent_effect</th>\n",
       "      <th>latent_phenotype_number</th>\n",
       "      <th>latent_phenotype_name</th>\n",
       "    </tr>\n",
       "  </thead>\n",
       "  <tbody>\n",
       "    <tr>\n",
       "      <th>0</th>\n",
       "      <td>R1*</td>\n",
       "      <td>-1.334</td>\n",
       "      <td>1</td>\n",
       "      <td>latent phenotype 1</td>\n",
       "    </tr>\n",
       "    <tr>\n",
       "      <th>1</th>\n",
       "      <td>R1A</td>\n",
       "      <td>-0.003</td>\n",
       "      <td>1</td>\n",
       "      <td>latent phenotype 1</td>\n",
       "    </tr>\n",
       "    <tr>\n",
       "      <th>2</th>\n",
       "      <td>R1C</td>\n",
       "      <td>-0.332</td>\n",
       "      <td>1</td>\n",
       "      <td>latent phenotype 1</td>\n",
       "    </tr>\n",
       "    <tr>\n",
       "      <th>3</th>\n",
       "      <td>R1D</td>\n",
       "      <td>-1.031</td>\n",
       "      <td>1</td>\n",
       "      <td>latent phenotype 1</td>\n",
       "    </tr>\n",
       "    <tr>\n",
       "      <th>4</th>\n",
       "      <td>R1E</td>\n",
       "      <td>-0.976</td>\n",
       "      <td>1</td>\n",
       "      <td>latent phenotype 1</td>\n",
       "    </tr>\n",
       "    <tr>\n",
       "      <th>...</th>\n",
       "      <td>...</td>\n",
       "      <td>...</td>\n",
       "      <td>...</td>\n",
       "      <td>...</td>\n",
       "    </tr>\n",
       "    <tr>\n",
       "      <th>2395</th>\n",
       "      <td>R60S</td>\n",
       "      <td>1.606</td>\n",
       "      <td>2</td>\n",
       "      <td>latent phenotype 2</td>\n",
       "    </tr>\n",
       "    <tr>\n",
       "      <th>2396</th>\n",
       "      <td>R60T</td>\n",
       "      <td>-0.379</td>\n",
       "      <td>2</td>\n",
       "      <td>latent phenotype 2</td>\n",
       "    </tr>\n",
       "    <tr>\n",
       "      <th>2397</th>\n",
       "      <td>R60V</td>\n",
       "      <td>-0.904</td>\n",
       "      <td>2</td>\n",
       "      <td>latent phenotype 2</td>\n",
       "    </tr>\n",
       "    <tr>\n",
       "      <th>2398</th>\n",
       "      <td>R60W</td>\n",
       "      <td>-2.811</td>\n",
       "      <td>2</td>\n",
       "      <td>latent phenotype 2</td>\n",
       "    </tr>\n",
       "    <tr>\n",
       "      <th>2399</th>\n",
       "      <td>R60Y</td>\n",
       "      <td>0.040</td>\n",
       "      <td>2</td>\n",
       "      <td>latent phenotype 2</td>\n",
       "    </tr>\n",
       "  </tbody>\n",
       "</table>\n",
       "<p>2400 rows × 4 columns</p>\n",
       "</div>"
      ],
      "text/plain": [
       "     mutation  latent_effect  latent_phenotype_number latent_phenotype_name\n",
       "0         R1*         -1.334                        1    latent phenotype 1\n",
       "1         R1A         -0.003                        1    latent phenotype 1\n",
       "2         R1C         -0.332                        1    latent phenotype 1\n",
       "3         R1D         -1.031                        1    latent phenotype 1\n",
       "4         R1E         -0.976                        1    latent phenotype 1\n",
       "...       ...            ...                      ...                   ...\n",
       "2395     R60S          1.606                        2    latent phenotype 2\n",
       "2396     R60T         -0.379                        2    latent phenotype 2\n",
       "2397     R60V         -0.904                        2    latent phenotype 2\n",
       "2398     R60W         -2.811                        2    latent phenotype 2\n",
       "2399     R60Y          0.040                        2    latent phenotype 2\n",
       "\n",
       "[2400 rows x 4 columns]"
      ]
     },
     "execution_count": 28,
     "metadata": {},
     "output_type": "execute_result"
    }
   ],
   "source": [
    "# NBVAL_IGNORE_OUTPUT\n",
    "\n",
    "# 2-latent phenotype model should be the first one if `fits_df`\n",
    "# is sorted by descending log likelihood\n",
    "model_2latent = fits_df.sort_values(\"log_likelihood\", ascending=False)[\"model\"].values[\n",
    "    0\n",
    "]\n",
    "assert model_2latent.n_latent_phenotypes == 2\n",
    "\n",
    "latenteffects2 = model_2latent.latent_effects_df.assign(\n",
    "    latent_phenotype_name=lambda x: (\n",
    "        \"latent phenotype \" + x[\"latent_phenotype_number\"].astype(str)\n",
    "    )\n",
    ")\n",
    "latenteffects2.round(3)"
   ]
  },
  {
   "cell_type": "markdown",
   "metadata": {},
   "source": [
    "Distribution of latent effects for the two phenotypes:"
   ]
  },
  {
   "cell_type": "code",
   "execution_count": 29,
   "metadata": {},
   "outputs": [
    {
     "data": {
      "image/png": "[encoded data removed]",
      "text/plain": [
       "<Figure size 500x250 with 2 Axes>"
      ]
     },
     "metadata": {
      "needs_background": "light"
     },
     "output_type": "display_data"
    }
   ],
   "source": [
    "p = (\n",
    "    ggplot(latenteffects2, aes(\"latent_effect\"))\n",
    "    + geom_histogram()\n",
    "    + facet_wrap(\"~ latent_phenotype_name\", nrow=1)\n",
    "    + theme(figure_size=(2.5 * model_2latent.n_latent_phenotypes, 2.5))\n",
    "    + xlab(\"latent effect of mutation\")\n",
    "    + ylab(\"number of mutations\")\n",
    ")\n",
    "_ = p.draw(show=True)"
   ]
  },
  {
   "cell_type": "markdown",
   "metadata": {},
   "source": [
    "Correlation between latent effects of all single mutations for the two phenotypes:"
   ]
  },
  {
   "cell_type": "code",
   "execution_count": 30,
   "metadata": {},
   "outputs": [
    {
     "data": {
      "image/png": "[encoded data removed]",
      "text/plain": [
       "<Figure size 300x300 with 1 Axes>"
      ]
     },
     "metadata": {
      "needs_background": "light"
     },
     "output_type": "display_data"
    }
   ],
   "source": [
    "p = (\n",
    "    ggplot(\n",
    "        latenteffects2.pivot_table(\n",
    "            index=\"mutation\", values=\"latent_effect\", columns=\"latent_phenotype_name\"\n",
    "        ),\n",
    "        aes(\"latent phenotype 1\", \"latent phenotype 2\"),\n",
    "    )\n",
    "    + geom_bin2d()\n",
    "    + theme(figure_size=(3, 3))\n",
    ")\n",
    "_ = p.draw(show=True)"
   ]
  },
  {
   "cell_type": "markdown",
   "metadata": {},
   "source": [
    "### Predicted versus true latent effects\n",
    "Now let's see how the model-predicted latent effects correlate with the true latent effects in the simulation for the two-latent phenotype model.\n",
    "\n",
    "First, get a data frame with the **true** (from simulation) latent effects of each mutation on each latent phenotype number:"
   ]
  },
  {
   "cell_type": "code",
   "execution_count": 31,
   "metadata": {},
   "outputs": [
    {
     "data": {
      "text/html": [
       "<div>\n",
       "<style scoped>\n",
       "    .dataframe tbody tr th:only-of-type {\n",
       "        vertical-align: middle;\n",
       "    }\n",
       "\n",
       "    .dataframe tbody tr th {\n",
       "        vertical-align: top;\n",
       "    }\n",
       "\n",
       "    .dataframe thead th {\n",
       "        text-align: right;\n",
       "    }\n",
       "</style>\n",
       "<table border=\"1\" class=\"dataframe\">\n",
       "  <thead>\n",
       "    <tr style=\"text-align: right;\">\n",
       "      <th></th>\n",
       "      <th>mutation</th>\n",
       "      <th>actual_effect</th>\n",
       "      <th>actual_number</th>\n",
       "    </tr>\n",
       "  </thead>\n",
       "  <tbody>\n",
       "    <tr>\n",
       "      <th>0</th>\n",
       "      <td>R1*</td>\n",
       "      <td>-8.152</td>\n",
       "      <td>actual 1</td>\n",
       "    </tr>\n",
       "    <tr>\n",
       "      <th>1</th>\n",
       "      <td>R1A</td>\n",
       "      <td>-0.001</td>\n",
       "      <td>actual 1</td>\n",
       "    </tr>\n",
       "    <tr>\n",
       "      <th>2</th>\n",
       "      <td>R1C</td>\n",
       "      <td>-0.421</td>\n",
       "      <td>actual 1</td>\n",
       "    </tr>\n",
       "    <tr>\n",
       "      <th>3</th>\n",
       "      <td>R1D</td>\n",
       "      <td>-6.496</td>\n",
       "      <td>actual 1</td>\n",
       "    </tr>\n",
       "    <tr>\n",
       "      <th>4</th>\n",
       "      <td>R1E</td>\n",
       "      <td>-1.359</td>\n",
       "      <td>actual 1</td>\n",
       "    </tr>\n",
       "    <tr>\n",
       "      <th>...</th>\n",
       "      <td>...</td>\n",
       "      <td>...</td>\n",
       "      <td>...</td>\n",
       "    </tr>\n",
       "    <tr>\n",
       "      <th>2395</th>\n",
       "      <td>R60S</td>\n",
       "      <td>-0.010</td>\n",
       "      <td>actual 2</td>\n",
       "    </tr>\n",
       "    <tr>\n",
       "      <th>2396</th>\n",
       "      <td>R60T</td>\n",
       "      <td>-0.004</td>\n",
       "      <td>actual 2</td>\n",
       "    </tr>\n",
       "    <tr>\n",
       "      <th>2397</th>\n",
       "      <td>R60V</td>\n",
       "      <td>-0.009</td>\n",
       "      <td>actual 2</td>\n",
       "    </tr>\n",
       "    <tr>\n",
       "      <th>2398</th>\n",
       "      <td>R60W</td>\n",
       "      <td>-0.001</td>\n",
       "      <td>actual 2</td>\n",
       "    </tr>\n",
       "    <tr>\n",
       "      <th>2399</th>\n",
       "      <td>R60Y</td>\n",
       "      <td>0.002</td>\n",
       "      <td>actual 2</td>\n",
       "    </tr>\n",
       "  </tbody>\n",
       "</table>\n",
       "<p>2400 rows × 3 columns</p>\n",
       "</div>"
      ],
      "text/plain": [
       "     mutation  actual_effect actual_number\n",
       "0         R1*         -8.152      actual 1\n",
       "1         R1A         -0.001      actual 1\n",
       "2         R1C         -0.421      actual 1\n",
       "3         R1D         -6.496      actual 1\n",
       "4         R1E         -1.359      actual 1\n",
       "...       ...            ...           ...\n",
       "2395     R60S         -0.010      actual 2\n",
       "2396     R60T         -0.004      actual 2\n",
       "2397     R60V         -0.009      actual 2\n",
       "2398     R60W         -0.001      actual 2\n",
       "2399     R60Y          0.002      actual 2\n",
       "\n",
       "[2400 rows x 3 columns]"
      ]
     },
     "execution_count": 31,
     "metadata": {},
     "output_type": "execute_result"
    }
   ],
   "source": [
    "# NBVAL_IGNORE_OUTPUT\n",
    "\n",
    "actual_latenteffects2 = pd.concat(\n",
    "    [\n",
    "        latenteffects2[[\"mutation\"]]\n",
    "        .drop_duplicates()\n",
    "        .assign(\n",
    "            actual_effect=lambda x: (\n",
    "                x[\"mutation\"].map(\n",
    "                    lambda m: phenosimulator.latentPhenotype(m, k)\n",
    "                    - phenosimulator.latentPhenotype(\"\", k)\n",
    "                )\n",
    "            ),\n",
    "            actual_number=f\"actual {k}\",\n",
    "        )\n",
    "        for k in range(1, phenosimulator.n_latent_phenotypes + 1)\n",
    "    ],\n",
    "    sort=False,\n",
    "    ignore_index=True,\n",
    ")\n",
    "\n",
    "actual_latenteffects2.round(3)"
   ]
  },
  {
   "cell_type": "markdown",
   "metadata": {},
   "source": [
    "Get a comparable data frame for the model-predicted latent effects:"
   ]
  },
  {
   "cell_type": "code",
   "execution_count": 32,
   "metadata": {},
   "outputs": [
    {
     "data": {
      "text/html": [
       "<div>\n",
       "<style scoped>\n",
       "    .dataframe tbody tr th:only-of-type {\n",
       "        vertical-align: middle;\n",
       "    }\n",
       "\n",
       "    .dataframe tbody tr th {\n",
       "        vertical-align: top;\n",
       "    }\n",
       "\n",
       "    .dataframe thead th {\n",
       "        text-align: right;\n",
       "    }\n",
       "</style>\n",
       "<table border=\"1\" class=\"dataframe\">\n",
       "  <thead>\n",
       "    <tr style=\"text-align: right;\">\n",
       "      <th></th>\n",
       "      <th>mutation</th>\n",
       "      <th>predicted_effect</th>\n",
       "      <th>predicted_number</th>\n",
       "    </tr>\n",
       "  </thead>\n",
       "  <tbody>\n",
       "    <tr>\n",
       "      <th>0</th>\n",
       "      <td>R1*</td>\n",
       "      <td>-1.334</td>\n",
       "      <td>predicted 1</td>\n",
       "    </tr>\n",
       "    <tr>\n",
       "      <th>1</th>\n",
       "      <td>R1A</td>\n",
       "      <td>-0.003</td>\n",
       "      <td>predicted 1</td>\n",
       "    </tr>\n",
       "    <tr>\n",
       "      <th>2</th>\n",
       "      <td>R1C</td>\n",
       "      <td>-0.332</td>\n",
       "      <td>predicted 1</td>\n",
       "    </tr>\n",
       "    <tr>\n",
       "      <th>3</th>\n",
       "      <td>R1D</td>\n",
       "      <td>-1.031</td>\n",
       "      <td>predicted 1</td>\n",
       "    </tr>\n",
       "    <tr>\n",
       "      <th>4</th>\n",
       "      <td>R1E</td>\n",
       "      <td>-0.976</td>\n",
       "      <td>predicted 1</td>\n",
       "    </tr>\n",
       "    <tr>\n",
       "      <th>...</th>\n",
       "      <td>...</td>\n",
       "      <td>...</td>\n",
       "      <td>...</td>\n",
       "    </tr>\n",
       "    <tr>\n",
       "      <th>2395</th>\n",
       "      <td>R60S</td>\n",
       "      <td>1.606</td>\n",
       "      <td>predicted 2</td>\n",
       "    </tr>\n",
       "    <tr>\n",
       "      <th>2396</th>\n",
       "      <td>R60T</td>\n",
       "      <td>-0.379</td>\n",
       "      <td>predicted 2</td>\n",
       "    </tr>\n",
       "    <tr>\n",
       "      <th>2397</th>\n",
       "      <td>R60V</td>\n",
       "      <td>-0.904</td>\n",
       "      <td>predicted 2</td>\n",
       "    </tr>\n",
       "    <tr>\n",
       "      <th>2398</th>\n",
       "      <td>R60W</td>\n",
       "      <td>-2.811</td>\n",
       "      <td>predicted 2</td>\n",
       "    </tr>\n",
       "    <tr>\n",
       "      <th>2399</th>\n",
       "      <td>R60Y</td>\n",
       "      <td>0.040</td>\n",
       "      <td>predicted 2</td>\n",
       "    </tr>\n",
       "  </tbody>\n",
       "</table>\n",
       "<p>2400 rows × 3 columns</p>\n",
       "</div>"
      ],
      "text/plain": [
       "     mutation  predicted_effect predicted_number\n",
       "0         R1*            -1.334      predicted 1\n",
       "1         R1A            -0.003      predicted 1\n",
       "2         R1C            -0.332      predicted 1\n",
       "3         R1D            -1.031      predicted 1\n",
       "4         R1E            -0.976      predicted 1\n",
       "...       ...               ...              ...\n",
       "2395     R60S             1.606      predicted 2\n",
       "2396     R60T            -0.379      predicted 2\n",
       "2397     R60V            -0.904      predicted 2\n",
       "2398     R60W            -2.811      predicted 2\n",
       "2399     R60Y             0.040      predicted 2\n",
       "\n",
       "[2400 rows x 3 columns]"
      ]
     },
     "execution_count": 32,
     "metadata": {},
     "output_type": "execute_result"
    }
   ],
   "source": [
    "# NBVAL_IGNORE_OUTPUT\n",
    "\n",
    "predicted_latenteffects2 = latenteffects2.rename(\n",
    "    columns={\"latent_effect\": \"predicted_effect\"}\n",
    ").assign(\n",
    "    predicted_number=lambda x: \"predicted \" + x[\"latent_phenotype_number\"].astype(str)\n",
    ")[\n",
    "    [\"mutation\", \"predicted_effect\", \"predicted_number\"]\n",
    "]\n",
    "\n",
    "predicted_latenteffects2.round(3)"
   ]
  },
  {
   "cell_type": "markdown",
   "metadata": {},
   "source": [
    "Now get a data frame with all combinations of predictions and actual latent effects:"
   ]
  },
  {
   "cell_type": "code",
   "execution_count": 33,
   "metadata": {},
   "outputs": [
    {
     "data": {
      "text/html": [
       "<div>\n",
       "<style scoped>\n",
       "    .dataframe tbody tr th:only-of-type {\n",
       "        vertical-align: middle;\n",
       "    }\n",
       "\n",
       "    .dataframe tbody tr th {\n",
       "        vertical-align: top;\n",
       "    }\n",
       "\n",
       "    .dataframe thead th {\n",
       "        text-align: right;\n",
       "    }\n",
       "</style>\n",
       "<table border=\"1\" class=\"dataframe\">\n",
       "  <thead>\n",
       "    <tr style=\"text-align: right;\">\n",
       "      <th></th>\n",
       "      <th>mutation</th>\n",
       "      <th>actual_effect</th>\n",
       "      <th>actual_number</th>\n",
       "      <th>predicted_effect</th>\n",
       "      <th>predicted_number</th>\n",
       "    </tr>\n",
       "  </thead>\n",
       "  <tbody>\n",
       "    <tr>\n",
       "      <th>0</th>\n",
       "      <td>R1*</td>\n",
       "      <td>-8.152</td>\n",
       "      <td>actual 1</td>\n",
       "      <td>-1.334</td>\n",
       "      <td>predicted 1</td>\n",
       "    </tr>\n",
       "    <tr>\n",
       "      <th>1</th>\n",
       "      <td>R1*</td>\n",
       "      <td>-8.152</td>\n",
       "      <td>actual 1</td>\n",
       "      <td>0.066</td>\n",
       "      <td>predicted 2</td>\n",
       "    </tr>\n",
       "    <tr>\n",
       "      <th>2</th>\n",
       "      <td>R1*</td>\n",
       "      <td>0.000</td>\n",
       "      <td>actual 2</td>\n",
       "      <td>-1.334</td>\n",
       "      <td>predicted 1</td>\n",
       "    </tr>\n",
       "    <tr>\n",
       "      <th>3</th>\n",
       "      <td>R1*</td>\n",
       "      <td>0.000</td>\n",
       "      <td>actual 2</td>\n",
       "      <td>0.066</td>\n",
       "      <td>predicted 2</td>\n",
       "    </tr>\n",
       "    <tr>\n",
       "      <th>4</th>\n",
       "      <td>R1A</td>\n",
       "      <td>-0.001</td>\n",
       "      <td>actual 1</td>\n",
       "      <td>-0.003</td>\n",
       "      <td>predicted 1</td>\n",
       "    </tr>\n",
       "    <tr>\n",
       "      <th>...</th>\n",
       "      <td>...</td>\n",
       "      <td>...</td>\n",
       "      <td>...</td>\n",
       "      <td>...</td>\n",
       "      <td>...</td>\n",
       "    </tr>\n",
       "    <tr>\n",
       "      <th>4795</th>\n",
       "      <td>R60W</td>\n",
       "      <td>-0.001</td>\n",
       "      <td>actual 2</td>\n",
       "      <td>-2.811</td>\n",
       "      <td>predicted 2</td>\n",
       "    </tr>\n",
       "    <tr>\n",
       "      <th>4796</th>\n",
       "      <td>R60Y</td>\n",
       "      <td>-0.033</td>\n",
       "      <td>actual 1</td>\n",
       "      <td>-0.109</td>\n",
       "      <td>predicted 1</td>\n",
       "    </tr>\n",
       "    <tr>\n",
       "      <th>4797</th>\n",
       "      <td>R60Y</td>\n",
       "      <td>-0.033</td>\n",
       "      <td>actual 1</td>\n",
       "      <td>0.040</td>\n",
       "      <td>predicted 2</td>\n",
       "    </tr>\n",
       "    <tr>\n",
       "      <th>4798</th>\n",
       "      <td>R60Y</td>\n",
       "      <td>0.002</td>\n",
       "      <td>actual 2</td>\n",
       "      <td>-0.109</td>\n",
       "      <td>predicted 1</td>\n",
       "    </tr>\n",
       "    <tr>\n",
       "      <th>4799</th>\n",
       "      <td>R60Y</td>\n",
       "      <td>0.002</td>\n",
       "      <td>actual 2</td>\n",
       "      <td>0.040</td>\n",
       "      <td>predicted 2</td>\n",
       "    </tr>\n",
       "  </tbody>\n",
       "</table>\n",
       "<p>4800 rows × 5 columns</p>\n",
       "</div>"
      ],
      "text/plain": [
       "     mutation  actual_effect actual_number  predicted_effect predicted_number\n",
       "0         R1*         -8.152      actual 1            -1.334      predicted 1\n",
       "1         R1*         -8.152      actual 1             0.066      predicted 2\n",
       "2         R1*          0.000      actual 2            -1.334      predicted 1\n",
       "3         R1*          0.000      actual 2             0.066      predicted 2\n",
       "4         R1A         -0.001      actual 1            -0.003      predicted 1\n",
       "...       ...            ...           ...               ...              ...\n",
       "4795     R60W         -0.001      actual 2            -2.811      predicted 2\n",
       "4796     R60Y         -0.033      actual 1            -0.109      predicted 1\n",
       "4797     R60Y         -0.033      actual 1             0.040      predicted 2\n",
       "4798     R60Y          0.002      actual 2            -0.109      predicted 1\n",
       "4799     R60Y          0.002      actual 2             0.040      predicted 2\n",
       "\n",
       "[4800 rows x 5 columns]"
      ]
     },
     "execution_count": 33,
     "metadata": {},
     "output_type": "execute_result"
    }
   ],
   "source": [
    "# NBVAL_IGNORE_OUTPUT\n",
    "\n",
    "actual_vs_predicted_latenteffects2 = pd.merge(\n",
    "    actual_latenteffects2, predicted_latenteffects2, on=\"mutation\"\n",
    ")\n",
    "\n",
    "actual_vs_predicted_latenteffects2.round(3)"
   ]
  },
  {
   "cell_type": "markdown",
   "metadata": {},
   "source": [
    "Plot the correlations between the actual and predicted values:"
   ]
  },
  {
   "cell_type": "code",
   "execution_count": 34,
   "metadata": {},
   "outputs": [
    {
     "data": {
      "image/png": "[encoded data removed]",
      "text/plain": [
       "<Figure size 640x480 with 4 Axes>"
      ]
     },
     "metadata": {
      "needs_background": "light"
     },
     "output_type": "display_data"
    }
   ],
   "source": [
    "p = (\n",
    "    ggplot(actual_vs_predicted_latenteffects2, aes(\"actual_effect\", \"predicted_effect\"))\n",
    "    + geom_bin2d()\n",
    "    + facet_grid(\"actual_number ~ predicted_number\", scales=\"free\")\n",
    ")\n",
    "_ = p.draw(show=True)"
   ]
  },
  {
   "cell_type": "markdown",
   "metadata": {},
   "source": [
    "## Model predictions on new variants\n",
    "Generate some quadruple codon mutants (almost all of which will correspond to sequences never seen by the model) and predict the experimental enrichments from their observed phenotypes with each model (recall that the observed phenotype is proportional to the log enrichment).\n",
    "Compare these to the true values from the phenotype simulator.\n",
    "\n",
    "First, simulate some variants:"
   ]
  },
  {
   "cell_type": "code",
   "execution_count": 35,
   "metadata": {},
   "outputs": [
    {
     "data": {
      "text/html": [
       "<div>\n",
       "<style scoped>\n",
       "    .dataframe tbody tr th:only-of-type {\n",
       "        vertical-align: middle;\n",
       "    }\n",
       "\n",
       "    .dataframe tbody tr th {\n",
       "        vertical-align: top;\n",
       "    }\n",
       "\n",
       "    .dataframe thead th {\n",
       "        text-align: right;\n",
       "    }\n",
       "</style>\n",
       "<table border=\"1\" class=\"dataframe\">\n",
       "  <thead>\n",
       "    <tr style=\"text-align: right;\">\n",
       "      <th></th>\n",
       "      <th>codon_substitutions</th>\n",
       "      <th>aa_substitutions</th>\n",
       "      <th>true_enrichment</th>\n",
       "    </tr>\n",
       "  </thead>\n",
       "  <tbody>\n",
       "    <tr>\n",
       "      <th>0</th>\n",
       "      <td>ACC9TAC TCC37ACA GAT52CAA CTG55ACT</td>\n",
       "      <td>T9Y S37T D52Q L55T</td>\n",
       "      <td>0.000005</td>\n",
       "    </tr>\n",
       "    <tr>\n",
       "      <th>1</th>\n",
       "      <td>CGG29GGG ATG31CGC ATG32TAT TCA49ATC</td>\n",
       "      <td>R29G M31R M32Y S49I</td>\n",
       "      <td>0.000002</td>\n",
       "    </tr>\n",
       "    <tr>\n",
       "      <th>2</th>\n",
       "      <td>TCC2TCG GCT7CGA ATG32CTA ATG58GCT</td>\n",
       "      <td>A7R M32L M58A</td>\n",
       "      <td>0.000001</td>\n",
       "    </tr>\n",
       "    <tr>\n",
       "      <th>3</th>\n",
       "      <td>AGA1CTC GTA45CAC TCA49GTG GGA50TCA</td>\n",
       "      <td>R1L V45H S49V G50S</td>\n",
       "      <td>0.005773</td>\n",
       "    </tr>\n",
       "    <tr>\n",
       "      <th>4</th>\n",
       "      <td>GCT7CCA CGT15AAC GAC38AAC ATG58AAC</td>\n",
       "      <td>A7P R15N D38N M58N</td>\n",
       "      <td>0.000001</td>\n",
       "    </tr>\n",
       "    <tr>\n",
       "      <th>...</th>\n",
       "      <td>...</td>\n",
       "      <td>...</td>\n",
       "      <td>...</td>\n",
       "    </tr>\n",
       "    <tr>\n",
       "      <th>49995</th>\n",
       "      <td>GTA16ATG CCT24AGA GTA45CAC CTG55TCC</td>\n",
       "      <td>V16M P24R V45H L55S</td>\n",
       "      <td>0.000660</td>\n",
       "    </tr>\n",
       "    <tr>\n",
       "      <th>49996</th>\n",
       "      <td>GTG3TTT CTG5CGC TCA11GGA TCG42TAC</td>\n",
       "      <td>V3F L5R S11G S42Y</td>\n",
       "      <td>0.005104</td>\n",
       "    </tr>\n",
       "    <tr>\n",
       "      <th>49997</th>\n",
       "      <td>ATC17TAC CTA34TCG TTT41TGT CCA44CTG</td>\n",
       "      <td>I17Y L34S F41C P44L</td>\n",
       "      <td>0.001696</td>\n",
       "    </tr>\n",
       "    <tr>\n",
       "      <th>49998</th>\n",
       "      <td>CGG29CGT CCA44TAA CTG55GAC TAC59GCG</td>\n",
       "      <td>P44* L55D Y59A</td>\n",
       "      <td>0.000999</td>\n",
       "    </tr>\n",
       "    <tr>\n",
       "      <th>49999</th>\n",
       "      <td>GTG3CGA TCA11CTT AAA14CCA AAC27AGG</td>\n",
       "      <td>V3R S11L K14P N27R</td>\n",
       "      <td>0.001014</td>\n",
       "    </tr>\n",
       "  </tbody>\n",
       "</table>\n",
       "<p>50000 rows × 3 columns</p>\n",
       "</div>"
      ],
      "text/plain": [
       "                       codon_substitutions     aa_substitutions  true_enrichment\n",
       "0       ACC9TAC TCC37ACA GAT52CAA CTG55ACT   T9Y S37T D52Q L55T         0.000005\n",
       "1      CGG29GGG ATG31CGC ATG32TAT TCA49ATC  R29G M31R M32Y S49I         0.000002\n",
       "2        TCC2TCG GCT7CGA ATG32CTA ATG58GCT        A7R M32L M58A         0.000001\n",
       "3       AGA1CTC GTA45CAC TCA49GTG GGA50TCA   R1L V45H S49V G50S         0.005773\n",
       "4       GCT7CCA CGT15AAC GAC38AAC ATG58AAC   A7P R15N D38N M58N         0.000001\n",
       "...                                    ...                  ...              ...\n",
       "49995  GTA16ATG CCT24AGA GTA45CAC CTG55TCC  V16M P24R V45H L55S         0.000660\n",
       "49996    GTG3TTT CTG5CGC TCA11GGA TCG42TAC    V3F L5R S11G S42Y         0.005104\n",
       "49997  ATC17TAC CTA34TCG TTT41TGT CCA44CTG  I17Y L34S F41C P44L         0.001696\n",
       "49998  CGG29CGT CCA44TAA CTG55GAC TAC59GCG       P44* L55D Y59A         0.000999\n",
       "49999   GTG3CGA TCA11CTT AAA14CCA AAC27AGG   V3R S11L K14P N27R         0.001014\n",
       "\n",
       "[50000 rows x 3 columns]"
      ]
     },
     "execution_count": 35,
     "metadata": {},
     "output_type": "execute_result"
    }
   ],
   "source": [
    "# NBVAL_IGNORE_OUTPUT\n",
    "\n",
    "random.seed(1)\n",
    "\n",
    "nmuts = 4  # predict variants with this many mutations relative to wildtype\n",
    "npredict = 50000  # make predictions for this many variants\n",
    "\n",
    "rand_variants_df = pd.DataFrame(\n",
    "    {\"codon_substitutions\": dms_variants.simulate.codon_muts(geneseq, nmuts, npredict)}\n",
    ").assign(\n",
    "    aa_substitutions=lambda x: x[\"codon_substitutions\"].map(\n",
    "        dms_variants.codonvarianttable.CodonVariantTable.codonToAAMuts\n",
    "    ),\n",
    "    true_enrichment=lambda x: x[\"aa_substitutions\"].map(\n",
    "        phenosimulator.observedEnrichment\n",
    "    ),\n",
    ")\n",
    "\n",
    "rand_variants_df"
   ]
  },
  {
   "cell_type": "markdown",
   "metadata": {},
   "source": [
    "Now add the model-predicted enrichments:"
   ]
  },
  {
   "cell_type": "code",
   "execution_count": 36,
   "metadata": {},
   "outputs": [
    {
     "data": {
      "text/html": [
       "<div>\n",
       "<style scoped>\n",
       "    .dataframe tbody tr th:only-of-type {\n",
       "        vertical-align: middle;\n",
       "    }\n",
       "\n",
       "    .dataframe tbody tr th {\n",
       "        vertical-align: top;\n",
       "    }\n",
       "\n",
       "    .dataframe thead th {\n",
       "        text-align: right;\n",
       "    }\n",
       "</style>\n",
       "<table border=\"1\" class=\"dataframe\">\n",
       "  <thead>\n",
       "    <tr style=\"text-align: right;\">\n",
       "      <th></th>\n",
       "      <th>aa_substitutions</th>\n",
       "      <th>true_enrichment</th>\n",
       "      <th>model_description</th>\n",
       "      <th>predicted_enrichment</th>\n",
       "    </tr>\n",
       "  </thead>\n",
       "  <tbody>\n",
       "    <tr>\n",
       "      <th>0</th>\n",
       "      <td>T9Y S37T D52Q L55T</td>\n",
       "      <td>0.000005</td>\n",
       "      <td>global epistasis with 2 latent phenotypes</td>\n",
       "      <td>0.002543</td>\n",
       "    </tr>\n",
       "    <tr>\n",
       "      <th>1</th>\n",
       "      <td>R29G M31R M32Y S49I</td>\n",
       "      <td>0.000002</td>\n",
       "      <td>global epistasis with 2 latent phenotypes</td>\n",
       "      <td>0.001573</td>\n",
       "    </tr>\n",
       "    <tr>\n",
       "      <th>2</th>\n",
       "      <td>A7R M32L M58A</td>\n",
       "      <td>0.000001</td>\n",
       "      <td>global epistasis with 2 latent phenotypes</td>\n",
       "      <td>0.001530</td>\n",
       "    </tr>\n",
       "    <tr>\n",
       "      <th>3</th>\n",
       "      <td>R1L V45H S49V G50S</td>\n",
       "      <td>0.005773</td>\n",
       "      <td>global epistasis with 2 latent phenotypes</td>\n",
       "      <td>0.009391</td>\n",
       "    </tr>\n",
       "    <tr>\n",
       "      <th>4</th>\n",
       "      <td>A7P R15N D38N M58N</td>\n",
       "      <td>0.000001</td>\n",
       "      <td>global epistasis with 2 latent phenotypes</td>\n",
       "      <td>0.001557</td>\n",
       "    </tr>\n",
       "    <tr>\n",
       "      <th>...</th>\n",
       "      <td>...</td>\n",
       "      <td>...</td>\n",
       "      <td>...</td>\n",
       "      <td>...</td>\n",
       "    </tr>\n",
       "    <tr>\n",
       "      <th>149995</th>\n",
       "      <td>V16M P24R V45H L55S</td>\n",
       "      <td>0.000660</td>\n",
       "      <td>no epistasis</td>\n",
       "      <td>0.010272</td>\n",
       "    </tr>\n",
       "    <tr>\n",
       "      <th>149996</th>\n",
       "      <td>V3F L5R S11G S42Y</td>\n",
       "      <td>0.005104</td>\n",
       "      <td>no epistasis</td>\n",
       "      <td>0.121759</td>\n",
       "    </tr>\n",
       "    <tr>\n",
       "      <th>149997</th>\n",
       "      <td>I17Y L34S F41C P44L</td>\n",
       "      <td>0.001696</td>\n",
       "      <td>no epistasis</td>\n",
       "      <td>0.081950</td>\n",
       "    </tr>\n",
       "    <tr>\n",
       "      <th>149998</th>\n",
       "      <td>P44* L55D Y59A</td>\n",
       "      <td>0.000999</td>\n",
       "      <td>no epistasis</td>\n",
       "      <td>0.011766</td>\n",
       "    </tr>\n",
       "    <tr>\n",
       "      <th>149999</th>\n",
       "      <td>V3R S11L K14P N27R</td>\n",
       "      <td>0.001014</td>\n",
       "      <td>no epistasis</td>\n",
       "      <td>0.009191</td>\n",
       "    </tr>\n",
       "  </tbody>\n",
       "</table>\n",
       "<p>150000 rows × 4 columns</p>\n",
       "</div>"
      ],
      "text/plain": [
       "           aa_substitutions  true_enrichment                          model_description  predicted_enrichment\n",
       "0        T9Y S37T D52Q L55T         0.000005  global epistasis with 2 latent phenotypes              0.002543\n",
       "1       R29G M31R M32Y S49I         0.000002  global epistasis with 2 latent phenotypes              0.001573\n",
       "2             A7R M32L M58A         0.000001  global epistasis with 2 latent phenotypes              0.001530\n",
       "3        R1L V45H S49V G50S         0.005773  global epistasis with 2 latent phenotypes              0.009391\n",
       "4        A7P R15N D38N M58N         0.000001  global epistasis with 2 latent phenotypes              0.001557\n",
       "...                     ...              ...                                        ...                   ...\n",
       "149995  V16M P24R V45H L55S         0.000660                               no epistasis              0.010272\n",
       "149996    V3F L5R S11G S42Y         0.005104                               no epistasis              0.121759\n",
       "149997  I17Y L34S F41C P44L         0.001696                               no epistasis              0.081950\n",
       "149998       P44* L55D Y59A         0.000999                               no epistasis              0.011766\n",
       "149999   V3R S11L K14P N27R         0.001014                               no epistasis              0.009191\n",
       "\n",
       "[150000 rows x 4 columns]"
      ]
     },
     "execution_count": 36,
     "metadata": {},
     "output_type": "execute_result"
    }
   ],
   "source": [
    "# NBVAL_IGNORE_OUTPUT\n",
    "\n",
    "actual_vs_predicted_enrichments = []\n",
    "for tup in fits_df.itertuples():\n",
    "    actual_vs_predicted_enrichments.append(\n",
    "        tup.model.add_phenotypes_to_df(rand_variants_df, unknown_as_nan=True)\n",
    "        .dropna(axis=\"index\")\n",
    "        .assign(\n",
    "            model_description=tup.description,\n",
    "            predicted_enrichment=lambda x: tup.model.enrichments(\n",
    "                x[\"observed_phenotype\"]\n",
    "            ),\n",
    "        )[\n",
    "            [\n",
    "                \"aa_substitutions\",\n",
    "                \"true_enrichment\",\n",
    "                \"model_description\",\n",
    "                \"predicted_enrichment\",\n",
    "            ]\n",
    "        ]\n",
    "    )\n",
    "actual_vs_predicted_enrichments = pd.concat(\n",
    "    actual_vs_predicted_enrichments, sort=False, ignore_index=True\n",
    ")\n",
    "actual_vs_predicted_enrichments"
   ]
  },
  {
   "cell_type": "markdown",
   "metadata": {},
   "source": [
    "Plot the predictions versus the true enrichments for each model:"
   ]
  },
  {
   "cell_type": "code",
   "execution_count": 37,
   "metadata": {},
   "outputs": [
    {
     "data": {
      "image/png": "[encoded data removed]",
      "text/plain": [
       "<Figure size 1200x400 with 3 Axes>"
      ]
     },
     "metadata": {
      "needs_background": "light"
     },
     "output_type": "display_data"
    }
   ],
   "source": [
    "p = (\n",
    "    ggplot(\n",
    "        actual_vs_predicted_enrichments, aes(\"predicted_enrichment\", \"true_enrichment\")\n",
    "    )\n",
    "    + geom_bin2d()\n",
    "    + facet_wrap(\"~ model_description\", nrow=1)\n",
    "    + theme(\n",
    "        figure_size=(\n",
    "            4 * actual_vs_predicted_enrichments[\"model_description\"].nunique(),\n",
    "            4,\n",
    "        )\n",
    "    )\n",
    ")\n",
    "_ = p.draw(show=True)"
   ]
  },
  {
   "cell_type": "markdown",
   "metadata": {},
   "source": [
    "Calculate the correlations between predicted and true enrichments:"
   ]
  },
  {
   "cell_type": "code",
   "execution_count": 38,
   "metadata": {},
   "outputs": [
    {
     "data": {
      "text/html": [
       "<div>\n",
       "<style scoped>\n",
       "    .dataframe tbody tr th:only-of-type {\n",
       "        vertical-align: middle;\n",
       "    }\n",
       "\n",
       "    .dataframe tbody tr th {\n",
       "        vertical-align: top;\n",
       "    }\n",
       "\n",
       "    .dataframe thead th {\n",
       "        text-align: right;\n",
       "    }\n",
       "</style>\n",
       "<table border=\"1\" class=\"dataframe\">\n",
       "  <thead>\n",
       "    <tr style=\"text-align: right;\">\n",
       "      <th></th>\n",
       "      <th>correlation</th>\n",
       "    </tr>\n",
       "    <tr>\n",
       "      <th>model_description</th>\n",
       "      <th></th>\n",
       "    </tr>\n",
       "  </thead>\n",
       "  <tbody>\n",
       "    <tr>\n",
       "      <th>global epistasis with 1 latent phenotypes</th>\n",
       "      <td>0.987</td>\n",
       "    </tr>\n",
       "    <tr>\n",
       "      <th>global epistasis with 2 latent phenotypes</th>\n",
       "      <td>0.978</td>\n",
       "    </tr>\n",
       "    <tr>\n",
       "      <th>no epistasis</th>\n",
       "      <td>0.871</td>\n",
       "    </tr>\n",
       "  </tbody>\n",
       "</table>\n",
       "</div>"
      ],
      "text/plain": [
       "                                           correlation\n",
       "model_description                                     \n",
       "global epistasis with 1 latent phenotypes        0.987\n",
       "global epistasis with 2 latent phenotypes        0.978\n",
       "no epistasis                                     0.871"
      ]
     },
     "execution_count": 38,
     "metadata": {},
     "output_type": "execute_result"
    }
   ],
   "source": [
    "# NBVAL_IGNORE_OUTPUT\n",
    "\n",
    "(\n",
    "    actual_vs_predicted_enrichments.groupby(\"model_description\")\n",
    "    .apply(lambda x: x[\"predicted_enrichment\"].corr(x[\"true_enrichment\"]))\n",
    "    .rename(\"correlation\")\n",
    "    .to_frame()\n",
    "    .round(3)\n",
    ")"
   ]
  }
 ],
 "metadata": {
  "kernelspec": {
   "display_name": "Python 3",
   "language": "python",
   "name": "python3"
  },
  "language_info": {
   "codemirror_mode": {
    "name": "ipython",
    "version": 3
   },
   "file_extension": ".py",
   "mimetype": "text/x-python",
   "name": "python",
   "nbconvert_exporter": "python",
   "pygments_lexer": "ipython3",
   "version": "3.8.5"
  },
  "toc": {
   "nav_menu": {},
   "number_sections": false,
   "sideBar": true,
   "skip_h1_title": false,
   "toc_cell": false,
   "toc_position": {
    "height": "844.4px",
    "left": "0px",
    "right": "1281.8px",
    "top": "111.6px",
    "width": "226.2px"
   },
   "toc_section_display": true,
   "toc_window_display": true
  }
 },
 "nbformat": 4,
 "nbformat_minor": 4
}
