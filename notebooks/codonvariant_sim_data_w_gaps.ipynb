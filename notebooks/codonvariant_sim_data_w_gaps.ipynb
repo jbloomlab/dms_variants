{
 "cells": [
  {
   "cell_type": "markdown",
   "metadata": {},
   "source": [
    "# Variants with deletion mutations\n",
    "In some cases, you might want to include variants with in-frame codon-length deletions.\n",
    "There is an option to do this using `---` as the codon gap character, and `-` as the resulting amino-acid gap character.\n",
    "Note that only codon-length in-frame deletions are allowed.\n",
    "\n",
    "This notebook illustrates working with such variants.\n",
    "\n",
    "## Setup for analysis\n",
    "\n",
    "Import Python modules / packages:"
   ]
  },
  {
   "cell_type": "code",
   "execution_count": 1,
   "metadata": {
    "attributes": {
     "classes": [],
     "id": "",
     "n": "1"
    },
    "execution": {
     "iopub.execute_input": "2023-03-19T14:15:49.240696Z",
     "iopub.status.busy": "2023-03-19T14:15:49.240145Z",
     "iopub.status.idle": "2023-03-19T14:15:51.806487Z",
     "shell.execute_reply": "2023-03-19T14:15:51.805298Z",
     "shell.execute_reply.started": "2023-03-19T14:15:49.240670Z"
    },
    "tags": []
   },
   "outputs": [],
   "source": [
    "# NBVAL_IGNORE_OUTPUT\n",
    "\n",
    "import random\n",
    "import warnings\n",
    "\n",
    "import pandas as pd\n",
    "\n",
    "from plotnine import *\n",
    "\n",
    "import dms_variants.codonvarianttable\n",
    "import dms_variants.plotnine_themes\n",
    "import dms_variants.simulate\n",
    "from dms_variants.constants import CBPALETTE, CODONS_WITHGAP, CODONS_NOSTOP"
   ]
  },
  {
   "cell_type": "markdown",
   "metadata": {},
   "source": [
    "Set parameters that define simulated data:"
   ]
  },
  {
   "cell_type": "code",
   "execution_count": 2,
   "metadata": {
    "attributes": {
     "classes": [],
     "id": "",
     "n": "2"
    },
    "execution": {
     "iopub.execute_input": "2023-03-19T14:15:51.810970Z",
     "iopub.status.busy": "2023-03-19T14:15:51.810617Z",
     "iopub.status.idle": "2023-03-19T14:15:51.815726Z",
     "shell.execute_reply": "2023-03-19T14:15:51.814963Z",
     "shell.execute_reply.started": "2023-03-19T14:15:51.810938Z"
    },
    "tags": []
   },
   "outputs": [],
   "source": [
    "seed = 1  # random number seed\n",
    "genelength = 30  # gene length in codons\n",
    "libs = [\"lib_1\", \"lib_2\"]  # distinct libraries of gene\n",
    "variants_per_lib = 500 * genelength  # variants per library\n",
    "avgmuts = 2.0  # average codon mutations per variant\n",
    "bclen = 16  # length of nucleotide barcode for each variant\n",
    "variant_error_rate = 0.005  # rate at which variant sequence mis-called"
   ]
  },
  {
   "cell_type": "markdown",
   "metadata": {},
   "source": [
    "Seed random number generator for reproducible output:"
   ]
  },
  {
   "cell_type": "code",
   "execution_count": 3,
   "metadata": {
    "attributes": {
     "classes": [],
     "id": "",
     "n": "3"
    },
    "execution": {
     "iopub.execute_input": "2023-03-19T14:15:51.818531Z",
     "iopub.status.busy": "2023-03-19T14:15:51.818276Z",
     "iopub.status.idle": "2023-03-19T14:15:51.821344Z",
     "shell.execute_reply": "2023-03-19T14:15:51.820797Z",
     "shell.execute_reply.started": "2023-03-19T14:15:51.818510Z"
    },
    "tags": []
   },
   "outputs": [],
   "source": [
    "random.seed(seed)"
   ]
  },
  {
   "cell_type": "markdown",
   "metadata": {},
   "source": [
    "Set pandas display options to show large chunks of Data Frames in this\n",
    "example:"
   ]
  },
  {
   "cell_type": "code",
   "execution_count": 4,
   "metadata": {
    "attributes": {
     "classes": [],
     "id": "",
     "n": "4"
    },
    "execution": {
     "iopub.execute_input": "2023-03-19T14:15:51.826521Z",
     "iopub.status.busy": "2023-03-19T14:15:51.826240Z",
     "iopub.status.idle": "2023-03-19T14:15:51.829394Z",
     "shell.execute_reply": "2023-03-19T14:15:51.828843Z",
     "shell.execute_reply.started": "2023-03-19T14:15:51.826500Z"
    }
   },
   "outputs": [],
   "source": [
    "pd.set_option(\"display.max_columns\", 20)\n",
    "pd.set_option(\"display.width\", 500)"
   ]
  },
  {
   "cell_type": "markdown",
   "metadata": {},
   "source": [
    "Hide warnings that clutter output:"
   ]
  },
  {
   "cell_type": "code",
   "execution_count": 5,
   "metadata": {
    "attributes": {
     "classes": [],
     "id": "",
     "n": "5"
    },
    "execution": {
     "iopub.execute_input": "2023-03-19T14:15:51.832083Z",
     "iopub.status.busy": "2023-03-19T14:15:51.831850Z",
     "iopub.status.idle": "2023-03-19T14:15:51.834817Z",
     "shell.execute_reply": "2023-03-19T14:15:51.834266Z",
     "shell.execute_reply.started": "2023-03-19T14:15:51.832064Z"
    }
   },
   "outputs": [],
   "source": [
    "warnings.simplefilter(\"ignore\")"
   ]
  },
  {
   "cell_type": "markdown",
   "metadata": {},
   "source": [
    "Set the gray grid [plotnine theme](https://plotnine.readthedocs.io/en/stable/generated/plotnine.themes.theme.html?highlight=themes) defined in [dms_variants.plotnine_themes](https://jbloomlab.github.io/dms_variants/dms_variants.plotnine_themes.html) as this gives a nice appearance for the plots:"
   ]
  },
  {
   "cell_type": "code",
   "execution_count": 6,
   "metadata": {
    "execution": {
     "iopub.execute_input": "2023-03-19T14:15:51.837537Z",
     "iopub.status.busy": "2023-03-19T14:15:51.837278Z",
     "iopub.status.idle": "2023-03-19T14:15:51.841608Z",
     "shell.execute_reply": "2023-03-19T14:15:51.841014Z",
     "shell.execute_reply.started": "2023-03-19T14:15:51.837516Z"
    }
   },
   "outputs": [],
   "source": [
    "theme_set(dms_variants.plotnine_themes.theme_graygrid())"
   ]
  },
  {
   "cell_type": "markdown",
   "metadata": {},
   "source": [
    "## Simulate library of variants\n",
    "Simulate wildtype gene sequence:"
   ]
  },
  {
   "cell_type": "code",
   "execution_count": 7,
   "metadata": {
    "attributes": {
     "classes": [],
     "id": "",
     "n": "6"
    },
    "execution": {
     "iopub.execute_input": "2023-03-19T14:15:51.844279Z",
     "iopub.status.busy": "2023-03-19T14:15:51.844042Z",
     "iopub.status.idle": "2023-03-19T14:15:51.847967Z",
     "shell.execute_reply": "2023-03-19T14:15:51.847392Z",
     "shell.execute_reply.started": "2023-03-19T14:15:51.844259Z"
    },
    "tags": []
   },
   "outputs": [
    {
     "name": "stdout",
     "output_type": "stream",
     "text": [
      "Wildtype gene of 30 codons:\n",
      "AGATCCGTGATTCTGCGTGCTTACACCAACTCACGGGTGAAACGTGTAATCTTATGCAACAACGACTTACCTATCCGCAACATCCGGCTG\n"
     ]
    }
   ],
   "source": [
    "geneseq = \"\".join(random.choices(CODONS_NOSTOP, k=genelength))\n",
    "print(f\"Wildtype gene of {genelength} codons:\\n{geneseq}\")"
   ]
  },
  {
   "cell_type": "markdown",
   "metadata": {},
   "source": [
    "Generate a\n",
    "[CodonVariantTable](https://jbloomlab.github.io/dms_variants/dms_variants.codonvarianttable.html#dms_variants.codonvarianttable.CodonVariantTable)\n",
    "using\n",
    "[simulate_CodonVariantTable](https://jbloomlab.github.io/dms_variants/dms_variants.simulate.html#dms_variants.simulate.simulate_CodonVariantTable)\n",
    "function:"
   ]
  },
  {
   "cell_type": "code",
   "execution_count": 8,
   "metadata": {
    "attributes": {
     "classes": [],
     "id": "",
     "n": "7"
    },
    "execution": {
     "iopub.execute_input": "2023-03-19T14:15:51.850548Z",
     "iopub.status.busy": "2023-03-19T14:15:51.850315Z",
     "iopub.status.idle": "2023-03-19T14:15:52.822316Z",
     "shell.execute_reply": "2023-03-19T14:15:52.821708Z",
     "shell.execute_reply.started": "2023-03-19T14:15:51.850527Z"
    }
   },
   "outputs": [],
   "source": [
    "variants = dms_variants.simulate.simulate_CodonVariantTable(\n",
    "    geneseq=geneseq,\n",
    "    bclen=bclen,\n",
    "    library_specs={\n",
    "        lib: {\"avgmuts\": avgmuts, \"nvariants\": variants_per_lib} for lib in libs\n",
    "    },\n",
    "    seed=seed,\n",
    "    allowgaps=True,\n",
    ")"
   ]
  },
  {
   "cell_type": "markdown",
   "metadata": {},
   "source": [
    "We can get basic information about the [CodonVariantTable](https://jbloomlab.github.io/dms_variants/dms_variants.codonvarianttable.html#dms_variants.codonvarianttable.CodonVariantTable), such as the sites,\n",
    "wildtype codons, and wildtype amino acids.\n",
    "Below we do this for the first few\n",
    "sites:"
   ]
  },
  {
   "cell_type": "code",
   "execution_count": 9,
   "metadata": {
    "attributes": {
     "classes": [],
     "id": "",
     "n": "8"
    },
    "execution": {
     "iopub.execute_input": "2023-03-19T14:15:52.824763Z",
     "iopub.status.busy": "2023-03-19T14:15:52.824548Z",
     "iopub.status.idle": "2023-03-19T14:15:52.830822Z",
     "shell.execute_reply": "2023-03-19T14:15:52.830203Z",
     "shell.execute_reply.started": "2023-03-19T14:15:52.824748Z"
    }
   },
   "outputs": [
    {
     "data": {
      "text/plain": [
       "[1, 2, 3, 4, 5]"
      ]
     },
     "execution_count": 9,
     "metadata": {},
     "output_type": "execute_result"
    }
   ],
   "source": [
    "variants.sites[:5]"
   ]
  },
  {
   "cell_type": "code",
   "execution_count": 10,
   "metadata": {
    "attributes": {
     "classes": [],
     "id": "",
     "n": "9"
    },
    "execution": {
     "iopub.execute_input": "2023-03-19T14:15:52.831778Z",
     "iopub.status.busy": "2023-03-19T14:15:52.831536Z",
     "iopub.status.idle": "2023-03-19T14:15:52.836077Z",
     "shell.execute_reply": "2023-03-19T14:15:52.835609Z",
     "shell.execute_reply.started": "2023-03-19T14:15:52.831761Z"
    }
   },
   "outputs": [
    {
     "data": {
      "text/plain": [
       "['AGA', 'TCC', 'GTG', 'ATT', 'CTG']"
      ]
     },
     "execution_count": 10,
     "metadata": {},
     "output_type": "execute_result"
    }
   ],
   "source": [
    "list(variants.codons[r] for r in variants.sites[:5])"
   ]
  },
  {
   "cell_type": "code",
   "execution_count": 11,
   "metadata": {
    "attributes": {
     "classes": [],
     "id": "",
     "n": "10"
    },
    "execution": {
     "iopub.execute_input": "2023-03-19T14:15:52.837049Z",
     "iopub.status.busy": "2023-03-19T14:15:52.836802Z",
     "iopub.status.idle": "2023-03-19T14:15:52.841056Z",
     "shell.execute_reply": "2023-03-19T14:15:52.840548Z",
     "shell.execute_reply.started": "2023-03-19T14:15:52.837029Z"
    }
   },
   "outputs": [
    {
     "data": {
      "text/plain": [
       "['R', 'S', 'V', 'I', 'L']"
      ]
     },
     "execution_count": 11,
     "metadata": {},
     "output_type": "execute_result"
    }
   ],
   "source": [
    "list(variants.aas[r] for r in variants.sites[:5])"
   ]
  },
  {
   "cell_type": "markdown",
   "metadata": {},
   "source": [
    "The different libraries in the table:"
   ]
  },
  {
   "cell_type": "code",
   "execution_count": 12,
   "metadata": {
    "attributes": {
     "classes": [],
     "id": "",
     "n": "11"
    },
    "execution": {
     "iopub.execute_input": "2023-03-19T14:15:52.842078Z",
     "iopub.status.busy": "2023-03-19T14:15:52.841771Z",
     "iopub.status.idle": "2023-03-19T14:15:52.845985Z",
     "shell.execute_reply": "2023-03-19T14:15:52.845352Z",
     "shell.execute_reply.started": "2023-03-19T14:15:52.842057Z"
    }
   },
   "outputs": [
    {
     "data": {
      "text/plain": [
       "['lib_1', 'lib_2']"
      ]
     },
     "execution_count": 12,
     "metadata": {},
     "output_type": "execute_result"
    }
   ],
   "source": [
    "variants.libraries"
   ]
  },
  {
   "cell_type": "markdown",
   "metadata": {},
   "source": [
    "Here is the data frame that contains all of the information on the barcoded\n",
    "variants (just looking at the first few lines)"
   ]
  },
  {
   "cell_type": "code",
   "execution_count": 13,
   "metadata": {
    "attributes": {
     "classes": [],
     "id": "",
     "n": "12"
    },
    "execution": {
     "iopub.execute_input": "2023-03-19T14:15:52.847034Z",
     "iopub.status.busy": "2023-03-19T14:15:52.846749Z",
     "iopub.status.idle": "2023-03-19T14:15:52.857414Z",
     "shell.execute_reply": "2023-03-19T14:15:52.856858Z",
     "shell.execute_reply.started": "2023-03-19T14:15:52.847015Z"
    }
   },
   "outputs": [
    {
     "data": {
      "text/html": [
       "<div>\n",
       "<style scoped>\n",
       "    .dataframe tbody tr th:only-of-type {\n",
       "        vertical-align: middle;\n",
       "    }\n",
       "\n",
       "    .dataframe tbody tr th {\n",
       "        vertical-align: top;\n",
       "    }\n",
       "\n",
       "    .dataframe thead th {\n",
       "        text-align: right;\n",
       "    }\n",
       "</style>\n",
       "<table border=\"1\" class=\"dataframe\">\n",
       "  <thead>\n",
       "    <tr style=\"text-align: right;\">\n",
       "      <th></th>\n",
       "      <th>library</th>\n",
       "      <th>barcode</th>\n",
       "      <th>variant_call_support</th>\n",
       "      <th>codon_substitutions</th>\n",
       "      <th>aa_substitutions</th>\n",
       "      <th>n_codon_substitutions</th>\n",
       "      <th>n_aa_substitutions</th>\n",
       "    </tr>\n",
       "  </thead>\n",
       "  <tbody>\n",
       "    <tr>\n",
       "      <th>0</th>\n",
       "      <td>lib_1</td>\n",
       "      <td>AAAAAACTAAAAGTCG</td>\n",
       "      <td>2</td>\n",
       "      <td>CGT15AGC ATC25GAA</td>\n",
       "      <td>R15S I25E</td>\n",
       "      <td>2</td>\n",
       "      <td>2</td>\n",
       "    </tr>\n",
       "    <tr>\n",
       "      <th>1</th>\n",
       "      <td>lib_1</td>\n",
       "      <td>AAAAACAATGCCGCAT</td>\n",
       "      <td>1</td>\n",
       "      <td>ACC9TCG TTA18TAC</td>\n",
       "      <td>T9S L18Y</td>\n",
       "      <td>2</td>\n",
       "      <td>2</td>\n",
       "    </tr>\n",
       "    <tr>\n",
       "      <th>2</th>\n",
       "      <td>lib_1</td>\n",
       "      <td>AAAAACAGACCTACAA</td>\n",
       "      <td>1</td>\n",
       "      <td>TCC2CCG TAC8TTC</td>\n",
       "      <td>S2P Y8F</td>\n",
       "      <td>2</td>\n",
       "      <td>2</td>\n",
       "    </tr>\n",
       "    <tr>\n",
       "      <th>3</th>\n",
       "      <td>lib_1</td>\n",
       "      <td>AAAAACCGTGGTTCTT</td>\n",
       "      <td>1</td>\n",
       "      <td>AGA1GAC CCT24GGC</td>\n",
       "      <td>R1D P24G</td>\n",
       "      <td>2</td>\n",
       "      <td>2</td>\n",
       "    </tr>\n",
       "    <tr>\n",
       "      <th>4</th>\n",
       "      <td>lib_1</td>\n",
       "      <td>AAAAACTCTATCTCAT</td>\n",
       "      <td>1</td>\n",
       "      <td>CTG5GTA GCT7TGG TCA11ACG CGG29CTG</td>\n",
       "      <td>L5V A7W S11T R29L</td>\n",
       "      <td>4</td>\n",
       "      <td>4</td>\n",
       "    </tr>\n",
       "    <tr>\n",
       "      <th>5</th>\n",
       "      <td>lib_1</td>\n",
       "      <td>AAAAACTTGAGCATGA</td>\n",
       "      <td>6</td>\n",
       "      <td>GTG3TCT GCT7TGG TAC8AAT TGC19TGA GAC22AGG AAC2...</td>\n",
       "      <td>V3S A7W Y8N C19* D22R N27D</td>\n",
       "      <td>6</td>\n",
       "      <td>6</td>\n",
       "    </tr>\n",
       "  </tbody>\n",
       "</table>\n",
       "</div>"
      ],
      "text/plain": [
       "  library           barcode  variant_call_support                                codon_substitutions            aa_substitutions  n_codon_substitutions  n_aa_substitutions\n",
       "0   lib_1  AAAAAACTAAAAGTCG                     2                                  CGT15AGC ATC25GAA                   R15S I25E                      2                   2\n",
       "1   lib_1  AAAAACAATGCCGCAT                     1                                   ACC9TCG TTA18TAC                    T9S L18Y                      2                   2\n",
       "2   lib_1  AAAAACAGACCTACAA                     1                                    TCC2CCG TAC8TTC                     S2P Y8F                      2                   2\n",
       "3   lib_1  AAAAACCGTGGTTCTT                     1                                   AGA1GAC CCT24GGC                    R1D P24G                      2                   2\n",
       "4   lib_1  AAAAACTCTATCTCAT                     1                  CTG5GTA GCT7TGG TCA11ACG CGG29CTG           L5V A7W S11T R29L                      4                   4\n",
       "5   lib_1  AAAAACTTGAGCATGA                     6  GTG3TCT GCT7TGG TAC8AAT TGC19TGA GAC22AGG AAC2...  V3S A7W Y8N C19* D22R N27D                      6                   6"
      ]
     },
     "execution_count": 13,
     "metadata": {},
     "output_type": "execute_result"
    }
   ],
   "source": [
    "variants.barcode_variant_df.head(n=6)"
   ]
  },
  {
   "cell_type": "markdown",
   "metadata": {},
   "source": [
    "## Analyze library composition\n",
    "A [CodonVariantTable](https://jbloomlab.github.io/dms_variants/dms_variants.codonvarianttable.html#dms_variants.codonvarianttable.CodonVariantTable)\n",
    "has methods for summarizing and plotting properties of the barcoded variants.\n",
    "These methods can be used to analyze the barcoded variants themselves, or to\n",
    "analyze the frequency (or counts) of variants in the library in samples that\n",
    "have undergone some type of selection.\n",
    "\n",
    "We have not yet added counts of the\n",
    "variants in any specific samples, so we just analyze the composition of the\n",
    "variant library itself.\n",
    "This is done by setting `samples=None` in the method\n",
    "calls below.\n",
    "\n",
    "Number of variants in each library:"
   ]
  },
  {
   "cell_type": "code",
   "execution_count": 14,
   "metadata": {
    "attributes": {
     "classes": [],
     "id": "",
     "n": "13"
    },
    "execution": {
     "iopub.execute_input": "2023-03-19T14:15:52.858358Z",
     "iopub.status.busy": "2023-03-19T14:15:52.858096Z",
     "iopub.status.idle": "2023-03-19T14:15:52.953630Z",
     "shell.execute_reply": "2023-03-19T14:15:52.953109Z",
     "shell.execute_reply.started": "2023-03-19T14:15:52.858341Z"
    }
   },
   "outputs": [
    {
     "data": {
      "text/html": [
       "<div>\n",
       "<style scoped>\n",
       "    .dataframe tbody tr th:only-of-type {\n",
       "        vertical-align: middle;\n",
       "    }\n",
       "\n",
       "    .dataframe tbody tr th {\n",
       "        vertical-align: top;\n",
       "    }\n",
       "\n",
       "    .dataframe thead th {\n",
       "        text-align: right;\n",
       "    }\n",
       "</style>\n",
       "<table border=\"1\" class=\"dataframe\">\n",
       "  <thead>\n",
       "    <tr style=\"text-align: right;\">\n",
       "      <th></th>\n",
       "      <th>library</th>\n",
       "      <th>sample</th>\n",
       "      <th>count</th>\n",
       "    </tr>\n",
       "  </thead>\n",
       "  <tbody>\n",
       "    <tr>\n",
       "      <th>0</th>\n",
       "      <td>lib_1</td>\n",
       "      <td>barcoded variants</td>\n",
       "      <td>15000</td>\n",
       "    </tr>\n",
       "    <tr>\n",
       "      <th>1</th>\n",
       "      <td>lib_2</td>\n",
       "      <td>barcoded variants</td>\n",
       "      <td>15000</td>\n",
       "    </tr>\n",
       "    <tr>\n",
       "      <th>2</th>\n",
       "      <td>all libraries</td>\n",
       "      <td>barcoded variants</td>\n",
       "      <td>30000</td>\n",
       "    </tr>\n",
       "  </tbody>\n",
       "</table>\n",
       "</div>"
      ],
      "text/plain": [
       "         library             sample  count\n",
       "0          lib_1  barcoded variants  15000\n",
       "1          lib_2  barcoded variants  15000\n",
       "2  all libraries  barcoded variants  30000"
      ]
     },
     "execution_count": 14,
     "metadata": {},
     "output_type": "execute_result"
    }
   ],
   "source": [
    "variants.n_variants_df(samples=None)"
   ]
  },
  {
   "cell_type": "markdown",
   "metadata": {},
   "source": [
    "Plot distribution of variant call supports, grouping together all variants with support $\\ge 8$:"
   ]
  },
  {
   "cell_type": "code",
   "execution_count": 15,
   "metadata": {
    "execution": {
     "iopub.execute_input": "2023-03-19T14:15:52.954546Z",
     "iopub.status.busy": "2023-03-19T14:15:52.954288Z",
     "iopub.status.idle": "2023-03-19T14:15:53.863158Z",
     "shell.execute_reply": "2023-03-19T14:15:53.862214Z",
     "shell.execute_reply.started": "2023-03-19T14:15:52.954530Z"
    }
   },
   "outputs": [
    {
     "data": {
      "image/png": "[encoded data removed]",
      "text/plain": [
       "<Figure size 520x230 with 3 Axes>"
      ]
     },
     "metadata": {},
     "output_type": "display_data"
    }
   ],
   "source": [
    "# NBVAL_IGNORE_OUTPUT\n",
    "\n",
    "p = variants.plotVariantSupportHistogram(max_support=10)\n",
    "p = p + theme(panel_grid_major_x=element_blank())  # no vertical grid lines\n",
    "_ = p.draw()"
   ]
  },
  {
   "cell_type": "markdown",
   "metadata": {},
   "source": [
    "The set of valid barcodes for each library:"
   ]
  },
  {
   "cell_type": "code",
   "execution_count": 16,
   "metadata": {
    "attributes": {
     "classes": [],
     "id": "",
     "n": "14"
    },
    "execution": {
     "iopub.execute_input": "2023-03-19T14:15:53.864843Z",
     "iopub.status.busy": "2023-03-19T14:15:53.864462Z",
     "iopub.status.idle": "2023-03-19T14:15:53.879676Z",
     "shell.execute_reply": "2023-03-19T14:15:53.878965Z",
     "shell.execute_reply.started": "2023-03-19T14:15:53.864823Z"
    }
   },
   "outputs": [
    {
     "name": "stdout",
     "output_type": "stream",
     "text": [
      "First few barcodes for library lib_1:\n",
      "['AAAAAACTAAAAGTCG', 'AAAAACAATGCCGCAT', 'AAAAACAGACCTACAA']\n",
      "First few barcodes for library lib_2:\n",
      "['AAAAAAACCCAGACTT', 'AAAAAACATCCGATCC', 'AAAAAACCTTCTGCCG']\n"
     ]
    }
   ],
   "source": [
    "for lib in libs:\n",
    "    print(f\"First few barcodes for library {lib}:\")\n",
    "    print(sorted(variants.valid_barcodes(lib))[:3])"
   ]
  },
  {
   "cell_type": "markdown",
   "metadata": {},
   "source": [
    "Plot the number of amino-acid mutations per variant:"
   ]
  },
  {
   "cell_type": "code",
   "execution_count": 17,
   "metadata": {
    "attributes": {
     "classes": [],
     "id": "",
     "n": "15"
    },
    "execution": {
     "iopub.execute_input": "2023-03-19T14:15:53.880815Z",
     "iopub.status.busy": "2023-03-19T14:15:53.880520Z",
     "iopub.status.idle": "2023-03-19T14:15:54.195267Z",
     "shell.execute_reply": "2023-03-19T14:15:54.194675Z",
     "shell.execute_reply.started": "2023-03-19T14:15:53.880795Z"
    }
   },
   "outputs": [],
   "source": [
    "# NBVAL_IGNORE_OUTPUT\n",
    "\n",
    "p = variants.plotNumMutsHistogram(\"aa\", samples=None)\n",
    "p = p + theme(panel_grid_major_x=element_blank())  # no vertical grid lines\n",
    "_ = p.draw()"
   ]
  },
  {
   "cell_type": "markdown",
   "metadata": {},
   "source": [
    "Number of codon mutations per variant:"
   ]
  },
  {
   "cell_type": "code",
   "execution_count": 18,
   "metadata": {
    "attributes": {
     "classes": [],
     "id": "",
     "n": "16"
    },
    "execution": {
     "iopub.execute_input": "2023-03-19T14:15:54.197506Z",
     "iopub.status.busy": "2023-03-19T14:15:54.196709Z",
     "iopub.status.idle": "2023-03-19T14:15:54.505813Z",
     "shell.execute_reply": "2023-03-19T14:15:54.505130Z",
     "shell.execute_reply.started": "2023-03-19T14:15:54.197465Z"
    }
   },
   "outputs": [],
   "source": [
    "# NBVAL_IGNORE_OUTPUT\n",
    "\n",
    "p = variants.plotNumMutsHistogram(\"codon\", samples=None)\n",
    "p = p + theme(panel_grid_major_x=element_blank())  # no vertical grid lines\n",
    "_ = p.draw()"
   ]
  },
  {
   "cell_type": "markdown",
   "metadata": {},
   "source": [
    "Average number of codon mutations per variant of each type of mutation.\n",
    "We make these plots for:\n",
    " 1. Just single-mutant and wildtype variants\n",
    " 2. For all variants"
   ]
  },
  {
   "cell_type": "code",
   "execution_count": 19,
   "metadata": {
    "attributes": {
     "classes": [],
     "id": "",
     "n": "17"
    },
    "execution": {
     "iopub.execute_input": "2023-03-19T14:15:54.506752Z",
     "iopub.status.busy": "2023-03-19T14:15:54.506580Z",
     "iopub.status.idle": "2023-03-19T14:15:55.767214Z",
     "shell.execute_reply": "2023-03-19T14:15:55.766633Z",
     "shell.execute_reply.started": "2023-03-19T14:15:54.506736Z"
    }
   },
   "outputs": [],
   "source": [
    "# NBVAL_IGNORE_OUTPUT\n",
    "\n",
    "for mut_type in [\"single\", \"all\"]:\n",
    "    p = variants.plotNumCodonMutsByType(mut_type, samples=None)\n",
    "    p = p + theme(panel_grid_major_x=element_blank())  # no vertical grid lines\n",
    "    _ = p.draw()"
   ]
  },
  {
   "cell_type": "markdown",
   "metadata": {},
   "source": [
    "Here are the numerical data in the plots above:"
   ]
  },
  {
   "cell_type": "code",
   "execution_count": 20,
   "metadata": {
    "execution": {
     "iopub.execute_input": "2023-03-19T14:15:55.768474Z",
     "iopub.status.busy": "2023-03-19T14:15:55.768204Z",
     "iopub.status.idle": "2023-03-19T14:15:56.018661Z",
     "shell.execute_reply": "2023-03-19T14:15:56.018140Z",
     "shell.execute_reply.started": "2023-03-19T14:15:55.768457Z"
    }
   },
   "outputs": [
    {
     "data": {
      "text/html": [
       "<div>\n",
       "<style scoped>\n",
       "    .dataframe tbody tr th:only-of-type {\n",
       "        vertical-align: middle;\n",
       "    }\n",
       "\n",
       "    .dataframe tbody tr th {\n",
       "        vertical-align: top;\n",
       "    }\n",
       "\n",
       "    .dataframe thead th {\n",
       "        text-align: right;\n",
       "    }\n",
       "</style>\n",
       "<table border=\"1\" class=\"dataframe\">\n",
       "  <thead>\n",
       "    <tr style=\"text-align: right;\">\n",
       "      <th></th>\n",
       "      <th>library</th>\n",
       "      <th>sample</th>\n",
       "      <th>mutation_type</th>\n",
       "      <th>num_muts_count</th>\n",
       "      <th>count</th>\n",
       "      <th>number</th>\n",
       "    </tr>\n",
       "  </thead>\n",
       "  <tbody>\n",
       "    <tr>\n",
       "      <th>0</th>\n",
       "      <td>lib_1</td>\n",
       "      <td>barcoded variants</td>\n",
       "      <td>nonsynonymous</td>\n",
       "      <td>3611</td>\n",
       "      <td>6112</td>\n",
       "      <td>0.591</td>\n",
       "    </tr>\n",
       "    <tr>\n",
       "      <th>1</th>\n",
       "      <td>lib_1</td>\n",
       "      <td>barcoded variants</td>\n",
       "      <td>synonymous</td>\n",
       "      <td>194</td>\n",
       "      <td>6112</td>\n",
       "      <td>0.032</td>\n",
       "    </tr>\n",
       "    <tr>\n",
       "      <th>2</th>\n",
       "      <td>lib_1</td>\n",
       "      <td>barcoded variants</td>\n",
       "      <td>stop</td>\n",
       "      <td>215</td>\n",
       "      <td>6112</td>\n",
       "      <td>0.035</td>\n",
       "    </tr>\n",
       "    <tr>\n",
       "      <th>3</th>\n",
       "      <td>lib_1</td>\n",
       "      <td>barcoded variants</td>\n",
       "      <td>deletion</td>\n",
       "      <td>56</td>\n",
       "      <td>6112</td>\n",
       "      <td>0.009</td>\n",
       "    </tr>\n",
       "    <tr>\n",
       "      <th>4</th>\n",
       "      <td>lib_2</td>\n",
       "      <td>barcoded variants</td>\n",
       "      <td>nonsynonymous</td>\n",
       "      <td>3746</td>\n",
       "      <td>6114</td>\n",
       "      <td>0.613</td>\n",
       "    </tr>\n",
       "    <tr>\n",
       "      <th>5</th>\n",
       "      <td>lib_2</td>\n",
       "      <td>barcoded variants</td>\n",
       "      <td>synonymous</td>\n",
       "      <td>188</td>\n",
       "      <td>6114</td>\n",
       "      <td>0.031</td>\n",
       "    </tr>\n",
       "    <tr>\n",
       "      <th>6</th>\n",
       "      <td>lib_2</td>\n",
       "      <td>barcoded variants</td>\n",
       "      <td>stop</td>\n",
       "      <td>196</td>\n",
       "      <td>6114</td>\n",
       "      <td>0.032</td>\n",
       "    </tr>\n",
       "    <tr>\n",
       "      <th>7</th>\n",
       "      <td>lib_2</td>\n",
       "      <td>barcoded variants</td>\n",
       "      <td>deletion</td>\n",
       "      <td>69</td>\n",
       "      <td>6114</td>\n",
       "      <td>0.011</td>\n",
       "    </tr>\n",
       "    <tr>\n",
       "      <th>8</th>\n",
       "      <td>all libraries</td>\n",
       "      <td>barcoded variants</td>\n",
       "      <td>nonsynonymous</td>\n",
       "      <td>7357</td>\n",
       "      <td>12226</td>\n",
       "      <td>0.602</td>\n",
       "    </tr>\n",
       "    <tr>\n",
       "      <th>9</th>\n",
       "      <td>all libraries</td>\n",
       "      <td>barcoded variants</td>\n",
       "      <td>synonymous</td>\n",
       "      <td>382</td>\n",
       "      <td>12226</td>\n",
       "      <td>0.031</td>\n",
       "    </tr>\n",
       "    <tr>\n",
       "      <th>10</th>\n",
       "      <td>all libraries</td>\n",
       "      <td>barcoded variants</td>\n",
       "      <td>stop</td>\n",
       "      <td>411</td>\n",
       "      <td>12226</td>\n",
       "      <td>0.034</td>\n",
       "    </tr>\n",
       "    <tr>\n",
       "      <th>11</th>\n",
       "      <td>all libraries</td>\n",
       "      <td>barcoded variants</td>\n",
       "      <td>deletion</td>\n",
       "      <td>125</td>\n",
       "      <td>12226</td>\n",
       "      <td>0.010</td>\n",
       "    </tr>\n",
       "  </tbody>\n",
       "</table>\n",
       "</div>"
      ],
      "text/plain": [
       "          library             sample  mutation_type  num_muts_count  count  number\n",
       "0           lib_1  barcoded variants  nonsynonymous            3611   6112   0.591\n",
       "1           lib_1  barcoded variants     synonymous             194   6112   0.032\n",
       "2           lib_1  barcoded variants           stop             215   6112   0.035\n",
       "3           lib_1  barcoded variants       deletion              56   6112   0.009\n",
       "4           lib_2  barcoded variants  nonsynonymous            3746   6114   0.613\n",
       "5           lib_2  barcoded variants     synonymous             188   6114   0.031\n",
       "6           lib_2  barcoded variants           stop             196   6114   0.032\n",
       "7           lib_2  barcoded variants       deletion              69   6114   0.011\n",
       "8   all libraries  barcoded variants  nonsynonymous            7357  12226   0.602\n",
       "9   all libraries  barcoded variants     synonymous             382  12226   0.031\n",
       "10  all libraries  barcoded variants           stop             411  12226   0.034\n",
       "11  all libraries  barcoded variants       deletion             125  12226   0.010"
      ]
     },
     "execution_count": 20,
     "metadata": {},
     "output_type": "execute_result"
    }
   ],
   "source": [
    "variants.numCodonMutsByType(\"single\", samples=None).round(3)"
   ]
  },
  {
   "cell_type": "code",
   "execution_count": 21,
   "metadata": {
    "execution": {
     "iopub.execute_input": "2023-03-19T14:15:56.019636Z",
     "iopub.status.busy": "2023-03-19T14:15:56.019453Z",
     "iopub.status.idle": "2023-03-19T14:15:56.333448Z",
     "shell.execute_reply": "2023-03-19T14:15:56.332929Z",
     "shell.execute_reply.started": "2023-03-19T14:15:56.019620Z"
    }
   },
   "outputs": [
    {
     "data": {
      "text/html": [
       "<div>\n",
       "<style scoped>\n",
       "    .dataframe tbody tr th:only-of-type {\n",
       "        vertical-align: middle;\n",
       "    }\n",
       "\n",
       "    .dataframe tbody tr th {\n",
       "        vertical-align: top;\n",
       "    }\n",
       "\n",
       "    .dataframe thead th {\n",
       "        text-align: right;\n",
       "    }\n",
       "</style>\n",
       "<table border=\"1\" class=\"dataframe\">\n",
       "  <thead>\n",
       "    <tr style=\"text-align: right;\">\n",
       "      <th></th>\n",
       "      <th>library</th>\n",
       "      <th>sample</th>\n",
       "      <th>mutation_type</th>\n",
       "      <th>num_muts_count</th>\n",
       "      <th>count</th>\n",
       "      <th>number</th>\n",
       "    </tr>\n",
       "  </thead>\n",
       "  <tbody>\n",
       "    <tr>\n",
       "      <th>0</th>\n",
       "      <td>lib_1</td>\n",
       "      <td>barcoded variants</td>\n",
       "      <td>nonsynonymous</td>\n",
       "      <td>26917</td>\n",
       "      <td>15000</td>\n",
       "      <td>1.794</td>\n",
       "    </tr>\n",
       "    <tr>\n",
       "      <th>1</th>\n",
       "      <td>lib_1</td>\n",
       "      <td>barcoded variants</td>\n",
       "      <td>synonymous</td>\n",
       "      <td>1476</td>\n",
       "      <td>15000</td>\n",
       "      <td>0.098</td>\n",
       "    </tr>\n",
       "    <tr>\n",
       "      <th>2</th>\n",
       "      <td>lib_1</td>\n",
       "      <td>barcoded variants</td>\n",
       "      <td>stop</td>\n",
       "      <td>1457</td>\n",
       "      <td>15000</td>\n",
       "      <td>0.097</td>\n",
       "    </tr>\n",
       "    <tr>\n",
       "      <th>3</th>\n",
       "      <td>lib_1</td>\n",
       "      <td>barcoded variants</td>\n",
       "      <td>deletion</td>\n",
       "      <td>445</td>\n",
       "      <td>15000</td>\n",
       "      <td>0.030</td>\n",
       "    </tr>\n",
       "    <tr>\n",
       "      <th>4</th>\n",
       "      <td>lib_2</td>\n",
       "      <td>barcoded variants</td>\n",
       "      <td>nonsynonymous</td>\n",
       "      <td>26919</td>\n",
       "      <td>15000</td>\n",
       "      <td>1.795</td>\n",
       "    </tr>\n",
       "    <tr>\n",
       "      <th>5</th>\n",
       "      <td>lib_2</td>\n",
       "      <td>barcoded variants</td>\n",
       "      <td>synonymous</td>\n",
       "      <td>1485</td>\n",
       "      <td>15000</td>\n",
       "      <td>0.099</td>\n",
       "    </tr>\n",
       "    <tr>\n",
       "      <th>6</th>\n",
       "      <td>lib_2</td>\n",
       "      <td>barcoded variants</td>\n",
       "      <td>stop</td>\n",
       "      <td>1425</td>\n",
       "      <td>15000</td>\n",
       "      <td>0.095</td>\n",
       "    </tr>\n",
       "    <tr>\n",
       "      <th>7</th>\n",
       "      <td>lib_2</td>\n",
       "      <td>barcoded variants</td>\n",
       "      <td>deletion</td>\n",
       "      <td>458</td>\n",
       "      <td>15000</td>\n",
       "      <td>0.031</td>\n",
       "    </tr>\n",
       "    <tr>\n",
       "      <th>8</th>\n",
       "      <td>all libraries</td>\n",
       "      <td>barcoded variants</td>\n",
       "      <td>nonsynonymous</td>\n",
       "      <td>53836</td>\n",
       "      <td>30000</td>\n",
       "      <td>1.795</td>\n",
       "    </tr>\n",
       "    <tr>\n",
       "      <th>9</th>\n",
       "      <td>all libraries</td>\n",
       "      <td>barcoded variants</td>\n",
       "      <td>synonymous</td>\n",
       "      <td>2961</td>\n",
       "      <td>30000</td>\n",
       "      <td>0.099</td>\n",
       "    </tr>\n",
       "    <tr>\n",
       "      <th>10</th>\n",
       "      <td>all libraries</td>\n",
       "      <td>barcoded variants</td>\n",
       "      <td>stop</td>\n",
       "      <td>2882</td>\n",
       "      <td>30000</td>\n",
       "      <td>0.096</td>\n",
       "    </tr>\n",
       "    <tr>\n",
       "      <th>11</th>\n",
       "      <td>all libraries</td>\n",
       "      <td>barcoded variants</td>\n",
       "      <td>deletion</td>\n",
       "      <td>903</td>\n",
       "      <td>30000</td>\n",
       "      <td>0.030</td>\n",
       "    </tr>\n",
       "  </tbody>\n",
       "</table>\n",
       "</div>"
      ],
      "text/plain": [
       "          library             sample  mutation_type  num_muts_count  count  number\n",
       "0           lib_1  barcoded variants  nonsynonymous           26917  15000   1.794\n",
       "1           lib_1  barcoded variants     synonymous            1476  15000   0.098\n",
       "2           lib_1  barcoded variants           stop            1457  15000   0.097\n",
       "3           lib_1  barcoded variants       deletion             445  15000   0.030\n",
       "4           lib_2  barcoded variants  nonsynonymous           26919  15000   1.795\n",
       "5           lib_2  barcoded variants     synonymous            1485  15000   0.099\n",
       "6           lib_2  barcoded variants           stop            1425  15000   0.095\n",
       "7           lib_2  barcoded variants       deletion             458  15000   0.031\n",
       "8   all libraries  barcoded variants  nonsynonymous           53836  30000   1.795\n",
       "9   all libraries  barcoded variants     synonymous            2961  30000   0.099\n",
       "10  all libraries  barcoded variants           stop            2882  30000   0.096\n",
       "11  all libraries  barcoded variants       deletion             903  30000   0.030"
      ]
     },
     "execution_count": 21,
     "metadata": {},
     "output_type": "execute_result"
    }
   ],
   "source": [
    "variants.numCodonMutsByType(\"all\", samples=None).round(3)"
   ]
  },
  {
   "cell_type": "markdown",
   "metadata": {},
   "source": [
    "Examine how well amino-acid mutations are sampled in the library by looking at the\n",
    "fraction\n",
    "of mutations seen <= some number of times.\n",
    "Here we do that for amino-\n",
    "acid mutations, making separate plots for single mutants and all mutants:"
   ]
  },
  {
   "cell_type": "code",
   "execution_count": 22,
   "metadata": {
    "attributes": {
     "classes": [],
     "id": "",
     "n": "19"
    },
    "execution": {
     "iopub.execute_input": "2023-03-19T14:15:56.334524Z",
     "iopub.status.busy": "2023-03-19T14:15:56.334350Z",
     "iopub.status.idle": "2023-03-19T14:15:57.037833Z",
     "shell.execute_reply": "2023-03-19T14:15:57.037240Z",
     "shell.execute_reply.started": "2023-03-19T14:15:56.334508Z"
    }
   },
   "outputs": [],
   "source": [
    "# NBVAL_IGNORE_OUTPUT\n",
    "\n",
    "for variant_type in [\"single\", \"all\"]:\n",
    "    p = variants.plotCumulMutCoverage(variant_type, mut_type=\"aa\", samples=None)\n",
    "    _ = p.draw()"
   ]
  },
  {
   "cell_type": "markdown",
   "metadata": {},
   "source": [
    "We can also get the numerical information plotted above (here for single mutants\n",
    "only):"
   ]
  },
  {
   "cell_type": "code",
   "execution_count": 23,
   "metadata": {
    "attributes": {
     "classes": [],
     "id": "",
     "n": "20"
    },
    "execution": {
     "iopub.execute_input": "2023-03-19T14:15:57.039203Z",
     "iopub.status.busy": "2023-03-19T14:15:57.039012Z",
     "iopub.status.idle": "2023-03-19T14:15:57.172907Z",
     "shell.execute_reply": "2023-03-19T14:15:57.172287Z",
     "shell.execute_reply.started": "2023-03-19T14:15:57.039187Z"
    }
   },
   "outputs": [
    {
     "data": {
      "text/html": [
       "<div>\n",
       "<style scoped>\n",
       "    .dataframe tbody tr th:only-of-type {\n",
       "        vertical-align: middle;\n",
       "    }\n",
       "\n",
       "    .dataframe tbody tr th {\n",
       "        vertical-align: top;\n",
       "    }\n",
       "\n",
       "    .dataframe thead th {\n",
       "        text-align: right;\n",
       "    }\n",
       "</style>\n",
       "<table border=\"1\" class=\"dataframe\">\n",
       "  <thead>\n",
       "    <tr style=\"text-align: right;\">\n",
       "      <th></th>\n",
       "      <th>library</th>\n",
       "      <th>sample</th>\n",
       "      <th>mutation</th>\n",
       "      <th>count</th>\n",
       "      <th>mutation_type</th>\n",
       "      <th>site</th>\n",
       "    </tr>\n",
       "  </thead>\n",
       "  <tbody>\n",
       "    <tr>\n",
       "      <th>0</th>\n",
       "      <td>lib_1</td>\n",
       "      <td>barcoded variants</td>\n",
       "      <td>T9L</td>\n",
       "      <td>24</td>\n",
       "      <td>nonsynonymous</td>\n",
       "      <td>9</td>\n",
       "    </tr>\n",
       "    <tr>\n",
       "      <th>1</th>\n",
       "      <td>lib_1</td>\n",
       "      <td>barcoded variants</td>\n",
       "      <td>A7R</td>\n",
       "      <td>21</td>\n",
       "      <td>nonsynonymous</td>\n",
       "      <td>7</td>\n",
       "    </tr>\n",
       "    <tr>\n",
       "      <th>2</th>\n",
       "      <td>lib_1</td>\n",
       "      <td>barcoded variants</td>\n",
       "      <td>R1L</td>\n",
       "      <td>21</td>\n",
       "      <td>nonsynonymous</td>\n",
       "      <td>1</td>\n",
       "    </tr>\n",
       "    <tr>\n",
       "      <th>3</th>\n",
       "      <td>lib_1</td>\n",
       "      <td>barcoded variants</td>\n",
       "      <td>N10L</td>\n",
       "      <td>20</td>\n",
       "      <td>nonsynonymous</td>\n",
       "      <td>10</td>\n",
       "    </tr>\n",
       "    <tr>\n",
       "      <th>4</th>\n",
       "      <td>lib_1</td>\n",
       "      <td>barcoded variants</td>\n",
       "      <td>N27S</td>\n",
       "      <td>20</td>\n",
       "      <td>nonsynonymous</td>\n",
       "      <td>27</td>\n",
       "    </tr>\n",
       "  </tbody>\n",
       "</table>\n",
       "</div>"
      ],
      "text/plain": [
       "  library             sample mutation  count  mutation_type  site\n",
       "0   lib_1  barcoded variants      T9L     24  nonsynonymous     9\n",
       "1   lib_1  barcoded variants      A7R     21  nonsynonymous     7\n",
       "2   lib_1  barcoded variants      R1L     21  nonsynonymous     1\n",
       "3   lib_1  barcoded variants     N10L     20  nonsynonymous    10\n",
       "4   lib_1  barcoded variants     N27S     20  nonsynonymous    27"
      ]
     },
     "execution_count": 23,
     "metadata": {},
     "output_type": "execute_result"
    }
   ],
   "source": [
    "variants.mutCounts(\"single\", \"aa\", samples=None).head(n=5)"
   ]
  },
  {
   "cell_type": "markdown",
   "metadata": {},
   "source": [
    "Here are the frequencies of mutations along the gene, looking both at single\n",
    "mutants and all mutants:"
   ]
  },
  {
   "cell_type": "code",
   "execution_count": 24,
   "metadata": {
    "attributes": {
     "classes": [],
     "id": "",
     "n": "21"
    },
    "execution": {
     "iopub.execute_input": "2023-03-19T14:15:57.174330Z",
     "iopub.status.busy": "2023-03-19T14:15:57.174046Z",
     "iopub.status.idle": "2023-03-19T14:15:58.196987Z",
     "shell.execute_reply": "2023-03-19T14:15:58.196242Z",
     "shell.execute_reply.started": "2023-03-19T14:15:57.174313Z"
    }
   },
   "outputs": [],
   "source": [
    "# NBVAL_IGNORE_OUTPUT\n",
    "\n",
    "for variant_type in [\"single\", \"all\"]:\n",
    "    p = variants.plotMutFreqs(variant_type, \"codon\", samples=None)\n",
    "    _ = p.draw()"
   ]
  },
  {
   "cell_type": "markdown",
   "metadata": {},
   "source": [
    "We can also look at mutation frequencies in a heat-map form:"
   ]
  },
  {
   "cell_type": "code",
   "execution_count": 25,
   "metadata": {
    "attributes": {
     "classes": [],
     "id": "",
     "n": "23"
    },
    "execution": {
     "iopub.execute_input": "2023-03-19T14:15:58.198165Z",
     "iopub.status.busy": "2023-03-19T14:15:58.197872Z",
     "iopub.status.idle": "2023-03-19T14:15:58.715362Z",
     "shell.execute_reply": "2023-03-19T14:15:58.714796Z",
     "shell.execute_reply.started": "2023-03-19T14:15:58.198147Z"
    },
    "tags": []
   },
   "outputs": [],
   "source": [
    "p = variants.plotMutHeatmap(\"all\", \"aa\", samples=None)\n",
    "_ = p.draw()"
   ]
  }
 ],
 "metadata": {
  "kernelspec": {
   "display_name": "Python 3 (ipykernel)",
   "language": "python",
   "name": "python3"
  },
  "language_info": {
   "codemirror_mode": {
    "name": "ipython",
    "version": 3
   },
   "file_extension": ".py",
   "mimetype": "text/x-python",
   "name": "python",
   "nbconvert_exporter": "python",
   "pygments_lexer": "ipython3",
   "version": "3.11.0"
  },
  "toc": {
   "base_numbering": 1,
   "nav_menu": {},
   "number_sections": false,
   "sideBar": true,
   "skip_h1_title": false,
   "title_cell": "Table of Contents",
   "title_sidebar": "Contents",
   "toc_cell": false,
   "toc_position": {
    "height": "844.4px",
    "left": "0px",
    "right": "1281.8px",
    "top": "111.6px",
    "width": "226.2px"
   },
   "toc_section_display": true,
   "toc_window_display": true
  }
 },
 "nbformat": 4,
 "nbformat_minor": 4
}
