{
 "cells": [
  {
   "cell_type": "markdown",
   "metadata": {},
   "source": [
    "# Analyzing escape from polyclonal antibodies"
   ]
  },
  {
   "cell_type": "markdown",
   "metadata": {},
   "source": [
    "## Overview and theory\n",
    "Here we consider the situations where a viral protein is bound by polyclonal antibodies, such as might be found in sera.\n",
    "We want to determine the contribution of each mutation to escaping these antibodies, being cognizant of the fact that different antibodies target different epitopes.\n",
    "\n",
    "The actual experimental measurable quantity is as follows: at each concentration $c$ of the antibody mixture, we measure $p_v\\left(c\\right)$, which is the fraction of all variants $v$ that escape binding (or neutralization, whichever is being experimentally measured) by all antibodies in the mix.\n",
    "For instance, $p_v\\left(c\\right)$ might be fraction of variants $v$ that fall into an antibody-escape FACS bin (in a yeast-display deep mutational scanning experiment as in [Greaney et al (2020)](https://www.sciencedirect.com/science/article/pii/S1931312821000822)) or that are not neutralized (in a virus neutralization deep mutational scanning experiment as in [Lee et al (2019)](https://elifesciences.org/articles/49324)).\n",
    "\n",
    "We assume that antibodies in the mix can bind to one of $E$ epitopes on the protein.\n",
    "Let $U_e\\left(v,c\\right)$ be the fraction of the time that epitope $e$ is not bound on variant $v$ when the mix is at concentration $c$.\n",
    "Then assuming antibodies bind independently without competiton, the overall experimentally measured fraction of variants that escape binding at concentration $c$ is simply:\n",
    "$$\n",
    "p_v\\left(c\\right) = \\prod_{e=1}^E U_e\\left(v, c\\right),\n",
    "\\label{pv} \\tag{1}\n",
    "$$\n",
    "where $e$ ranges over the $E$ epitopes.\n",
    "\n",
    "We next want to write $U_e\\left(v,c\\right)$ (the fraction of time epitope $e$ is unbound for variant $v$ at concentration $c$) in terms that can be related to underlying physical properties like the relative concentrations of antibodies targeting different epitopes, and the affinities of these antibodies.\n",
    "If we assume that there is no competiton among antibodies binding to different epitopes, that all antibodies targeting a given epitope have same affinity, and that there is no cooperativity in antibody binding (Hill coefficient of antibody binding is one), then the fraction of all variants $v$ that are not bound by an antibody targeting epitope $e$ at concentration $c$ is given by a Hill equation:\n",
    "$$\n",
    "\\begin{eqnarray}\n",
    "U_e\\left(v, c\\right) &=& \\frac{1}{1 + \\frac{c f_e}{K_{d,e}\\left(v\\right)}} \\\\\n",
    "&=& \\frac{1}{1 + c f_e \\exp \\left(-\\frac{\\Delta G_e\\left(v\\right)}{RT}\\right)} \\\\\n",
    "&=& \\frac{1}{1 + c \\exp \\left(-\\phi_e\\left(v\\right)\\right)}, \\\\\n",
    "\\label{Ue} \\tag{2}\n",
    "\\end{eqnarray}\n",
    "$$\n",
    "where $\\phi_e\\left(v\\right)$ represents the total binding activity of antibodies to epitope $e$ against variant $v$, and is related to the free energy of binding $\\Delta G_e\\left(v\\right)$ and the fraction of antibodies targeting epitope $e$ by $\\phi_e\\left(v\\right) = \\frac{\\Delta G_e\\left(v\\right)}{RT} - \\ln f_e$; note that $RT$ is the product of the molar gas constant and the temperature and $K_{d,e}= \\exp\\left(\\frac{\\Delta G_e\\left(v\\right)}{RT}\\right)$ is the dissociation constant.\n",
    "The value of $\\phi_e\\left(v\\right)$ depends both on the affinity of antibodies targeting epitope $e$ (via $\\Delta G_e\\left(v\\right)$) and on the abundance of antibodies with this specificity in the overall mix (via $f_c$), and so is a measure of the overall importance of antibodies with this specificity in the polyclonal mix.\n",
    "Smaller (more negative) values of $\\phi_e\\left(v\\right)$ correspond to a higher overall contribution of antibodies with specificity for epitope $e$ to the activity against variant $v$.\n",
    "\n",
    "Finally, we want to frame $\\phi_e\\left(v\\right)$ in terms of the actual quantities of biological interest.\n",
    "There are two quantities of biological interest:\n",
    "1. The activity of antibodies binding epitope $e$ in the unmutated (\"wildtype\") protein background.\n",
    "2. The effect of each amino-acid mutation on binding of antibodies targeting epitope $e$.\n",
    "\n",
    "In order to infer these quantities, we make the assumption that muations have additive effects on the free energy of binding (and so $\\phi_e\\left(v\\right)$) for antibodies targeting any given epitope $e$.\n",
    "Specifically, let $a_{\\rm{wt}, e}$ be the total activity against the \"wildtype\" protein of of antibodies targeting epitope $e$, with larger values of $a_{\\rm{wt}, e}$ indicating stronger antibody binding (or neutralization) at this epitope.\n",
    "Let $\\beta_{m,e}$ be the extent to which mutation $m$ (where $1 \\le m \\le M$) reduces binding by antibodies targeting epitope $e$, with larger values of $\\beta_{m,e}$ corresponding to more escape from binding (a value of 0 means the mutation has no effect on antibodies targeting this epitope).\n",
    "We can then write:\n",
    "$$\n",
    "\\phi_e\\left(v\\right) = -a_{\\rm{wt}, e} + \\sum_{m=1}^M \\beta_{m,e} b\\left(v\\right)_m\n",
    "\\label{phie} \\tag{3}\n",
    "$$\n",
    "where $b\\left(v\\right)_m$ is one if variant $v$ has mutation $m$ and 0 otherwise.\n",
    "\n",
    "Together, Equations \\eqref{pv}, \\eqref{Ue}, and \\eqref{phie} relate the quantities of biological interest ($a_{\\rm{wt}, e}$ and $\\beta_{m,e}$) to the experimental measurables ($p_v\\left(c\\right)$)."
   ]
  },
  {
   "cell_type": "code",
   "execution_count": null,
   "metadata": {},
   "outputs": [],
   "source": []
  }
 ],
 "metadata": {
  "kernelspec": {
   "display_name": "Python 3",
   "language": "python",
   "name": "python3"
  },
  "language_info": {
   "codemirror_mode": {
    "name": "ipython",
    "version": 3
   },
   "file_extension": ".py",
   "mimetype": "text/x-python",
   "name": "python",
   "nbconvert_exporter": "python",
   "pygments_lexer": "ipython3",
   "version": "3.8.5"
  }
 },
 "nbformat": 4,
 "nbformat_minor": 4
}
