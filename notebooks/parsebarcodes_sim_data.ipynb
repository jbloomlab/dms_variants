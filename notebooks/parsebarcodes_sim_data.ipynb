{
 "cells": [
  {
   "cell_type": "markdown",
   "metadata": {},
   "source": [
    "# Parse barcodes\n",
    "Simulate some Illumina reads giving barcode counts of variants, parse them from the simulated FASTQ files, and add them to a variant table.\n",
    "Primarily designed to illustrate how to use an [IlluminaBarcodeParser](https://jbloomlab.github.io/dms_variants/dms_variants.illuminabarcodeparser.html#dms_variants.illuminabarcodeparser.IlluminaBarcodeParser) to parse barcode counts and add them to a [CodonVariantTable](https://jbloomlab.github.io/dms_variants/dms_variants.codonvarianttable.html#dms_variants.codonvarianttable.CodonVariantTable)."
   ]
  },
  {
   "cell_type": "markdown",
   "metadata": {},
   "source": [
    "## Setup for analysis\n",
    "Import Python modules / packages.\n",
    "We use [plotnine](https://plotnine.readthedocs.io) for ggplot2-like plotting:"
   ]
  },
  {
   "cell_type": "code",
   "execution_count": 1,
   "metadata": {
    "attributes": {
     "classes": [],
     "id": "",
     "n": "1"
    }
   },
   "outputs": [],
   "source": [
    "import random\n",
    "import tempfile\n",
    "import warnings\n",
    "\n",
    "import pandas as pd\n",
    "\n",
    "from plotnine import *\n",
    "\n",
    "from dms_variants.codonvarianttable import CodonVariantTable\n",
    "from dms_variants.constants import CBPALETTE\n",
    "import dms_variants.illuminabarcodeparser\n",
    "import dms_variants.plotnine_themes\n",
    "from dms_variants.simulate import mutate_seq, rand_seq, simulate_CodonVariantTable\n",
    "from dms_variants.utils import reverse_complement"
   ]
  },
  {
   "cell_type": "markdown",
   "metadata": {},
   "source": [
    "Seed random number generator:"
   ]
  },
  {
   "cell_type": "code",
   "execution_count": 2,
   "metadata": {
    "attributes": {
     "classes": [],
     "id": "",
     "n": "3"
    }
   },
   "outputs": [],
   "source": [
    "random.seed(1)"
   ]
  },
  {
   "cell_type": "markdown",
   "metadata": {},
   "source": [
    "Hide warnings that clutter output:"
   ]
  },
  {
   "cell_type": "code",
   "execution_count": 3,
   "metadata": {
    "attributes": {
     "classes": [],
     "id": "",
     "n": "5"
    }
   },
   "outputs": [],
   "source": [
    "warnings.simplefilter(\"ignore\")"
   ]
  },
  {
   "cell_type": "markdown",
   "metadata": {},
   "source": [
    "Set the gray grid [plotnine theme](https://plotnine.readthedocs.io/en/stable/generated/plotnine.themes.theme.html?highlight=themes) defined in [dms_variants.plotnine_themes](https://jbloomlab.github.io/dms_variants/dms_variants.plotnine_themes.html) as this gives a nice appearance for the plots:"
   ]
  },
  {
   "cell_type": "code",
   "execution_count": 4,
   "metadata": {},
   "outputs": [],
   "source": [
    "theme_set(dms_variants.plotnine_themes.theme_graygrid())"
   ]
  },
  {
   "cell_type": "markdown",
   "metadata": {},
   "source": [
    "## Create small variant table\n",
    "We simulate a small [CodonVariantTable](https://jbloomlab.github.io/dms_variants/dms_variants.codonvarianttable.html#dms_variants.codonvarianttable.CodonVariantTable) for one libraries with three variants, with short 8-nucleotide barcodes.\n",
    "We simulate the table using using\n",
    "[simulate_CodonVariantTable](https://jbloomlab.github.io/dms_variants/dms_variants.simulate.html#dms_variants.simulate.simulate_CodonVariantTable):"
   ]
  },
  {
   "cell_type": "code",
   "execution_count": 5,
   "metadata": {
    "attributes": {
     "classes": [],
     "id": "",
     "n": "6"
    }
   },
   "outputs": [],
   "source": [
    "bclen = 8\n",
    "\n",
    "variants = simulate_CodonVariantTable(\n",
    "    geneseq=rand_seq(30),\n",
    "    bclen=bclen,\n",
    "    library_specs={\"lib_1\": {\"avgmuts\": 1.5, \"nvariants\": 3}},\n",
    "    seed=1,\n",
    ")"
   ]
  },
  {
   "cell_type": "markdown",
   "metadata": {},
   "source": [
    "Here are the variants in the simulated table:"
   ]
  },
  {
   "cell_type": "code",
   "execution_count": 6,
   "metadata": {
    "attributes": {
     "classes": [],
     "id": "",
     "n": "8"
    }
   },
   "outputs": [
    {
     "data": {
      "text/html": [
       "<div>\n",
       "<style scoped>\n",
       "    .dataframe tbody tr th:only-of-type {\n",
       "        vertical-align: middle;\n",
       "    }\n",
       "\n",
       "    .dataframe tbody tr th {\n",
       "        vertical-align: top;\n",
       "    }\n",
       "\n",
       "    .dataframe thead th {\n",
       "        text-align: right;\n",
       "    }\n",
       "</style>\n",
       "<table border=\"1\" class=\"dataframe\">\n",
       "  <thead>\n",
       "    <tr style=\"text-align: right;\">\n",
       "      <th></th>\n",
       "      <th>library</th>\n",
       "      <th>barcode</th>\n",
       "      <th>variant_call_support</th>\n",
       "      <th>codon_substitutions</th>\n",
       "      <th>aa_substitutions</th>\n",
       "      <th>n_codon_substitutions</th>\n",
       "      <th>n_aa_substitutions</th>\n",
       "    </tr>\n",
       "  </thead>\n",
       "  <tbody>\n",
       "    <tr>\n",
       "      <th>0</th>\n",
       "      <td>lib_1</td>\n",
       "      <td>ATTCCCGT</td>\n",
       "      <td>1</td>\n",
       "      <td>CAG1CTA AGA7GCT</td>\n",
       "      <td>Q1L R7A</td>\n",
       "      <td>2</td>\n",
       "      <td>2</td>\n",
       "    </tr>\n",
       "    <tr>\n",
       "      <th>1</th>\n",
       "      <td>lib_1</td>\n",
       "      <td>TACGATTA</td>\n",
       "      <td>1</td>\n",
       "      <td>TCT9AAA</td>\n",
       "      <td>S9K</td>\n",
       "      <td>1</td>\n",
       "      <td>1</td>\n",
       "    </tr>\n",
       "    <tr>\n",
       "      <th>2</th>\n",
       "      <td>lib_1</td>\n",
       "      <td>TCACAACC</td>\n",
       "      <td>1</td>\n",
       "      <td></td>\n",
       "      <td></td>\n",
       "      <td>0</td>\n",
       "      <td>0</td>\n",
       "    </tr>\n",
       "  </tbody>\n",
       "</table>\n",
       "</div>"
      ],
      "text/plain": [
       "  library   barcode  variant_call_support codon_substitutions  \\\n",
       "0   lib_1  ATTCCCGT                     1     CAG1CTA AGA7GCT   \n",
       "1   lib_1  TACGATTA                     1             TCT9AAA   \n",
       "2   lib_1  TCACAACC                     1                       \n",
       "\n",
       "  aa_substitutions  n_codon_substitutions  n_aa_substitutions  \n",
       "0          Q1L R7A                      2                   2  \n",
       "1              S9K                      1                   1  \n",
       "2                                       0                   0  "
      ]
     },
     "execution_count": 6,
     "metadata": {},
     "output_type": "execute_result"
    }
   ],
   "source": [
    "variants.barcode_variant_df"
   ]
  },
  {
   "cell_type": "markdown",
   "metadata": {},
   "source": [
    "## Simulate barcode reads"
   ]
  },
  {
   "cell_type": "markdown",
   "metadata": {
    "attributes": {
     "classes": [],
     "id": "",
     "n": "12"
    }
   },
   "source": [
    "We are now going to simulate barcode reads that we will then parse with the [IlluminaBarcodeParser](https://jbloomlab.github.io/dms_variants/dms_variants.illuminabarcodeparser.html#dms_variants.illuminabarcodeparser.IlluminaBarcodeParser).\n",
    "This parser is designed to parse reads that have this structure:\n",
    "\n",
    "    5'-[R2_start]-upstream-barcode-downstream-[R1_start]-3'\n",
    "    \n",
    "where the R2 read is optional.\n",
    "Note that we use the convention that the variant table defines the *barcode* sequence in the **orientation read by R1**, which is the reverse complement of the orientation shown in the schematic immediately above.\n",
    "\n",
    "Here we will simulate a common setup where there is no R2 read, and the *downstream* sequence between the barcode and the R1 start is non-existent (R1 is flush against the barcode).\n",
    "That means we still have to define an upstream sequence (we'll make this 10 nucleotides long).\n",
    "We also get the reverse complement of this upstream sequence, which is what is found in the R1 reads:"
   ]
  },
  {
   "cell_type": "code",
   "execution_count": 7,
   "metadata": {},
   "outputs": [
    {
     "name": "stdout",
     "output_type": "stream",
     "text": [
      "`upstream` sequence is CCTGATACGA; reverse complement is TCGTATCAGG\n"
     ]
    }
   ],
   "source": [
    "upstream = rand_seq(10)\n",
    "upstream_rc = reverse_complement(upstream)\n",
    "print(f\"`upstream` sequence is {upstream}; reverse complement is {upstream_rc}\")"
   ]
  },
  {
   "cell_type": "markdown",
   "metadata": {},
   "source": [
    "We also simulate how many counts of each barcode we'll have:"
   ]
  },
  {
   "cell_type": "code",
   "execution_count": 8,
   "metadata": {},
   "outputs": [
    {
     "data": {
      "text/html": [
       "<div>\n",
       "<style scoped>\n",
       "    .dataframe tbody tr th:only-of-type {\n",
       "        vertical-align: middle;\n",
       "    }\n",
       "\n",
       "    .dataframe tbody tr th {\n",
       "        vertical-align: top;\n",
       "    }\n",
       "\n",
       "    .dataframe thead th {\n",
       "        text-align: right;\n",
       "    }\n",
       "</style>\n",
       "<table border=\"1\" class=\"dataframe\">\n",
       "  <thead>\n",
       "    <tr style=\"text-align: right;\">\n",
       "      <th></th>\n",
       "      <th>library</th>\n",
       "      <th>barcode</th>\n",
       "      <th>count</th>\n",
       "    </tr>\n",
       "  </thead>\n",
       "  <tbody>\n",
       "    <tr>\n",
       "      <th>0</th>\n",
       "      <td>lib_1</td>\n",
       "      <td>ATTCCCGT</td>\n",
       "      <td>2</td>\n",
       "    </tr>\n",
       "    <tr>\n",
       "      <th>1</th>\n",
       "      <td>lib_1</td>\n",
       "      <td>TACGATTA</td>\n",
       "      <td>1</td>\n",
       "    </tr>\n",
       "    <tr>\n",
       "      <th>2</th>\n",
       "      <td>lib_1</td>\n",
       "      <td>TCACAACC</td>\n",
       "      <td>2</td>\n",
       "    </tr>\n",
       "  </tbody>\n",
       "</table>\n",
       "</div>"
      ],
      "text/plain": [
       "  library   barcode  count\n",
       "0   lib_1  ATTCCCGT      2\n",
       "1   lib_1  TACGATTA      1\n",
       "2   lib_1  TCACAACC      2"
      ]
     },
     "execution_count": 8,
     "metadata": {},
     "output_type": "execute_result"
    }
   ],
   "source": [
    "simulated_barcode_counts = variants.barcode_variant_df[[\"library\", \"barcode\"]].assign(\n",
    "    count=lambda x: [random.randint(0, 2) for _ in range(len(x))]\n",
    ")\n",
    "\n",
    "simulated_barcode_counts"
   ]
  },
  {
   "cell_type": "markdown",
   "metadata": {},
   "source": [
    "Now we simulate the actual Illumina barcode reads that give these counts.\n",
    "When we parse the barcodes, we'll allow up to one mismatch in the upstream sequence, so sometimes add such a mismatch.\n",
    "Also, since these reads are in the orientation read by R1, we generate them by adding the barcodes (which we are already representing in the R1 orientation) with the reverse-complement of the *upstream* sequence (since R1 reads into the upstream sequence backwards):"
   ]
  },
  {
   "cell_type": "code",
   "execution_count": 9,
   "metadata": {},
   "outputs": [],
   "source": [
    "barcode_seqs = []\n",
    "for tup in simulated_barcode_counts.itertuples():\n",
    "    for _ in range(tup.count):\n",
    "        barcode_seqs.append(tup.barcode + mutate_seq(upstream_rc, random.randint(0, 1)))"
   ]
  },
  {
   "cell_type": "markdown",
   "metadata": {},
   "source": [
    "We will also now add a few sequences that are **not** do not parse to valid barcodes.\n",
    "First, add a few where the barcode sequence is invalid (not among the true barcodes in the variant table):"
   ]
  },
  {
   "cell_type": "code",
   "execution_count": 10,
   "metadata": {},
   "outputs": [],
   "source": [
    "n_invalid = 3\n",
    "valid_barcodes = simulated_barcode_counts[\"barcode\"].tolist()\n",
    "for _ in range(n_invalid):\n",
    "    barcode_seqs.append(rand_seq(bclen, exclude=valid_barcodes) + upstream_rc)"
   ]
  },
  {
   "cell_type": "markdown",
   "metadata": {},
   "source": [
    "Next add a few that are unparseable because the *upstream* sequence has too many mutations to be recognized:"
   ]
  },
  {
   "cell_type": "code",
   "execution_count": 11,
   "metadata": {},
   "outputs": [],
   "source": [
    "n_unparseable = 2\n",
    "for _ in range(n_unparseable):\n",
    "    barcode_seqs.append(random.choice(valid_barcodes) + mutate_seq(upstream_rc, 2))"
   ]
  },
  {
   "cell_type": "markdown",
   "metadata": {},
   "source": [
    "Finally, we will specify a few low-quality sequences.\n",
    "First, define the minimum quality score in the barcode region that we will consider acceptable:"
   ]
  },
  {
   "cell_type": "code",
   "execution_count": 12,
   "metadata": {},
   "outputs": [],
   "source": [
    "minq = 20\n",
    "minq_char = chr(minq + 33)  # corresponding character for Q score"
   ]
  },
  {
   "cell_type": "markdown",
   "metadata": {},
   "source": [
    "Add a sufficient quality Q-score string to all the reads in `barcode_seqs`:"
   ]
  },
  {
   "cell_type": "code",
   "execution_count": 13,
   "metadata": {},
   "outputs": [],
   "source": [
    "barcode_seqs = [(seq, minq_char * len(seq)) for seq in barcode_seqs]"
   ]
  },
  {
   "cell_type": "markdown",
   "metadata": {},
   "source": [
    "Finally, we add a few sequences with excessively low-quality barcode reads by taking the first few valid entries in `barcode_seqs` and adding a copy with a lower Q-score:"
   ]
  },
  {
   "cell_type": "code",
   "execution_count": 14,
   "metadata": {},
   "outputs": [],
   "source": [
    "lowq_char = chr(minq + 33 - 1)  # low-quality Q-score\n",
    "n_low_quality = 1\n",
    "for seq, q in barcode_seqs[:n_low_quality]:\n",
    "    barcode_seqs.append((seq, lowq_char + q[1:]))"
   ]
  },
  {
   "cell_type": "markdown",
   "metadata": {},
   "source": [
    "Finally, we will generate the contents of a FASTQ file holding these sequences.\n",
    "In order to do that, we need to specify the quality scores for the sequences"
   ]
  },
  {
   "cell_type": "code",
   "execution_count": 15,
   "metadata": {},
   "outputs": [
    {
     "name": "stdout",
     "output_type": "stream",
     "text": [
      "Here is the simulated FASTQ file:\n",
      "-------------\n",
      "@read1\n",
      "ATTCCCGTTCGTATCATG\n",
      "+\n",
      "555555555555555555\n",
      "@read2\n",
      "ATTCCCGTTCGTATCAGG\n",
      "+\n",
      "555555555555555555\n",
      "@read3\n",
      "TACGATTATCGTTTCAGG\n",
      "+\n",
      "555555555555555555\n",
      "@read4\n",
      "TCACAACCTCGTATCACG\n",
      "+\n",
      "555555555555555555\n",
      "@read5\n",
      "TCACAACCTCGTATCAGG\n",
      "+\n",
      "555555555555555555\n",
      "@read6\n",
      "TCTTCGGATCGTATCAGG\n",
      "+\n",
      "555555555555555555\n",
      "@read7\n",
      "TACTGTATTCGTATCAGG\n",
      "+\n",
      "555555555555555555\n",
      "@read8\n",
      "AGTCCCACTCGTATCAGG\n",
      "+\n",
      "555555555555555555\n",
      "@read9\n",
      "TCACAACCTCGGATCACG\n",
      "+\n",
      "555555555555555555\n",
      "@read10\n",
      "TACGATTATCGTACCAGC\n",
      "+\n",
      "555555555555555555\n",
      "@read11\n",
      "ATTCCCGTTCGTATCATG\n",
      "+\n",
      "455555555555555555\n"
     ]
    }
   ],
   "source": [
    "fastq_text = \"\\n\".join(\n",
    "    [f\"@read{i + 1}\\n{seq}\\n+\\n{q}\" for i, (seq, q) in enumerate(barcode_seqs)]\n",
    ")\n",
    "\n",
    "print(f\"Here is the simulated FASTQ file:\\n-------------\\n{fastq_text}\")"
   ]
  },
  {
   "cell_type": "markdown",
   "metadata": {},
   "source": [
    "## Parse barcode reads\n",
    "Now we initialize a [IlluminaBarcodeParser](https://jbloomlab.github.io/dms_variants/dms_variants.illuminabarcodeparser.html#dms_variants.illuminabarcodeparser.IlluminaBarcodeParser) to parse the barcodes, allowing one mismatch in the upstream sequence (note if we had a *downstream* sequence we could specify it too).\n",
    "We specify the set of valid barcodes, which we get using the [CodonVariantTable.valid_barcodes](https://jbloomlab.github.io/dms_variants/dms_variants.illuminabarcodeparser.html#dms_variants.illuminabarcodeparser.IlluminaBarcodeParser.valid_barcodes) method of our variant table.\n",
    "Note that if we had multiple libraries, we'd need a different parser for each one as each would have it's own set of valid barcodes:"
   ]
  },
  {
   "cell_type": "code",
   "execution_count": 16,
   "metadata": {
    "attributes": {
     "classes": [],
     "id": "",
     "n": "13"
    }
   },
   "outputs": [],
   "source": [
    "parser = dms_variants.illuminabarcodeparser.IlluminaBarcodeParser(\n",
    "    bclen=bclen,\n",
    "    valid_barcodes=variants.valid_barcodes(\"lib_1\"),\n",
    "    upstream=upstream,\n",
    "    upstream_mismatch=1,\n",
    "    minq=minq,\n",
    ")"
   ]
  },
  {
   "cell_type": "markdown",
   "metadata": {},
   "source": [
    "Now parse the barcodes.\n",
    "First, write the FASTQ to a temporary file, then parse it.\n",
    "We add the name of the library and the sample to the parsed data frames.\n",
    "Then we parse the barcodes using [IlluminaBarcodeParser.parse](https://jbloomlab.github.io/dms_variants/dms_variants.illuminabarcodeparser.html#dms_variants.illuminabarcodeparser.IlluminaBarcodeParser.parse), which returns a 2-tuple of data frames giving the counts of valid barcodes and the fates of all reads that it attempted to parse:"
   ]
  },
  {
   "cell_type": "code",
   "execution_count": 17,
   "metadata": {},
   "outputs": [],
   "source": [
    "with tempfile.NamedTemporaryFile(\"r+\") as fastq:\n",
    "    fastq.write(fastq_text)\n",
    "    fastq.flush()\n",
    "    counts, fates = parser.parse(\n",
    "        r1files=fastq.name,\n",
    "        add_cols={\"library\": \"lib_1\", \"sample\": \"sample_1\"},\n",
    "    )"
   ]
  },
  {
   "cell_type": "markdown",
   "metadata": {},
   "source": [
    "Here are the parsed barcode counts:"
   ]
  },
  {
   "cell_type": "code",
   "execution_count": 18,
   "metadata": {},
   "outputs": [
    {
     "data": {
      "text/html": [
       "<div>\n",
       "<style scoped>\n",
       "    .dataframe tbody tr th:only-of-type {\n",
       "        vertical-align: middle;\n",
       "    }\n",
       "\n",
       "    .dataframe tbody tr th {\n",
       "        vertical-align: top;\n",
       "    }\n",
       "\n",
       "    .dataframe thead th {\n",
       "        text-align: right;\n",
       "    }\n",
       "</style>\n",
       "<table border=\"1\" class=\"dataframe\">\n",
       "  <thead>\n",
       "    <tr style=\"text-align: right;\">\n",
       "      <th></th>\n",
       "      <th>barcode</th>\n",
       "      <th>count</th>\n",
       "      <th>library</th>\n",
       "      <th>sample</th>\n",
       "    </tr>\n",
       "  </thead>\n",
       "  <tbody>\n",
       "    <tr>\n",
       "      <th>0</th>\n",
       "      <td>ATTCCCGT</td>\n",
       "      <td>2</td>\n",
       "      <td>lib_1</td>\n",
       "      <td>sample_1</td>\n",
       "    </tr>\n",
       "    <tr>\n",
       "      <th>1</th>\n",
       "      <td>TCACAACC</td>\n",
       "      <td>2</td>\n",
       "      <td>lib_1</td>\n",
       "      <td>sample_1</td>\n",
       "    </tr>\n",
       "    <tr>\n",
       "      <th>2</th>\n",
       "      <td>TACGATTA</td>\n",
       "      <td>1</td>\n",
       "      <td>lib_1</td>\n",
       "      <td>sample_1</td>\n",
       "    </tr>\n",
       "  </tbody>\n",
       "</table>\n",
       "</div>"
      ],
      "text/plain": [
       "    barcode  count library    sample\n",
       "0  ATTCCCGT      2   lib_1  sample_1\n",
       "1  TCACAACC      2   lib_1  sample_1\n",
       "2  TACGATTA      1   lib_1  sample_1"
      ]
     },
     "execution_count": 18,
     "metadata": {},
     "output_type": "execute_result"
    }
   ],
   "source": [
    "counts"
   ]
  },
  {
   "cell_type": "markdown",
   "metadata": {},
   "source": [
    "Here are the fates of the reads we attempted to parse:"
   ]
  },
  {
   "cell_type": "code",
   "execution_count": 19,
   "metadata": {},
   "outputs": [
    {
     "data": {
      "text/html": [
       "<div>\n",
       "<style scoped>\n",
       "    .dataframe tbody tr th:only-of-type {\n",
       "        vertical-align: middle;\n",
       "    }\n",
       "\n",
       "    .dataframe tbody tr th {\n",
       "        vertical-align: top;\n",
       "    }\n",
       "\n",
       "    .dataframe thead th {\n",
       "        text-align: right;\n",
       "    }\n",
       "</style>\n",
       "<table border=\"1\" class=\"dataframe\">\n",
       "  <thead>\n",
       "    <tr style=\"text-align: right;\">\n",
       "      <th></th>\n",
       "      <th>fate</th>\n",
       "      <th>count</th>\n",
       "      <th>library</th>\n",
       "      <th>sample</th>\n",
       "    </tr>\n",
       "  </thead>\n",
       "  <tbody>\n",
       "    <tr>\n",
       "      <th>0</th>\n",
       "      <td>valid barcode</td>\n",
       "      <td>5</td>\n",
       "      <td>lib_1</td>\n",
       "      <td>sample_1</td>\n",
       "    </tr>\n",
       "    <tr>\n",
       "      <th>1</th>\n",
       "      <td>invalid barcode</td>\n",
       "      <td>3</td>\n",
       "      <td>lib_1</td>\n",
       "      <td>sample_1</td>\n",
       "    </tr>\n",
       "    <tr>\n",
       "      <th>2</th>\n",
       "      <td>unparseable barcode</td>\n",
       "      <td>2</td>\n",
       "      <td>lib_1</td>\n",
       "      <td>sample_1</td>\n",
       "    </tr>\n",
       "    <tr>\n",
       "      <th>3</th>\n",
       "      <td>low quality barcode</td>\n",
       "      <td>1</td>\n",
       "      <td>lib_1</td>\n",
       "      <td>sample_1</td>\n",
       "    </tr>\n",
       "    <tr>\n",
       "      <th>4</th>\n",
       "      <td>failed chastity filter</td>\n",
       "      <td>0</td>\n",
       "      <td>lib_1</td>\n",
       "      <td>sample_1</td>\n",
       "    </tr>\n",
       "  </tbody>\n",
       "</table>\n",
       "</div>"
      ],
      "text/plain": [
       "                     fate  count library    sample\n",
       "0           valid barcode      5   lib_1  sample_1\n",
       "1         invalid barcode      3   lib_1  sample_1\n",
       "2     unparseable barcode      2   lib_1  sample_1\n",
       "3     low quality barcode      1   lib_1  sample_1\n",
       "4  failed chastity filter      0   lib_1  sample_1"
      ]
     },
     "execution_count": 19,
     "metadata": {},
     "output_type": "execute_result"
    }
   ],
   "source": [
    "fates"
   ]
  },
  {
   "cell_type": "markdown",
   "metadata": {},
   "source": [
    "## Add barcodes to variant table\n",
    "We add the barcodes `count` data frame to the variant table using [CodonVariantTable.add_sample_counts_df](https://jbloomlab.github.io/dms_variants/dms_variants.codonvarianttable.html#dms_variants.codonvarianttable.CodonVariantTable.add_sample_counts_df):"
   ]
  },
  {
   "cell_type": "code",
   "execution_count": 20,
   "metadata": {},
   "outputs": [
    {
     "name": "stdout",
     "output_type": "stream",
     "text": [
      "Here are the counts added to the variant table:\n"
     ]
    },
    {
     "data": {
      "text/html": [
       "<div>\n",
       "<style scoped>\n",
       "    .dataframe tbody tr th:only-of-type {\n",
       "        vertical-align: middle;\n",
       "    }\n",
       "\n",
       "    .dataframe tbody tr th {\n",
       "        vertical-align: top;\n",
       "    }\n",
       "\n",
       "    .dataframe thead th {\n",
       "        text-align: right;\n",
       "    }\n",
       "</style>\n",
       "<table border=\"1\" class=\"dataframe\">\n",
       "  <thead>\n",
       "    <tr style=\"text-align: right;\">\n",
       "      <th></th>\n",
       "      <th>library</th>\n",
       "      <th>sample</th>\n",
       "      <th>barcode</th>\n",
       "      <th>count</th>\n",
       "      <th>variant_call_support</th>\n",
       "      <th>codon_substitutions</th>\n",
       "      <th>aa_substitutions</th>\n",
       "      <th>n_codon_substitutions</th>\n",
       "      <th>n_aa_substitutions</th>\n",
       "    </tr>\n",
       "  </thead>\n",
       "  <tbody>\n",
       "    <tr>\n",
       "      <th>0</th>\n",
       "      <td>lib_1</td>\n",
       "      <td>sample_1</td>\n",
       "      <td>ATTCCCGT</td>\n",
       "      <td>2</td>\n",
       "      <td>1</td>\n",
       "      <td>CAG1CTA AGA7GCT</td>\n",
       "      <td>Q1L R7A</td>\n",
       "      <td>2</td>\n",
       "      <td>2</td>\n",
       "    </tr>\n",
       "    <tr>\n",
       "      <th>1</th>\n",
       "      <td>lib_1</td>\n",
       "      <td>sample_1</td>\n",
       "      <td>TCACAACC</td>\n",
       "      <td>2</td>\n",
       "      <td>1</td>\n",
       "      <td></td>\n",
       "      <td></td>\n",
       "      <td>0</td>\n",
       "      <td>0</td>\n",
       "    </tr>\n",
       "    <tr>\n",
       "      <th>2</th>\n",
       "      <td>lib_1</td>\n",
       "      <td>sample_1</td>\n",
       "      <td>TACGATTA</td>\n",
       "      <td>1</td>\n",
       "      <td>1</td>\n",
       "      <td>TCT9AAA</td>\n",
       "      <td>S9K</td>\n",
       "      <td>1</td>\n",
       "      <td>1</td>\n",
       "    </tr>\n",
       "  </tbody>\n",
       "</table>\n",
       "</div>"
      ],
      "text/plain": [
       "  library    sample   barcode  count  variant_call_support  \\\n",
       "0   lib_1  sample_1  ATTCCCGT      2                     1   \n",
       "1   lib_1  sample_1  TCACAACC      2                     1   \n",
       "2   lib_1  sample_1  TACGATTA      1                     1   \n",
       "\n",
       "  codon_substitutions aa_substitutions  n_codon_substitutions  \\\n",
       "0     CAG1CTA AGA7GCT          Q1L R7A                      2   \n",
       "1                                                           0   \n",
       "2             TCT9AAA              S9K                      1   \n",
       "\n",
       "   n_aa_substitutions  \n",
       "0                   2  \n",
       "1                   0  \n",
       "2                   1  "
      ]
     },
     "execution_count": 20,
     "metadata": {},
     "output_type": "execute_result"
    }
   ],
   "source": [
    "variants.add_sample_counts_df(counts)\n",
    "\n",
    "print(f\"Here are the counts added to the variant table:\")\n",
    "variants.variant_count_df"
   ]
  },
  {
   "cell_type": "markdown",
   "metadata": {},
   "source": [
    "Make sure these counts are as expected from the simulation parameters:"
   ]
  },
  {
   "cell_type": "code",
   "execution_count": 21,
   "metadata": {
    "attributes": {
     "classes": [],
     "id": "",
     "n": "14"
    }
   },
   "outputs": [],
   "source": [
    "pd.testing.assert_frame_equal(\n",
    "    simulated_barcode_counts.sort_values(\"barcode\").reset_index(drop=True),\n",
    "    (\n",
    "        variants.variant_count_df[[\"library\", \"barcode\", \"count\"]]\n",
    "        .sort_values(\"barcode\")\n",
    "        .reset_index(drop=True)\n",
    "    ),\n",
    ")"
   ]
  },
  {
   "cell_type": "markdown",
   "metadata": {},
   "source": [
    "## Look at the barcode-read fates\n",
    "Now we look in more detail at the barcode-read `fates` data frame that tells what happened to the barcode reads.\n",
    "First, we make sure the correct number of reads fall in each category based on the simulation parameters:"
   ]
  },
  {
   "cell_type": "code",
   "execution_count": 22,
   "metadata": {},
   "outputs": [],
   "source": [
    "pd.testing.assert_frame_equal(\n",
    "    fates[[\"fate\", \"count\"]],\n",
    "    pd.DataFrame(\n",
    "        [\n",
    "            (\"valid barcode\", simulated_barcode_counts[\"count\"].sum()),\n",
    "            (\"invalid barcode\", n_invalid),\n",
    "            (\"unparseable barcode\", n_unparseable),\n",
    "            (\"low quality barcode\", n_low_quality),\n",
    "            (\"failed chastity filter\", 0),\n",
    "        ],\n",
    "        columns=[\"fate\", \"count\"],\n",
    "    ),\n",
    ")"
   ]
  },
  {
   "cell_type": "markdown",
   "metadata": {},
   "source": [
    "Now plot the barcode-read fates using [plotnine](https://plotnine.readthedocs.io) for ggplot2-like plotting.\n",
    "The plot below shows the valid barcodes in orange and all others in gray:"
   ]
  },
  {
   "cell_type": "code",
   "execution_count": 23,
   "metadata": {},
   "outputs": [
    {
     "data": {
      "image/png": "[encoded data removed]",
      "text/plain": [
       "<Figure size 280x308 with 1 Axes>"
      ]
     },
     "metadata": {
      "needs_background": "light"
     },
     "output_type": "display_data"
    }
   ],
   "source": [
    "barcode_fate_plot = (\n",
    "    ggplot(\n",
    "        fates.assign(\n",
    "            sample=lambda x: pd.Categorical(\n",
    "                x[\"sample\"], x[\"sample\"].unique(), ordered=True\n",
    "            ),\n",
    "            fate=lambda x: pd.Categorical(x[\"fate\"], x[\"fate\"].unique(), ordered=True),\n",
    "            is_valid=lambda x: x[\"fate\"] == \"valid barcode\",\n",
    "        ),\n",
    "        aes(\"fate\", \"count\", fill=\"is_valid\"),\n",
    "    )\n",
    "    + geom_bar(stat=\"identity\")\n",
    "    + facet_grid(\"sample ~ library\")\n",
    "    + facet_grid(\"sample ~ library\")\n",
    "    + scale_fill_manual(CBPALETTE, guide=False)\n",
    "    + theme(\n",
    "        figure_size=(\n",
    "            1.4 * (1 + len(fates[\"library\"].unique())),\n",
    "            1.4 * (1.2 + len(fates[\"sample\"].unique())),\n",
    "        ),\n",
    "        axis_text_x=element_text(angle=90),\n",
    "        panel_grid_major_x=element_blank(),\n",
    "    )\n",
    "    + scale_y_continuous(\n",
    "        labels=dms_variants.utils.latex_sci_not, name=\"number of reads\"\n",
    "    )\n",
    ")\n",
    "\n",
    "_ = barcode_fate_plot.draw()"
   ]
  }
 ],
 "metadata": {
  "kernelspec": {
   "display_name": "Python 3",
   "language": "python",
   "name": "python3"
  },
  "language_info": {
   "codemirror_mode": {
    "name": "ipython",
    "version": 3
   },
   "file_extension": ".py",
   "mimetype": "text/x-python",
   "name": "python",
   "nbconvert_exporter": "python",
   "pygments_lexer": "ipython3",
   "version": "3.6.7"
  },
  "toc": {
   "nav_menu": {},
   "number_sections": false,
   "sideBar": true,
   "skip_h1_title": false,
   "toc_cell": false,
   "toc_position": {},
   "toc_section_display": true,
   "toc_window_display": true
  }
 },
 "nbformat": 4,
 "nbformat_minor": 4
}
